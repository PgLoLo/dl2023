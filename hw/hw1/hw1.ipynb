{
 "cells": [
  {
   "cell_type": "markdown",
   "metadata": {
    "id": "9UBCQSvnL9J0"
   },
   "source": [
    "# Problem Set 1 (20 + 40 + 30 = 90 points)"
   ]
  },
  {
   "cell_type": "markdown",
   "metadata": {
    "id": "ThKPiYZdMIqv"
   },
   "source": [
    "## Important information\n",
    "1.  We provide signatures of the functions that you have to implement. Make sure you follow the signatures defined, otherwise your coding solutions will not be graded.\n",
    "\n",
    "2.  Please submit the single Jupyter Notebook file, where only Python and Markdown/$\\LaTeX$ are used. Any hand-written solutions inserted by photos or in any other way **are prohibitive and will not be graded**. If you will have any questions about using Markdown, ask them!\n",
    "3.  The works will be checked for **plagiarism**. The score will be divided by the number of similar works.\n",
    "\n",
    "4. Some tasks in this assignment are bonus. It means that you can get maximum score for this assignment even if you ignore these tasks. However, if you get $y$ points for bonus tasks and $x$ points for regular tasks, then your score for the assignment will be $\\min(90, x+y)$. If $x + y > 90$, then we will label your submission and take into account in the final grade releasing (e.g. in the border case)."
   ]
  },
  {
   "cell_type": "markdown",
   "metadata": {
    "id": "UdiykEAZUB8b"
   },
   "source": [
    "## Problem 1. QR backpropagation (20 pts)\n",
    "\n",
    "Our goal is to write an orthogonalization layer, that for an arbitrary rectangular matrix $A$ produces an orthonormal matrix $Q$ and (optionally) an upper triangualr matrix $R$ such that $A = QR$. \n",
    "In other words, we need to compute the QR decomposition.\n",
    "\n",
    "There are problems when one need to optimize over orthogonal matrices, so using such layer can be a solution.\n",
    "\n",
    "A standard algorithm to compute the QR decomposition is the Gram-Schmidt process.\n",
    "For the linearly independent set of vectors $a_1,\\dots,a_n$ (that are defined with the matrix $A$) it computes matrix $Q$ that contains orthonormalized set of vectors $q_1,\\dots,q_n$.\n",
    "\n",
    "This algorithm is listed below.\n",
    "\n",
    "$$\n",
    "\\begin{split}\n",
    "u_1 &= v_1, \\\\\n",
    "u_2 &= v_2 - \\frac{(v_2, u_1)}{(u_1, u_1)} u_1, \\\\\n",
    "\\dots \\\\\n",
    "u_n &= v_n - \\frac{(v_n, u_1)}{(u_1, u_1)} u_1 - \\frac{(v_n, u_2)}{(u_2, u_2)} u_2 - \\dots - \\frac{(v_n, u_{n-1})}{(u_{n-1}, u_{n-1})} u_{n-1}.\n",
    "\\end{split}\n",
    "$$\n",
    "\n",
    "Obtained $u_1, \\dots, u_n$ are orthogonal vectors in exact arithmetics. Then to make the system orthonormal you should divide each of the vectors by its norm: $u_i := u_i/\\|u_i\\|$.\n",
    "\n",
    "We have $A = QR$. \n",
    "Matrix $Q$ consists of vectors $u_1, \\dots, u_n$. \n",
    "Now let's look at the matrix $R$. \n",
    "\n",
    "$Q^*A = R$. \n",
    "So $R_{i, j} = (u_i, v_j)$ (assuming $u_i$ is already normalized). \n",
    "And it is exactly what we see in Gram-Schmidt algorithm:\n",
    "\n",
    "$$ v_n = \\frac{(v_n, u_1)}{(u_1, u_1)} u_1 + \\frac{(v_n, u_2)}{(u_2, u_2)} u_2 + \\dots + \\frac{(v_n, u_{n-1})}{(u_{n-1}, u_{n-1})} u_{n-1} + u_n.$$ \n",
    "\n",
    "This is the representation of vectors $v_i$ in our newly computed ortonormal basis. \n",
    "Thus they form matrix $R$. \n",
    "These coefficients are in the upper triangular part of $R$, because when $i>j$ we get $R_{i j} = 0$, because then we get sum of scalar products of orthogonal vectors. \n",
    "\n",
    "There is a more [computationally stable version of the Gram-Schmidt algorithm](https://en.wikipedia.org/wiki/Gram–Schmidt_process#Numerical_stability) that reduces the loss of orthogonality in matrix $Q$. \n",
    "This algorithm is called the modified Gram-Schmidt algorithm.\n",
    "\n",
    "The loop of orthogonalization is the same, except for the computing the vector $u_k$ simultaneously:\n",
    "\n",
    "$$ u_n = v_n - \\frac{(v_n, u_1)}{(u_1, u_1)} u_1 - \\frac{(v_n, u_2)}{(u_2, u_2)} u_2 - \\dots - \\frac{(v_n, u_{n-1})}{(u_{n-1}, u_{n-1})} u_{n-1}\n",
    "u_n$$\n",
    "\n",
    "$$ \n",
    " = v_n - \\frac{(v_n, u_1)}{(u_1, u_1)} u_1 - \\frac{(v_n, u_2)}{(u_2, u_2)} u_2 - \\dots - \\frac{(v_n, u_{n-1})}{(u_{n-1}, u_{n-1})} u_{n-1},\n",
    "$$\n",
    "\n",
    "one need to iteratively update $u_k$ step-by-step for a better numerical stability.\n",
    "\n",
    "$$\n",
    "\\begin{split}\n",
    "u_k &= v_k - \\frac{(v_k, u_1)}{(u_1, u_1)} u_1, \\\\\n",
    "u_k &= u_k - \\frac{(u_k, u_2)}{(u_2, u_2)} u_2, \\\\\n",
    "\\dots \\\\\n",
    "u_k &= u_k - \\frac{(u_k, u_{k-1})}{(u_{k-1}, u_{k-1})} u_{k-1}. \\\\\n",
    "\\end{split}\n",
    "$$\n"
   ]
  },
  {
   "cell_type": "markdown",
   "metadata": {
    "id": "QcIXodrhzdE_"
   },
   "source": [
    "You are supposed to do the following tasks:\n",
    "\n",
    "__1.__ (2 points) Implement the modified Gram-Schmidt algorithm in a function ```modified_gram_schmidt(A)``` using PyTorch.\n",
    "\n",
    "__2.__ (1 point) Create a random matrix $A \\in \\mathbb{R}^{m \\times n}$, $m \\gg n$ and compute gradient $\\frac{\\partial Q}{\\partial A}$ using backpropagation through your implementation of QR decomposition (```modified_gram_schmidt(A)```).\n",
    "\n",
    "__3.__ (2 points) Compute gradient $\\frac{\\partial Q}{\\partial A}$ using backpropagation through built-in PyTorch function for computing QR decomposition."
   ]
  },
  {
   "cell_type": "code",
   "execution_count": null,
   "metadata": {
    "id": "zsQwnQOR0x4f"
   },
   "outputs": [],
   "source": [
    "# install dependencies\n",
    "!pip install memory-profiler\n",
    "import torch\n",
    "\n",
    "def modified_gram_schmidt(A):\n",
    "    \"\"\"\n",
    "    Computes QR decomposition of matrix A\n",
    "    \n",
    "    Input: \n",
    "        A - n x m matrix\n",
    "    Output:\n",
    "        Q - n x m orthonormal matrix\n",
    "        R - m x m upper triangular matrix\n",
    "    \"\"\"\n",
    "    \n",
    "    # Your code here\n",
    "    \n",
    "    return Q, R\n",
    "\n",
    "m = 100\n",
    "n = 20\n",
    "A = torch.rand((m, n))\n",
    "\n",
    "# Your code is below\n",
    "Q1, R1 = # torch version\n",
    "Q2, R2 = # modified_gram_schmidt\n",
    "\n",
    "abacaba\n",
    "\n",
    "# TODO compute gradients"
   ]
  },
  {
   "cell_type": "markdown",
   "metadata": {
    "id": "Inu5xtKg1MMv"
   },
   "source": [
    "__4.__ (13 points total) Write the backpropagation $\\frac{\\partial Q}{\\partial A}$ from scratch with PyTorch. Do not forget to use ```requires_grad=False``` to disable PyTorch autograd accumulation of the gradient.\n",
    "\n",
    "  a) (2 points) Derive analytically the gradient $\\frac{\\partial y}{\\partial x}$ of vector normalization operation $y := x/\\|x\\|$.\n",
    "\n",
    "  b) (1 point) Implement backward through the vector normalization operation (can be implemented either in the function ```backward_normalization``` or further inside the code).\n",
    "\n",
    "  c) (2 points) Derive analytically the gradient $\\frac{\\partial u_k}{\\partial v_j}$ of the othonormalization operation:\n",
    "\n",
    "$$\n",
    "\\begin{split}\n",
    "u_k &= v_k - \\frac{(v_k, u_1)}{(u_1, u_1)} u_1, \\\\\n",
    "u_k &= u_k - \\frac{(u_k, u_2)}{(u_2, u_2)} u_2, \\\\\n",
    "\\dots \\\\\n",
    "u_k &= u_k - \\frac{(u_k, u_{k-1})}{(u_{k-1}, u_{k-1})} u_{k-1}. \\\\\n",
    "\\end{split}\n",
    "$$\n",
    "\n",
    "  d) (2 points) Implement backward through the othonormalization operation (can be implemented either in the function ```backward_orthogonalization``` or further inside the code).\n",
    "\n",
    "  e) (1 point) Implement the QR forward pass (almost identically to ```modified_gram_schmidt```, but with storing the additional data nesessary for backpropagation) with the method ```forward``` of class ```QR``` (see template below).\n",
    "\n",
    "  f) (5 points) Implement the QR backward pass using previously implemented functions and place it in the method ```backward``` of class ```QR```  (see template below).\n",
    "\n",
    "__5.__ (2 points) Look at obtained $Q$ and $R$ matrices for each approach (steps 2, 3, 4), verify that $A \\approx QR$ and $Q^TQ \\approx I$. Measure the required memory for backpropagation (eg. with ```memory_profiler```). \n",
    "Compare the results of three approaches: \n",
    "\n",
    "- gradient from the PyTorch built-in function\n",
    "- gradient from PyTorch autograd applied to your function ```modified_gram_schmidt```\n",
    "- your custom implementation of backward step from analytical expressions. \n",
    "\n",
    "Compare the theoretical asymptotics of the memory usage for the backpropagation of the modified Gram-Schmidt algorithm with every approach listed above. \n",
    "What data is needed for backpropagation and thus affects the memory consumption?"
   ]
  },
  {
   "cell_type": "markdown",
   "metadata": {
    "id": "ivjX9_-i3BD0"
   },
   "source": [
    "### Your solution\n",
    "$\\frac{\\partial y}{\\partial x} = $\n",
    "\n",
    "$\\frac{\\partial u_k}{\\partial v_j} = $"
   ]
  },
  {
   "cell_type": "code",
   "execution_count": null,
   "metadata": {
    "id": "y7dlEMDu3EDc"
   },
   "outputs": [],
   "source": [
    "def backward_normalization(...):\n",
    "    # Your code \n",
    "\n",
    "def backward_orthogonalization(...):\n",
    "    # Your code \n",
    "\n",
    "class QR():\n",
    "    def forward(self, A):\n",
    "        \"\"\"\n",
    "        Computes QR decomposition of matrix A\n",
    "\n",
    "        Input: \n",
    "            A - n x m matrix\n",
    "        Output:\n",
    "            Q - n x m orthonormal matrix\n",
    "            R - m x m upper triangular matrix\n",
    "        \"\"\"\n",
    "\n",
    "        # Your code\n",
    "    \n",
    "        return Q, R\n",
    "        \n",
    "\n",
    "    def backward(self, grad_output):\n",
    "        \"\"\"\n",
    "        Computes QR decomposition of matrix A\n",
    "\n",
    "        Input: \n",
    "            grad_output - n x m matrix, derivative of the previous layer L: dL/dQ (torch.ones in our case)\n",
    "        Output:\n",
    "            grad_input - n x m derivative dL/dA\n",
    "        \"\"\"\n",
    "        # Your code\n",
    "         \n",
    "        return grad_input"
   ]
  },
  {
   "cell_type": "code",
   "execution_count": null,
   "metadata": {
    "id": "gWTu_qrh3L5z"
   },
   "outputs": [],
   "source": [
    "qr = QR()\n",
    "Q, R = qr.forward(A)\n",
    "A_autograd = A.clone().detach().requires_grad_(True)\n",
    "Q_autograd, R_autograd = qr.forward(A_autograd)\n",
    "Q_autograd.backward(torch.ones_like(Q))\n",
    "print('Difference between gradients:', float(torch.linalg.norm(qr.backward(torch.ones_like(Q)) - A_autograd.grad)))"
   ]
  },
  {
   "cell_type": "markdown",
   "metadata": {
    "id": "TSj7bUj03S2W"
   },
   "source": [
    "### Bonus tasks\n",
    "\n",
    "__6.__ (10 points) Modify the previous code to be memory-efficient. \n",
    "\n",
    "Hint: not all intermediate variables need to be stored for backpropagation.\n",
    "\n",
    "__7.__ (3 points) Again, measure the required memory for backpropagation. Explain the theoretical asymptotics of the memory usage for the memory-efficient backpropagation."
   ]
  },
  {
   "cell_type": "code",
   "execution_count": null,
   "metadata": {
    "id": "lybYxQ214EoQ"
   },
   "outputs": [],
   "source": [
    "# Your solution is here"
   ]
  },
  {
   "cell_type": "markdown",
   "metadata": {
    "id": "Xb5PD8726joj"
   },
   "source": [
    "## Problem 2. Voice classification (40 pts)\n",
    "\n",
    "In this assigment you will have a chance to develop a voice-anti-spoofing algorithm, enhancing your skills in standard PyTorch classificaton development pipeline.\n",
    "\n",
    "There are several types of attack: \n",
    "- replay attacks, when one records and repeats someone's voice, \n",
    "- impresario attacks, when the speaker mimics the target's voice like an actor and \n",
    "- the most interesting are deepfake attack, based on text-to-speech, voice cloning and voice conversion algorithms. \n",
    "\n",
    "In this work we will focus on deepfake attack and try to differ them from genuine (or bona-fide) speech.\n",
    "\n",
    "We will use data, provided by organisers of biannual [ASVspoof](https://www.asvspoof.org/) contest. More precisely, we will take subpart `ASVspoof_2019LA` dataset, which consist of 17 different attacks DF attack types and bona-fide. All recordings were augmented to be close to real telephone recordings. We will not take 2021 data, but if you want, you can use 2021 data as test and 2019 data as train and validation.\n",
    "\n",
    "The initital dataset can be downloaded from [here](https://datashare.ed.ac.uk/handle/10283/3336). However, we [provide you smaller subsample](https://drive.google.com/drive/folders/1-CyCFA3komqrtyoYj21y5gzfh_vcKBYx?usp=share_link) of dev (val) and eval (test) parts to make work in colab relatively possible :) . You can download it locally or put into you Drive. You will need around 3GB free space, think about creating a new account if you don't have enough.\n",
    "\n",
    "We encourage you to look through data [overview](https://datashare.ed.ac.uk/bitstream/handle/10283/3336/asvspoof2019_evaluation_plan.pdf?sequence=1&isAllowed=y) and result summary [paper](https://datashare.ed.ac.uk/bitstream/handle/10283/3336/asvspoof2019_Interspeech2019_submission.pdf?sequence=2&isAllowed=y).\n",
    "\n",
    "One important thing to notice: main application of this algorithms is in voice-biometry, when we want to stop illegal intruder. Thus, there are two (or 3) common ways of developing VAS algorithms: speaker-aware, we we train verification model which is sensitive to spoofing and differs bona-fide and impostor or we combinde verification score and score of VAS model to decide, whetherr the person is the same, and finally simple and general countermeasures setup, when given audio and model should predict whether it is a spoof or bona-fide. We will work on the last setup.\n",
    "\n",
    "**Important: feel free not to use pre-defined functions, you can solve the task as you wish or change functions/pipelines significantly.** "
   ]
  },
  {
   "cell_type": "markdown",
   "metadata": {
    "id": "bhgZfMu8VObW"
   },
   "source": [
    "#### Preparations\n",
    "It is a good practice to log and check you experiments. In this assignemnt, we ask you to sign up in wandb, log your experiments and give us a link to your project and attach plots/report in the notebook with your solution."
   ]
  },
  {
   "cell_type": "code",
   "execution_count": null,
   "metadata": {
    "id": "cr0giQiPVS-3"
   },
   "outputs": [],
   "source": [
    "!pip install wandb\n",
    "\n",
    "import copy\n",
    "import os\n",
    "import sys\n",
    "import time\n",
    "\n",
    "import pandas as pd\n",
    "import numpy as np\n",
    "import matplotlib.pyplot as plt\n",
    "from tqdm import tqdm\n",
    "import IPython.display as ipd\n",
    "from typing import Optional\n",
    "import torch\n",
    "import torch.nn as nn\n",
    "import torchaudio\n",
    "# import librosa\n",
    "import sklearn.metrics as metrics\n",
    "import wandb\n",
    "from torchvision.models import resnet50, resnet18\n",
    "from torch.utils.data import Dataset, DataLoader\n",
    "from torch.nn.functional import sigmoid\n",
    "from scipy.optimize import brentq\n",
    "from scipy.interpolate import interp1d\n",
    "from sklearn.model_selection import train_test_split\n",
    "from sklearn.preprocessing import LabelEncoder\n",
    "from sklearn.metrics import roc_auc_score, roc_curve"
   ]
  },
  {
   "cell_type": "code",
   "execution_count": null,
   "metadata": {
    "id": "hngpu66vVbZv"
   },
   "outputs": [],
   "source": [
    "# https://wandb.ai/quickstart\n",
    "\n",
    "!wandb login  # and paste your API key from https://wandb.ai/authorize"
   ]
  },
  {
   "cell_type": "code",
   "execution_count": null,
   "metadata": {
    "id": "uswFfpAtVdji"
   },
   "outputs": [],
   "source": [
    "wandb.init(project=\"voice-anti-spoofing\", name = \"test_run\", tags = [\"SmallModel\", \"LA\"])\n",
    "SEED = 42  # do not change it\n",
    "# mount drive if you wish\n",
    "\n",
    "from google.colab import drive\n",
    "drive.mount('/content/drive/')\n",
    "\n",
    "%cd /content/drive/MyDrive/"
   ]
  },
  {
   "cell_type": "code",
   "execution_count": null,
   "metadata": {
    "id": "PwlxTkBoVi83"
   },
   "outputs": [],
   "source": [
    "!ls for_colab"
   ]
  },
  {
   "cell_type": "code",
   "execution_count": null,
   "metadata": {
    "id": "T92oyJj_Vl5o"
   },
   "outputs": [],
   "source": [
    "# to make dataframes\n",
    "path_la_train = \"for_colab/ASVspoof2019_LA_cm_protocols/ASVspoof2019.LA.cm.train.trn.txt\"\n",
    "path_la_dev = \"for_colab/ASVspoof2019_LA_cm_protocols/ASVspoof2019.LA.cm.dev.trl.txt\"\n",
    "path_la_eval = \"for_colab/ASVspoof2019_LA_cm_protocols/ASVspoof2019.LA.cm.eval.trl.txt\"\n",
    "\n",
    "flac_la_train = \"for_colab/train_flac/\"\n",
    "flac_la_dev = \"for_colab/flac_dev/\"\n",
    "flac_la_eval = \"for_colab/flac_eval/\""
   ]
  },
  {
   "cell_type": "code",
   "execution_count": null,
   "metadata": {
    "id": "WUUYCfLPVnzy"
   },
   "outputs": [],
   "source": [
    "columns = [\"speaker_id\", \"audio_file_name\", \"system_id\", \"skip\", \"class\"]\n",
    "df = pd.read_csv(path_la_train, sep=\" \", header=None)\n",
    "df.columns = columns\n",
    "df.head()"
   ]
  },
  {
   "cell_type": "code",
   "execution_count": null,
   "metadata": {
    "id": "e9gD9ZaFVqcx"
   },
   "outputs": [],
   "source": [
    "def makedf_ultimate(txt_file_path, flac_path, dataset_name='ASVspoof', data_type='LA', year=2019):\n",
    "    \n",
    "    if dataset_name=='ASVspoof':\n",
    "        name = dataset_name+str(year)+data_type\n",
    "        if data_type=='DF':\n",
    "            attack_name = 'deepfake'\n",
    "        elif data_type=='LA':\n",
    "            attack_name = 'deepfake'\n",
    "        else:\n",
    "            attack_name = 'replay'\n",
    "            \n",
    "        df = pd.read_csv(txt_file_path, sep=\" \", header=None)\n",
    "\n",
    "            \n",
    "        if year == 2019:\n",
    "            df.columns = [\"speaker_id\", \"audio_file_name\", \"system_id\", \"skip\", \"class\"]\n",
    "            df['dataset'] = name\n",
    "            di = {'bonafide':0, 'spoof':1} # assign classes\n",
    "\n",
    "            df['class'] = df['class'].map(di)\n",
    "            # m = df['class'] == 0\n",
    "            # df.loc[m, 'attack'] = 'noattack'\n",
    "            df['audio_path'] = flac_path + df['audio_file_name'] + '.flac'\n",
    "            df = df[[\"speaker_id\", \"audio_path\", \"class\"]]\n",
    "        \n",
    "    # df = df[['audio_path', 'class', 'dataset', 'attack']]\n",
    "    df = df[[\"speaker_id\", \"audio_path\", \"class\"]]\n",
    "    df = df.reset_index(drop=True)\n",
    "    return df"
   ]
  },
  {
   "cell_type": "code",
   "execution_count": null,
   "metadata": {
    "id": "75LehptwVrGd"
   },
   "outputs": [],
   "source": [
    "df_train = makedf_ultimate(path_la_train, flac_la_train, year=2019, data_type='LA')\n",
    "df_dev = makedf_ultimate(path_la_dev, flac_la_dev, year=2019, data_type='LA')\n",
    "df_eval = makedf_ultimate(path_la_eval, flac_la_eval, year=2019, data_type='LA')"
   ]
  },
  {
   "cell_type": "markdown",
   "metadata": {
    "id": "waWjZX6pWAsv"
   },
   "source": [
    "**Task 1.1 (2 points)** Check data distribution. Is it imbalanced? How are you going to deal with it?\n",
    "\n",
    "Hints: upsampling, downsampling, add new data, e.g. from this [source](https://commonvoice.mozilla.org/) (but will new audios have the same distribution?), or adjust loss functions.\n",
    "\n",
    "**Answer**\n",
    "\n",
    "..."
   ]
  },
  {
   "cell_type": "code",
   "execution_count": null,
   "metadata": {
    "id": "41RI-j9uVs7K"
   },
   "outputs": [],
   "source": [
    "# for dev and eval, let's simplify the task and use smaller amount of data, but balanced to better understand metrics\n",
    "# we need this functions, because it removes unuploaded data from our dataframes\n",
    "def balanced_split(df):\n",
    "    k = min(len(df[df['class']==0]), len(df[df['class']==1]))\n",
    "    print(k)\n",
    "    df_bf = df[df['class']==0].sample(frac=1, random_state=SEED).iloc[0:k]\n",
    "    df_spoof = df[df['class']==1].sample(frac=1, random_state=SEED).iloc[0:k]\n",
    "\n",
    "    df_bf = df_bf.append([df_spoof], ignore_index=True)\n",
    "    df_bf = df_bf.reset_index(drop=True)\n",
    "    return df_bf\n",
    "\n",
    "df_eval = balanced_split(df_eval)\n",
    "df_dev = balanced_split(df_dev)"
   ]
  },
  {
   "cell_type": "code",
   "execution_count": null,
   "metadata": {
    "id": "RMWO8frNWJwO"
   },
   "outputs": [],
   "source": [
    "# for audio manipulations we advise you to use torchaudio or librosa\n",
    "x, sr = torchaudio.load(df_eval[\"audio_path\"].iloc[0])"
   ]
  },
  {
   "cell_type": "code",
   "execution_count": null,
   "metadata": {
    "id": "9dHNyyYeWL33"
   },
   "outputs": [],
   "source": [
    "ipd.display(ipd.Audio(x, rate=sr))"
   ]
  },
  {
   "cell_type": "markdown",
   "metadata": {
    "id": "ilgomkb8WP7u"
   },
   "source": [
    "**Task 1.2. (1 point)** Display several spoof and bona-fide audios. Can you hear the difference?"
   ]
  },
  {
   "cell_type": "code",
   "execution_count": null,
   "metadata": {
    "id": "J--_dFb5WNeM"
   },
   "outputs": [],
   "source": [
    "### Your code is here"
   ]
  },
  {
   "cell_type": "markdown",
   "metadata": {
    "id": "-CjF_z7hWV6r"
   },
   "source": [
    "### Custom dataset and Model\n",
    "\n",
    "You can find inspiration and hints in \n",
    "- https://pytorch.org/audio/stable/tutorials/audio_feature_extractions_tutorial.html\n",
    "- https://pytorch.org/tutorials/beginner/finetuning_torchvision_models_tutorial.html\n",
    "- https://pytorch.org/tutorials/beginner/fgsm_tutorial.html\n",
    "- https://pytorch.org/tutorials/beginner/data_loading_tutorial.html\n",
    "- https://pypi.org/project/audiomentations/ \n",
    "- https://pytorch.org/audio/stable/tutorials/audio_data_augmentation_tutorial.html\n",
    "- and any other blogposts about spectrograms"
   ]
  },
  {
   "cell_type": "markdown",
   "metadata": {
    "id": "vR8u_nfvWfO6"
   },
   "source": [
    "**Task 2.1 (5 points)** We can work with audios as with images, transforming into spectrograms. Here your task is to implement simple model, which receives raw wav (amplitudes, but probably already preprocced in dataset), transforms it into mel-spectrogram, changes amplitude to DB scale (if you want) and then procceses through the layers. You are free to use ready pre-trained backbones, e.g. from `torchvision.models` and fine-tune them. However, if you want to practise more, create something on your own. Large models with `requires_grad=True` for all parameters will probably result in problems on training in colab. "
   ]
  },
  {
   "cell_type": "code",
   "execution_count": null,
   "metadata": {
    "id": "_a_qzmwPWkm-"
   },
   "outputs": [],
   "source": [
    "class WavResNet(nn.Module):\n",
    "    def __init__(self, classes=None, resample=16000, n_mels=80, melspec_config=None):\n",
    "        super().__init__()\n",
    "        self.fbank = ...\n",
    "        self.to_db = ...\n",
    "        \n",
    "        model = ...\n",
    "        model.conv1 = ...\n",
    "        num_ftrs = ...\n",
    "        model.fc = nn.Linear(num_ftrs, classes)\n",
    "        self.network = model\n",
    "        # or create your own layers and use them in forward pass\n",
    "        \n",
    "    \n",
    "    def forward(self, x, wav_lens: Optional[torch.Tensor]=None):  # can check the length if you want. this is helpful for inference\n",
    "        mels = ...\n",
    "        mels_db = ...\n",
    "        mels_db = ...\n",
    "        out = ...\n",
    "        return out"
   ]
  },
  {
   "cell_type": "markdown",
   "metadata": {
    "id": "-r5R8d6cWny4"
   },
   "source": [
    "**Task 2.2 (1 point)**\n",
    "In your opinion, which approach is better for binary classification: \n",
    "- Model's last layer output has shape 1, train with BCE-like loss.\n",
    "- Model's last layer output has shape 2, train with cross-entropy like loss. \n",
    "\n",
    "**Task 2.3 (3 points)** Create custom dataset, which recieves ```df``` and returns preprocessed audio.\n",
    "\n",
    "**Task 2.4 (1 point)** Should we use augmentaions? If yes, which ones? "
   ]
  },
  {
   "cell_type": "code",
   "execution_count": null,
   "metadata": {
    "id": "GMY3RGZ_WzbI"
   },
   "outputs": [],
   "source": [
    "class DatasetWav(Dataset):\n",
    "\n",
    "    def __init__(self, data_frame, padding_sec=4, default_sr=16000, transform=None):\n",
    "        self.df = data_frame\n",
    "        self.padding_sec = padding_sec\n",
    "        self.default_sr = default_sr\n",
    "        self.labels = ...\n",
    "        self.paths = ...\n",
    "        self.vad = ...   # in this task you are free to ommit it in order to speed up calculations,\n",
    "                         # also the provided data should be rather clean\n",
    "    def __len__(self):\n",
    "        return \n",
    "    \n",
    "    def __getitem__(self, idx):\n",
    "\n",
    "        label = ...\n",
    "        path = ...\n",
    "        waveform , sr = ... # normalize=True\n",
    "        # transform waveform from stereo to mono channel \n",
    "        waveform = ...\n",
    "        resample_transform = torchaudio.transforms.Resample(orig_freq=sr, new_freq=self.default_sr) # should we use it for our data or can ommit? \n",
    "        waveform = ...\n",
    "        # waveform = self.vad(waveform)\n",
    "\n",
    "        # came up with idea, what to do if audio is longer or shorter than reuqired\n",
    "        if (len(waveform) < self.padding_sec * self.default_sr):\n",
    "          pass\n",
    "        else:\n",
    "          pass\n",
    "            \n",
    "        return x, label"
   ]
  },
  {
   "cell_type": "code",
   "execution_count": null,
   "metadata": {
    "id": "DSj8MUJkW0wy"
   },
   "outputs": [],
   "source": [
    "# check that works\n",
    "batch_size = None\n",
    "train_dataset_wavs = DatasetWav(df_train) #.iloc[0:200]\n",
    "train_dataloader_wavs = DataLoader(train_dataset_wavs, batch_size=batch_size, shuffle=True, num_workers=8)\n",
    "x, y = next(iter(train_dataloader_wavs))\n",
    "model = ...\n",
    "model(x)"
   ]
  },
  {
   "cell_type": "markdown",
   "metadata": {
    "id": "yhzKww_IW5Ej"
   },
   "source": [
    "### Train and Test functions\n",
    "**Task 3.0 (1 point)** What is the difference between `model.train()` and `model.eval()`? Does `model.eval()` mode take gradient statisitcs into account?\n",
    "\n",
    "**Task 3.1 (5 points)** Implement train and test functions, which iterate over all batches. Do logging of loss, accuracy on each batch and after every epoch. Check equal error rate EER, explain, what is it."
   ]
  },
  {
   "cell_type": "code",
   "execution_count": null,
   "metadata": {
    "id": "AtKSHUeEW3EM"
   },
   "outputs": [],
   "source": [
    "def calculate_eer(y, y_score):\n",
    "  fpr, tpr, thresholds = roc_curve(y, y_score, pos_label=1)\n",
    "  eer = brentq(lambda x : 1. - x - interp1d(fpr, tpr)(x), 0., 1.)\n",
    "  thresh = interp1d(fpr, thresholds)(eer)\n",
    "  return eer, thresh"
   ]
  },
  {
   "cell_type": "code",
   "execution_count": null,
   "metadata": {
    "id": "HOArRccuW-i3"
   },
   "outputs": [],
   "source": [
    "def train(model, dataloaders, criterion, optimizer, \n",
    "          num_epochs=3, scheduler=None, savename=None,\n",
    "          print_counter=10, decay_factor=10,\n",
    "          device=torch.device(\"cuda\")):\n",
    "    pass\n",
    "\n",
    "def test(model, test_dataloader, criterion=None, device=None, savename=None):\n",
    "\n",
    "    pass"
   ]
  },
  {
   "cell_type": "markdown",
   "metadata": {
    "id": "FBWhPKj1XDJo"
   },
   "source": [
    "### Main loop \n",
    "\n",
    "**Task 4.1 (3 points)** What loss will you choose and why? What it should receive for input (logits, probs)? Explain your answer.\n",
    "Consider also:\n",
    "- https://medium.com/swlh/focal-loss-what-why-and-how-df6735f26616\n",
    "- https://libauc.org/\n",
    "\n",
    "\n",
    "**Task 4.2 (5 points)** Implement main function, which receives yaml or json config (or path to it) and train and test the model, save model checkpoints, and model's test predictions. At least, you should obain results better than random. It is good, if accuracy on test dataset is >= 0.75."
   ]
  },
  {
   "cell_type": "code",
   "execution_count": null,
   "metadata": {
    "id": "8ceTCHQBXWcB"
   },
   "outputs": [],
   "source": [
    "def main(config):\n",
    "    lr =  \n",
    "    epochs = \n",
    "    batch_size = \n",
    "    # wandb.init(project=\"voice-anti-spoofing\", name = \"test_run\", tags = [\"ResNet\", \"LA\"])\n",
    "    wandb.config = {\n",
    "      \"learning_rate\": lr,\n",
    "      \"epochs\": epochs,\n",
    "      \"batch_size\": batch_size\n",
    "    }\n",
    "\n",
    "    \n",
    "    # debug firstly on small subpart of dataset\n",
    "    train_dataset_wavs = DatasetWav() #.iloc[0:200]\n",
    "    train_dataloader_wavs = DataLoader()\n",
    "    val_dataset_wavs = \n",
    "    val_dataloader_wavs = \n",
    "    test_dataset_wavs =\n",
    "    test_dataloader_wavs = \n",
    "    dataloaders = {\"train\": train_dataloader_wavs, \"val\": val_dataloader_wavs}\n",
    "    \n",
    "    \n",
    "    device = \n",
    "    classes =                                             \n",
    "    model =                                                                              \n",
    "    model = model.to(device)\n",
    "    # freeze layers except the last one if you want\n",
    "    for param in model.parameters():\n",
    "      param.requires_grad = ...\n",
    "    model.network.fc.requires_grad_(...)\n",
    "                                                                                           \n",
    "    optimizer = \n",
    "    scheduler = \n",
    "    sc = torch.tensor([alpha, 1 - alpha]).to(device) # weights for loss\n",
    "    criterion = nn.CrossEntropyLoss(weight=sc)\n",
    "    \n",
    "    for_ckpts = \".\"\n",
    "    os.makedirs(for_ckpts, exist_ok=True)\n",
    "    \n",
    "    model, val_acc_history = train(...)\n",
    "    \n",
    "    y, probs = test(...)\n",
    "    \n",
    "    return y, probs\n",
    "\n",
    "y, probs = main(...)"
   ]
  },
  {
   "cell_type": "markdown",
   "metadata": {
    "id": "TrnoNpU8XdsU"
   },
   "source": [
    "Training might require a long time. So, you can try to use subpart of the dataset to receive rather good results. Also, you don't have to train for many epochs, 1 or even a half of epoch might be enough. Also consider to make some speedups in the model and dataset.\n",
    "\n",
    "Colab also might work unstable with lots of data. If this happens, think how to deal with it, e.g. restart the kernel and/or remove the majority of data from Drive and try to bugfix firstly, then do train and test separately. \n",
    "\n"
   ]
  },
  {
   "cell_type": "markdown",
   "metadata": {
    "id": "y3BT6qC2YQvG"
   },
   "source": [
    "**Task 4.3 (5 points)** Analyze the results. Play some audios with wrong predictions. Plot prediction distributions vs class. Is it possible to find better threshold?\n",
    "\n",
    "**Task 4.4 (5 points)** Discuss the results and your approaches + hyperparameters. If you can, run some experiments with different parameters.\n",
    "\n",
    " Write your ideas, what else you can try to improve the results in the future.\n",
    "\n",
    "**Task 4.5 (3 points)** Provide link to wandb project, or link to report. Upload best model's weights to Drive and provide a link with access right.\n"
   ]
  },
  {
   "cell_type": "code",
   "execution_count": null,
   "metadata": {
    "id": "SbxOjJDiY1Vi"
   },
   "outputs": [],
   "source": [
    "# Your solution is here"
   ]
  },
  {
   "cell_type": "markdown",
   "metadata": {
    "id": "Cz1krNfvYsBa"
   },
   "source": [
    "**Bonus task. (50 points)** \n",
    "\n",
    "So far, we didn't care about speaker_id and verification. Take verification model from whatever you want and create counter measure subnetwork, as described in this [article](https://sasv-challenge.github.io/pdfs/2022_descriptions/IDVoice.pdf). Train the model, as described there. ASVspoof also provides Enrollment(anchor) recordings. Try to make blending, to obtain better metrics for counter measures.\n",
    "\n",
    "These links might be helpful:\n",
    "- https://github.com/archinetai/surgeon-pytorch\n",
    "- https://www.kaggle.com/code/peter0749/additive-margin-softmax-loss-with-visualization"
   ]
  },
  {
   "cell_type": "markdown",
   "metadata": {
    "id": "gPwK-nRqmkTt"
   },
   "source": [
    "## Problem 3. (30 pts)\n",
    "\n",
    "### Task 1 (10 pts)\n",
    "\n",
    "For FCNN (Fully connected Neural Networks)\n",
    "\\begin{equation}\n",
    "f(x)=f_k\\left(f_{k-1}\\left(\\ldots\\left(f_0(x)\\right)\\right),\\right.\n",
    "\\end{equation}\n",
    "assume the nonlinearity function $\\sigma$ is ReLU and loss function $L$ is squared error loss function.\n",
    "Prove that the deep learning model is not unique for any datasets, i.e. the optimization problem \n",
    "\\begin{equation}\n",
    "\\min_\\theta \\ g(\\theta)=\\frac{1}{N} \\sum_{i=1}^N L\\left(y_i, \\hat{y}_i\\right), \\text{where} \\ \\ \\hat{y}_i=f\\left(x_i, \\theta\\right),\n",
    "\\end{equation} \n",
    "dose not have an unique global minimizer $\\theta$.\n",
    "\n",
    "### Task 2 (5 pts)\n",
    "\n",
    "The *softmax* activation function is \n",
    "\\begin{equation}\n",
    "\\mathrm{Softmax}(\\mathbf{z})_i=\\frac{e^{z_i}}{\\sum_{j=1}^K e^{z_j}} \\ \\text { for } \\  i=1, \\ldots, K \\text { and } \\mathbf{z}=\\left(z_1, \\ldots, z_K\\right) \\in \\mathbb{R}^K.\n",
    "\\end{equation}\n",
    "Suppose $\\mathbf{z} \\in \\mathbb{R}^K$, and $\\mathbf{a} \\in \\mathbb{R}^K$,\n",
    "Prove that for the optimization problem\n",
    "\\begin{equation}\n",
    "\\begin{aligned}\n",
    "& \\min_{\\mathbf{a}} \\ -\\langle\\mathbf{a}, \\mathbf{z}\\rangle+\\langle\\mathbf{a}, \\log \\mathbf{a}\\rangle \\\\\n",
    "& \\text { s.t. } \\sum_k^K \\mathbf{a}_{k}=1,\n",
    "\\end{aligned}\n",
    "\\end{equation}\n",
    "the minimizer is \n",
    "\\begin{equation}\n",
    "\\mathbf{a}^*=\\mathrm{Softmax}(\\mathbf{z}).\n",
    "\\end{equation}\n",
    "\n",
    "*Hint*: KKT optimality conditions and convexiy of the problem can help you to show the required equality\n",
    "\n",
    "### Task 3 (15 pts)\n",
    "\n",
    "For function $f(x)=x^2, x \\in \\left[0, 1\\right]$, \n",
    "\n",
    "1) prove that the neural network $\\hat f(x)$ based on the following structure has the approximation error \n",
    "\\begin{equation}\n",
    "|f(x)-\\hat f(x)|\\leq \\frac{1}{2^{n-1}}\n",
    "\\end{equation}\n",
    "where $n$ is the number of layers in the nural network.\n",
    "\n",
    "![image.png](data:image/png;base64,iVBORw0KGgoAAAANSUhEUgAABLcAAAIoCAYAAACbGAmiAAAAAXNSR0IArs4c6QAAAARnQU1BAACxjwv8YQUAAAAJcEhZcwAADsMAAA7DAcdvqGQAAP+lSURBVHhe7N0FeFRHFwbgDwvuDsHdXUuLO4UWKAV+irsXdy8FCrRAi7sWipaWIqVIi2vQ4BY8EAgQIMj+e+6dQAgJbJLNZu/d732e283M3oQkzc7OnJk5E8ViBSIiIiIiIiIiIgOKqh6JiIiIiIiIiIgMh8EtIiIiIiIiIiIyLAa3iIiIiIiIiIjIsBjcIiIiIiIiIiIiw2Jwi4iIiIiIiIiIDIvBLSIiIiIiIiIiMiwGt4iIiIiIiIiIyLAY3CIiIiIiIiIiIsNicIuIiIiIiIiIiAyLwS0iIiIiIiIiIjIsBreIiIiIiIiIiMiwGNwiIiIiIiIiIiLDYnCLiIiIiIiIiIgMi8EtIiIiIiIiIiIyLAa3iIiIiIiIiIjIsBjcIiIiIiIiIiIiw2Jwi4iIiIiIiIiIDIvBLSIiIiIiIiIiMiwGt4iIiIiIiIiIyLAY3CIiIiIiIiIiIsNicIuIiIiIiIjIpLwO7IWnnyoQmRSDW0RERERERESm4Q/vCwewZek4tK+cBdlLVEP39b7qOSJzYnCLiIiIiIiIyCy8f0bL6t+g98xDwNOHeGp5jdev1HNEJsXgFhEREREREZFZJOuB38964uj25eibJ66qJDI3BreIiIiIiIiIIoqfD3yC5rzyuYILXtwqSGQvDG4RERERERERRYALUxugRPnPUTpTEuRsvhJe24eiTulS+KxBG7SokBkJMzfA3CvqZiIKMwa3iIiIiIiIiOzNbwsG/+KF2qvWo1OWZzizuBVKdj2JGov2YOeWzdj511dIfGklRv5wTn0CEYUVg1tERERERETkAnyxuEYSRI0SBVHsfqVAvQ3v7j30P7kC55PXR+sUl3D46lMgSkp8NXsp2mVRz1+9Bz9YYHmplwPz970JrytXcMWGy+umL/zV50UkH2/vd/4df+/b8HHEP0xkgygWK/UxERERERERkWn5rmuMXPWW4cYrIEaWtlj1Ry/kjKaeDMmr53j0wBv37vvg7tVTOLD3AI6e8MT5i5dw3ccfAQPqxDV+w+U/6yOBKr9xcxDypPsOl4pPwfXdnZFYVXt2yYLcP99Htd+uYEP9QJ91exSKpB+MwzYHjmIg36ArODYytSq/daldBmSe6YPKS7ywufF735kN/HH0p2/Q8VdvJIj7BBfP3kOub0cg21/jsNM/IV5fOQv/GvOwd2pVxFGfQRQZGNwiIiIiIiIiF+GHbR3yo+r0C3iB6MjQ6g8cm131/YCUTXxxdOlI9Bv8CzZffApL/IqYf+VvNAuIXik+M8oiXfvdyDLMCx5DU6raE+iatQCm3K2IJdc2I0xxJxuEN7jlvfgLfPpTNszY+QM+i+OLFdXS4+tNz5Cv124c7LgYebP+iIs5+uPaqdEIHFrzPzEatequR/65OzC+jJuqJYo43JZIREREREQ24bYkMr44KD9pGXrli2X9+CWuzGuGliu89adCLQEKNv4BGy+cxrJmWRDz0R7MWhb0a/lh/6aTeBLFHaW/CghsWV87h3/G7xdfI1GZ9qiV4BJGV6mG4V7qSadxG9NmXEaZid/hM21Zlj/O3/ED3PKiUa/CcEvbGsOHj8DCXwe9E9jSvHyNmClyIX82BrbIMbhyi4iIiIiIPoDbksiEPMeiVLF+2PvYOihOXBkzjm1GG3f1XJjcxLK6hdHe61t47u8TKNhzDG0zFMQsv7rYfGUlKqsXye0BuZDm+9uosdYLy+N0RMmBKbH0v7HIa+dYkGcrd+Sa+xAV5l/H1mbhXB7muxzV0jfEluTdcfbcj1Cpw4icAlduERERERFRiLwXN0Cjxekx5p+t2Lh1M0bluYvfe7bA5oJz8N/8wvC9dhOntu/AQ3U/kSHk7IvfxldG4iiAxWcLejQYB0/1VNikRqNpw1DkxgrMuKKqhM8/OHbHgkTFG6BEoOhv4mpVkCvuK5yd0QiV+nuj0cyR9gts+a5E66JZkD51MhRbfBNRojzBzg4ZkdI9E7LXmYjb6rbQ8j/1B45ZX+jJi9VDOlX3Hu/1+LbaJyhdtDCqDf/vnZWeRBGJK7eIiIiIiCgEtzHy06q4+t1+zPpMRt7eGF04DQaezI/RVw+if+JTWDZuFSy1e6Jx/sDrtvzhtX0qBvZbhuh9t2DOlxGUUIgoXLyxvF4eNF59B68RC/kG7MTB74ohPDGmm8f2wyddceR+k3fLD547D+J1wc+QO+jLwP8K9u72QdZyBZFMVTkbr23LsT9hFdQtnBiXemVH1gk3UGbmNexoIz+gH7a0+RxzK6zBskbyw93GzxXLY2Ozv9BqSV7UPd4QZ2/MQjbtKxFFLAa3iIiIiIjINjZsS/LfOwxfdliLe4n9cHLbFeT68Rb2dw+SYZvIWfhuQPN8dbDg6ks5PhEdNh3D1PLcYCv8D7RF9hKzcKPgd7ixtwz656iA2ZdTo+XJa5iTG/Db3Qdl21xG3/9WoL68xP09MW/qPpRpFgVt0jaD51e7cHVB6XAFC4lsxW2JRERERERkE1u2JbmVHIY/jxzF3iUVwZCWyflfwvqRzVGjXDnU+KYXpv/no9f77sbPHb5AxQqfo3mfWditqp1SghqYuaQzckgE5sUFzGzSGmuc+ft1IDf3gsieJC6Sxz6KdhW748IXY9E65xOsq18dDetXxmddz6D+vPl6YEv7hJxo0b0ZYk+fgF3PsqLpoKJ46eenniSKWAxuERERERFRiGRb0urD+mj/+sp9uI24yFE+j1qNIduSKqLRMl+tRC7Edxv6V6mFkWdyoePEMWgc60/0qFgYrdatR9tPW2B13DoY2qcATs/sgIoVhuGc+jRn5FZmLFb0L4TY1o9f3fgVbb5ZgJv6U64tdUds9r6B7d+1Qt8Vh/HPjz0x6/R9nFzcHS0GLMbBg+vQt3jQVW5XMHnucVjytUTXJ/1Q5rN+OKGeIYpIDG4REREREVGwZFtSmYoN0bD1NHj778ToVRfxGomR9RN9qYbf7mEYsDsp6lVjTi3X4oWp9dthR7l5+G9xX9QqXBJNvm+CnJbLmN/gf/i31DxsHP8Fjo2ciP0PX+HZnYu459SZxd2Qf9hvGF0mvvVjC+792RUNJ13Qn3J5CZCtXFUUf3v8I1IWroqqhVOqUlDRkDRpLMR8vAkNm+xBsaGjkFc9QxSRGNwiIiIiIscz8nYmM2zFslGotyWRS/Bb3xNTfBpg9rDib/MpvXiCZ6+B15ZMaDhI8izFRZkGdVCiaCV0nzgSJZ0+8VIWdF8xCdWTRrF+7Iud/Rtg+DGe9Rd67ui79wFOrfkJi/bvwYzPGfgmx2BCeSIiCh0Z1I0djmlbLwPpiqJ2u4FoX8Y6qpFBXd9xWHPmlbW6Ntr2b4PSzjbYMfL3TmQmsp2pdmdsdW+KIT3K4sG0Fmi78BkarZiMaEN64XzlfhhW6QJ6NxyDY5kG4diRYc5z2paRv/cw88W57Xvgk+Pt6o3bhzfhKAp+YPWG1c0OSJ9mLlIxobzpXPq+EYammoKFLd6e8ee7rBrSN96ER1m7w/Pcj2H7u/f1gufV+/B/rco2iwq3JOmR0z38gRSf1Y2Qp8GvuPlKUkj1xA6P8QYIzEWMrVu3ok+fPqoUfvHixcOOHTtUici+GNwi++CAkcg1cEBKROHmhalVKmBx6cXYHrDqw/s7FE4zCB5R4iN7i43wmJ4LMz9Jiy67nwJpvsGeSwudZHBp5O89Eni1R/p085Bqwi3s78EOoLn5Y2+zzCi98DpSNtyBK8s+e7uiy1b+29EsS0Us9Ap1ZEsXNS2abD6LRRXDe9KhH7a2z4fqMy7idepGWHN+KT530cMTd+3ahcGDB6tS+Elw6/fff1clIjuT4BZRuDz8x9KvbG5Lsf+Nsaw/tMeyqHVOS2y3jJaWa3+3tMmf3VK+51zLjr8GWoonjGaJVXCo5az6NCIymmuWXypns5Qaus/yXNVY7o6yFIoBS1S3+Jac7XZZ6+9bppSOLZMmFuugzrLnzY2RzcjfO5G5PPm9gSVn0YGWk6qsudHfkiua9bUXI79l2DWpeG458lNDS4milSzdf72s3eIM7PO9P7fc8Nhs+X39v5az91WV2Vz7yfJVgVyWbOkSWKJZ29SYSTNbcuYrZWm7/KG6gcznoqVXjmjW99AElsqLjP7/+ZZl+ddpLDFi5bL0/PeJqrOTJxctJ89G3O/n2v49ltN2/pbD4vnx7yyVs5W0/v7YmSLH4cotCifOYBK5Cr/1X6PIiGxYdWAUcqs63ByA3Om+x+mo+THsogeGuvvj6KRmaL/YG6V6zcaPX2dQN0Yu+3zv/rh5bAcOXo2NnJ+UQTYuQiAKEyNvZwrv935hXnPUHbwZfmkKIn/yezh+9BqileyLJcu6obCtfSMn2LZF9B7v8Sju3hsHLEUw+upB9P/AblXn5o8T35dF6cFnUfLng9jcPpOqtwP/3Wif41PMuF0Sv1zfhY526Uf4w/uCB47s24ZV82Zg4dZ7+GzZVWz8OnJf5/5HR6Fe54v4atVcNDXs3wIZjhbiIgojI8++ElHoXBzd0PLN3LuqpHu4tKolofWtJGrW7mFflfnwmuX0cQ+Lh0dor+OW09dsm/0M7/d+fm4zS/60qS1Zi1W31K1R3JItTWpLzro/WQ5xQpLIDp5b9jRNa4lifT2marjDWgqD59ssTd2j6isvw3JFTWtp8ndYljvY/r0/39Xdks0tjqXI6NOqxurGXEuVxDEsqRuutdjUmkXCz5k4cWJLlChR7H5NmDBB/QtkBg+XVNHfU7N0sQT6C7cOFv6yNMxXzvLju2/BTuv++paWjDHcLJnbbbTtNRkqtyy/da9j+XrYRovdfh13J1g+z5bDUqBsA0u7T5JaX+fxLZWXROTKuYeWi7v+tPz571mLWReeknFx5RaFS4TNvhKRARg5v4bt37v/7m+Rt/xMJBh2CAf759Qrb85D1TztcLzqb/BcVgdcB0EUHpfQO2c2jD8TF5UXXcPmJkZ6Rdn6vftiXiV3tNxXGHOubkfLNys2/LC1QUZUWueOUZcPY2Cgo/adxcGDB/H48WNVsp/8+fMjSZIkqkSGcnMhmlbsjpXX0qH91gOYWPwZVtbKiK/+9EGi6stxZUODN++LN6dWQvk19bFtS3s44Z/3u85NQYXi3+JQnjHY808v5DbYTpNL7TIg80wfVF7ihc2N7d2OXsDyLq0w7I9riJosKaLfv4CzXq+QrkIXTJ4/EtUCVmd5r8e3TcZgn/dTJPh8Mn4fWib0fUOisNJCXER2Y4fZVyIyCCPn17D1e39omVsxvgXxylrmvDNF+cTy91fJLXArZBl1Q1URUdjc/cFSLCasr6ciltG3VJ1R2Pq9P1xlqZnIel+6Vu+udre61T+XJRpiWUoYZWkLubz7v3xiiSMrAaNltnTY99zy/MhAS7EMaS3JY8ASv+L8NyuenuwaaPkkR0XLD0ZIuPtkm6VrjpiWGO5NLKsjaEnS3Ru3rL2HiHOxbfoIWrn13LKvT2FL5rI/WI68Gdw9sRz6rrglnvXvIG6RYWol+y3LlAq5LDUXXLasrhLPgtStmWuZHCqqinER2cl1rNp3y/pulwD5ahZkpJ7IzLxXYcdlOSc7G8pXNtjaJVu/d9+/serQIyBxVpR8JzdGHOTNmgzR/E9j/XJvVUdEYeG7eQvOPgeipiuNLwPnZvHbiEb5y+MnJ36J2fy9P92HC75AlJjxETTNTrT4sREVz+B1/IaqMSJfXNq9ARv+OwcfVUPmlbhqQ3yaIi5SFv8U0WfVR+mGG1Fw/F783r803Pb1R/WmHdG2XmkUbXMINRZuQC+n38bhhblfN8BUr7wYsG4OvgxXLiw//Dd9IlZeUkUr/xMTUbdUaXxdqwBSJKuCny6oJ4T3JRw7ehiHD9t4HT2GC7f91Sc7iN8OjJ9/DLevHcSRNy/wOCjcawYapo+CJ4emYORmP+sP6oO4n/fFj5/vwKR/HyNl5RZwjsyr5CoY3CL7MvJgl4hChQNSMwxIiRxMtjPlToI48Qugx34ZoPli89IDeGj9KEH2Mkij3aS7OX88jqT8Gl+/zXwQucLzvfs+gN9ra1sSNbqqCCRmdESzPjx7cMM6LDYa2apUDrkyFUKtbsPQv1lJpImZCNmrD8bG2+oWMp8sna3/f+/g3+GfIUuRVpj730HMrO+OksN34erhRWhdMANyfjkGfx35CwOKO/tUtz/2D6yJLhujotbU9Rhm88kOIbgwAd1HrMHN+Krsfxh9m81G/MEbsaZTTuDeDixZG9DJuIKBFXOiYOEiKFLExqtwQeT6rDdOqK/gGFGtzdQrPLl6FMfvqSrh5o48qWNaP3iM657W1sstJ1p0b4bY0ydg17OsaDqoKF76Ga9VI+NicIvsysiDXSL6AA5IVUUghh6QEkUOnzUzseq0D54+fYxn1rL/0XEYdyIOkscAXvk/1W+y8ts9CF9NBlpPdZ48PeH63p+/QoiZBQN6469fqg+Mwh/7+zbAgOO1sOzMBZw8sB8eF65h19AcuLlxFOrXHI7DDl5gQo4UB9kqt0S39nWQP9D7fZxsFdGiR1/0aPIZMhhgC8ftFU3x5Q9nkaHbSixpGs7Wxv8Ahjf8AeeyNkIT9Tvx95iGf2N9g+9qvMKqxQfxJIo7Sr5ZAJAB33k8x+vXFkkVZNv1+jX8z0xCXvUVHCJORSzyOIHjZw9j4psjp638PXH4qnXgFyU5cpcM+JmuYPLc47Dka4muT/qhzGf9HByII1fG4BaFnZEHu0QUKhyQBsOwA1KiyGPk7Uzh+t6TxkdMSUj6Kpj2wl9vZ9zipUAwYXTnZetWJSIn5X/ie3zReiWelfsRf44vY/3rDQfvTRhQrhpGHrSg0DeN3qz2dis2Cwd39Yf77XmYtvsJoudqhB75DZi4JVlu5M307m/o0oz+WHMTSFi+P0aVCfiZoiFp0liI+XgTGjbZg2JDRzk2EEcujcEtCjMjD3aJKHQ4IDXRgJQoMhl5O1N4vvdYOZAmtrUt8bsPryCrmZ7d8cVLxEDy7BkMlqvUxq1KRM7I5w90+HwoDidvhaUr2yOTqg41vxNY2rsWcmerie/33MereMXQtP77SbsuTZmDI89jonCbLu/+W/7euOl1BVeu2Hh53YS3E6yI9D8wCF/03YPopYZi4/qOcFf1sH7Ud+8DnFrzExbt34MZnzNNDTlOFIusbyQKiws/o1rpfjiapT4a5LmP3f/eQOFRa9Hy+NeoNfEScnz5BfI8OYr/PBOiybx1BthzT0Qf5odzW37FhgtJUb7+220Ifue2Yvn6g/BJUQr1GjjrNoQwfu8+0/GZewf8m7Ap9l9egGKBnvfqlR0ZJlxG3hHX4DE48D5sIqKgbmJkgQwYcrE0Zl3djtZvxr5+2FQvPaqtTYQux89jcuAtP0bgfQonHmV8d0WH/39omvEzLLqVFs12XsD8Nys6iJzFOUypUBzddsZGpe4dUTZxFFX/IS/x9IE3bt+5C2/ve7jv44O7Ny7jstc9PH2lbrGKX2kBvLY0xTshHf9j6JijIKZ5l8eC61tRdlpltHw4HVtHR8eAvFnx/cnQrQCPmrUzPM5NeW9F1KV2GZB5pg8qL/HC5sYRF1SSBQ1VKw3H6SIjsHF9TxTkS5ycBINbFE5GHuwSEX2MSQekRORwPotrIEvTXSg85wL+bhHQYdqA+hk/x8asE+C5u3ug1Q/GdWnKp8jfdReiVfgZJ7YGXtFB5Az8cWxQURT/7jieqxr7SYgqS65iU9DA0u2hyJd2BK5UWAKvtcnRvVgfxF+0D5PCm7w+CM9W7sg19yEqzL+Orc0iJrjlf3gsqtQcD5/6s7FxSh1tV47X+qnYkqo1WgSeASSKBAxuERERfYCrDEiJKKL5YEPXCmi65DFKt+yMaonPYMOiFdhtqYVfts1HIxPkbpCtSsXKjsHVgoPx199DUTJcSYyIIobvsT+wav9NvLTzKDiKW3qUaVQVOYPGePx3o1ehipj69FNUTHUXzyvPwB/Di9tnG7LvSrSu0Bebrz+Ez30fPHlhQbRYiZAkSUIkLNIF/67rAXutLfc/MBpVv56PxL1W49eOedX3742JZT7Ff70PYXUdvuApcjG4RURE9EHmH5ASkeP4ndqA+au34cyDuMhc+gs0rVvwTfJpI+NWJaIPuYkDfxwBitVAMQNmMvDfPwrlq47EiUS5kS2pnBVt9foFnj7xgde1+Oh04SRGsz9EkYzBLSIiIhuYdUBKRBRe3KpEZGJ+m9Akaw0suRnC+dFJamH1tfX4kgu3KJIxuEV2JX9OJ06cwOvXr5E0aVK4u3OzDhEREZFZcasSuYLTp0/D398fCRMmRMaMGVUtETkTBrfIbp4/f4769evjjz/+UDVA69atMWvWLFUiIiIiIrPgViUyO5mwb9OmDebOnatqgLJly2L79u2qRETOgsEtspsePXrgxx9/VKW3jhw5goIFC6oSEVHoyVvV2LFjsWjRIq2cLFkyrF69WlshSkREkYBblcgFTJgwAb169VKltzZt2oQqVaqoEhE5Awa3yG4qV66MrVu3aoPQwJYtW4aGDRuqEhFR6H333XcYNGiQKr318uVLRIumVgsQETkBPz8/dOnS5c3KjmzZsmHdunWIGTOmVqbIMXjwYIwZMwZRo0ZVNUQfJ/0MWb0VlAS9ZGKfiJwHg1tkNxLc+vvvv1XpLQa3KCjpKHz//fe4fPmyqiH6sF9//VUbMAZ17Ngx5MuXT5WIiCJfvXr1tJWlgSVPnhx37txRJYoM5cuX1wKO8v+HyFYHDhzA1atXVektBreInA+DW2Q3CxYsQPPmzVVJlypVKm3wKZ06ogCenp7IlSuXKhGFnYeHB/Lnz69KROY3e/ZsbNu2TZXI2UjC6ZUrV6rSu2T1R5QoUVSJHE2CW2fPnsX169dVDdHHbdmy5b3th/HixcPRo0eRJUsWVUNEzoDBLbKbgG1D8ePHx6NHj7RcOLt27UKOHDnUHUS6U6dOIU+ePNrfy8CBA1UtUciqVq2KnTt3qpJOOpcXLlxAihQpVA2R+SVOnBgPHjxQJTKSV69ecUtcJGJwi8Ji/vz5aNGihTa+efLkCWLHjq1NMBQrVkzdQUTOgsEtsgtZPVG8eHHkzZsX+/bt0x5jxIiB48ePqzuI3goIbo0aNYrBLbKJbGMdMGCAKgFubm5Ys2YNatSooWqIXIMEt0qXLo0///xT1ZAzkZVbWbNmhZeX15scpLJaS/JunTlzRitT5GBwi0Lr2rVrWuqDRIkSaWOaOnXqaGOee/fuqTuIyJlw+ojC7cWLF2jWrJn2sWxNjB49unY6omw9e/bsmVZPRBRWly5dwujRo5EpUyYsX75cq6tfvz4DW0TkdCTwLsnjU6ZMqWqAdOnSYe3atapEREbRqlUr+Pr6Yt68edrKLRnf3L9/P9gcXEQU+RjconAbPny4Noshj7JiS0jjL0nDT5w4oZWJiMJCVj7IdgBJJr9w4UI0aNAA7u7uOH/+vLqDiMi5FCpUCCdPntSCWjlz5tRyjzLPJJGxTJs2Tcu31alTJ23Vn5DxjThy5Ij2SETOhcEtChc5QUSOVS5ZsiR69+6tat82/pJskYgorCZPnowdO3age/fuKFOmjFYn7YtsD5D8NUREzihJkiRabh7JDZgwYUJVS0RGcPHiRW1cI9uJx44dq2o5viFydgxuUZjJlkPZjihL8GU7YrRo0dQz+qylYONPRGEluVH69++vrXiQAysCSOfy6dOnzF9DREREdiWnmsqKcelnSDL5OHHiqGeA3LlzI2bMmBzfEDkpBrcozOSku9OnT2uJnrNnz65qdZJrIlWqVGz8iShMZFWWBM8lObN0LmPFiqWe4cwpERERRYxJkyZppzP37NlTO7wjMMkrLAcisf9B5JwY3KIw+e+///Djjz+ibNmy6Nq1q6p9lwxAJc8ED+QkotD64YcfsHfvXvTt21c7iTUwBreIiIjI3mRFuJzMLCu0Ro4cqWrfJX2Qy5cv4+HDh6qGiJwFg1sUak+ePEHz5s21ZbpyeogccR0cafwfPXqECxcuqBoioo+TgyiGDh2K/Pnza49BZc6cGQkSJGBwi4iIiOwiYMW4HIglB9jI9sPgcIKNyHkxuEWhJispJGA1fvx47Wj+kAQ0/jxRhIhs9eLFC61zKSs+pXMpOf2CkoB6gQIFtFNaiYiIiMJr3Lhx2Ldvn5brs0iRIqr2fQxuETkvBrcoVLZu3YqpU6eiSpUqaNeunaoNHht/IgotSRx/+PBhDBkyRAtghUTalzt37uDGjRuqhoiIiCj05ATmYcOGaX2LwYMHq9rgSd9EJtk4eU/kfBjcIpv5+vqiZcuW2nagOXPmqNqQyfG5cePGZXCLiGwiQS0JbhUrVgz9+vVTtcFj8JyIiIjCS1aMN23aVPtYVozHiBFD+zgkMg6S9AjsfxA5Hwa3yGY9evTA1atXtVNE3N3dVW3IokaNquXMYeNPRB/z/PlzbTuinES0YMEC7fFDAoJbnDklIiKisBo1apQ2VpEcn/ny5VO1HyZ9kFOnTmknOhOR82Bwi2yyYcMGbbVW7dq1tQGoraTxl21Dd+/eVTVERO+TTqUkkpfTiXLlyqVqQyZHccvsKoPnREREFBaHDh3C6NGjUaJECS2nsK1kfCMrviTARUTOg8Et+igfHx+0bt0aSZMmxcyZM1Wtbbh1iIg+Zs+ePdoBFWXKlNFWiNpCTjGSIBjbFiIiIgotWTEu2xFlokxWjEeLFk0983Ec3xA5Jwa36KM6d+6Mmzdv4pdffkHKlClVrW3Y+BPRhzx9+hTNmzfXglXz5s3TtjPbStoXObn18ePHqoaIiIjo4yRxvKy8klyfOXLkULW24fiGyDkxuEUftHr1aixduhQNGjTA119/rWptJ3vXZSaEeXGIKDhy5PbZs2cxduxYZM2aVdXaRjqXFosFHh4eqoaIiIjow3bv3o0JEybg008/Rbdu3VSt7ST3cLJkyTi+IXIyDG5RiCRPVvv27bXVWlOnTlW1oRM7dmxkz56dMxtE9J7t27dj8uTJqFChAjp16qRqbceZUyIiIgoNPz8/bcW4jFHmz58fqhXjgRUoUICTa0ROhsEtClGHDh20ANeMGTO0fFthVahQIW1lhmw/IiISspWwZcuWiB8/PubOnYsoUaKoZ2wXENzizCkRERHZol+/fjh37hx++OEHZM6cWdWGnoxvHj58iEuXLqkaIopsDG5RsGQr4qpVq7REi3Xq1FG1YSMD0FevXuH48eOqhohcXc+ePbUO4cSJE5EhQwZVGzqJEydG+vTpuXKLiIiIPmrbtm34+eefUblyZW13Snhw9TiR82Fwi94jyeMlibzsJ580aZKqDTs2/kQU2KZNm7STV2vUqIFWrVqp2rCR9uXkyZN4+fKlqiEiIiJ616NHj7QV4wkSJMCcOXPCtGI8MI5viJwPg1v0ntatW8PHxwezZ89GokSJVG3YsfEnogAPHjzQ2hhZdSVtTHjJtoBnz57B09NT1RARERG9S1aMX758GT/++CPSpUunasMuZ86ciBUrFsc3RE6EwS16h8xkbNiwAW3btkXVqlVVbfgkT54cadKkYV4cItJOJfLy8sKUKVOQOnVqVRt2DJ4TERHRh2zcuBGzZs1CrVq10KJFC1UbPnIafN68edn/IHIiDG7RG1evXkWPHj2QKVMm7Xhce5IBqOTcev36taohIlfz+++/Y+HChahbty7+97//qdrwYXCLiIiIQhKwYjxJkiRagMuepA8i46f79++rGiKKTAxukcZisWj70GU/upxcFi9ePPWMfcjWoSdPnminkxCR67l37562IlRWck6fPl3Vhl/GjBm17dNcGUpERERBde3aFdevX9cSyadKlUrV2oeMbwQn2IicA4NbpJk6dSq2bt2KLl26oFy5cqrWfri6gsi1dezYEbdv38a0adO0AJc9FShQAB4eHqpEREREBKxduxaLFi1C/fr10ahRI1VrPxzfEDkXBrcIFy5cQN++fZE9e3aMGTNG1doXG38i17V8+XKsWLECjRs3Rr169VSt/Uj7IivDrl27pmqIiIjIlXl7e6Ndu3ZIkSKFNrEWEfLnz4+oUaNyfEPkJBjccnGSA6t58+baaWPz589H7Nix1TP2lSVLFsSPH5+NP5GLkdVanTp10pLHy5aAiMBtAURERBRYhw4dcOfOHcyYMQPJkiVTtfYlaVxkjMP+B5FzYHDLxclxuP/99x969eqFUqVKqVr7ixIlija7wbw4RK6lTZs22qqq2bNnI3HixKrWvrgylIiIiAL8+uuvWLlyJZo0aYIvvvhC1UYM6YOcPn0az58/VzVEFFkY3HJh0hAPGjQIefLkwfDhw1VtxJHGX1Zx3Lp1S9UQkZktWLAA69ev1w6rqFGjhqq1v9y5c8PNzY3BLSIiIhcn4wxZMZ42bVpMmTJF1UYcGd+8fPkSJ06cUDVEFFkY3HJRr169QrNmzbTGWI7mjxkzpnom4nDrEJHr8PLyQrdu3ZA+fXpthWhEihEjhhbgYttCRETk2uRk5vv372srxuU05YjG8Q2R82Bwy0VJ4vgDBw5g4MCBKFy4sKqNWNw6ROQ6WrVqBV9fX8ydOxcJEiRQtRFH2pdLly7h4cOHqoaIiIhcieQPlhXjrVu3RrVq1VRtxOL4hsh5MLjlguTI/BEjRmhBLQluOUrevHkRPXp0Nv5EJifJWzdv3qwlc61YsaKqjVjSubRYLFr7RkRERK5FTkzu3r07MmTIgIkTJ6raiCcH5qRMmZLjGyInwOCWi3nx4oW2HVFIPhzZzuMosvUxZ86cbPyJTExWT8kBFXJ60Lhx41RtxOO2ACIiItcVsGJ83rx52gntjlSgQAEcO3ZMm2QjosjD4JaLkRVbsrJBEsjLSipHk9UV586dw5MnT1QNEZmFdOpatGgBPz8/bWtA3Lhx1TMRT9oWOZWVwS0iIiLXMn36dGzZsgWdO3dG+fLlVa3jSB9EAmsXL15UNUQUGRjcciGSY0tybZUsWRK9e/dWtY4ljf/r16+12Q0iMpdJkyZhx44d+Pbbb1GmTBlV6xiS1ytjxowMbhEREbkQCSjJuCZbtmzaOCcyyPhGHDlyRHskosjB4JaLePbsmbYdUbYhynbEaNGiqWccK6Dx5wCUyFzOnj2LAQMGIFeuXBg1apSqdSxpX06ePKltvyYiIiJzC7piPE6cOOoZx2JqBCLnwOCWixg0aBBOnz6N0aNHI3v27KrW8dj4E5nPq1evtOC5v7+/FjyPFSuWesaxJLgl38OpU6dUDREREZnVTz/9hJ07d6Jnz54oXbq0qnU8GVtJYI3jG6LIxeCWC/jvv//w448/omzZsujWrZuqjRxJkiRBunTp2PgTmcgPP/yAvXv3ol+/fihWrJiqdTyuDCUiInINZ86c0VaM586dGyNHjlS1kSNq1KjIly8f+x9EkYzBLZOTxO3NmzfXZhPk9BBJuBzZZAB6/PhxbbUHERnbiRMnMHToUO2kIHmMTFwZSkREZH4BK8ZfvnyJhQsXaieyRzYZ31y/fh3e3t6qhogcjcEtk+vbty8uXLigrazIlCmTqo1c0vg/ffpUy9FDRMYlua2kcyk5L2Q7ouT0i0yyKjRp0qQMbhEREZnYuHHjsG/fPvTv3x9FihRRtZGLq8eJIh+DWyb2zz//YOrUqahSpQrat2+vaiNfQOPPE0WIjO27777D4cOHMWTIEG3lljOQ78PDw0OViIiIyExk98ewYcO01dqDBw9WtZGPwS2iyMfglkn5+vqiZcuW2vH4c+bMUbXOgY0/kfFJUEuCW5JjS2ZOnYW0Lz4+Prhy5YqqISIiIjMIWDEunGHFeGD58+fXcm9x8p4o8jC4ZVI9evTQBneTJk2Cu7u7qnUOsj0yYcKEDG4RGdTz58+1zmX06NG1zmW0aNHUM5GPwXMiIiJzGjVqlBY8khyfksDdmUh+Yzk1kf0PosjD4JYJbdiwQVut9fnnn7+Z3XAmktSeW4eIjEs6lZJIXjqZuXLlUrXOgdueiYiIzOfQoUMYPXo0SpQooeUUdkbSB5FTHJ89e6ZqiMiRolgkE7AJyekZsjUlqPjx4yNWrFiq9JacunH//n1VepdE4uPGjatK75ITMYL7FcqpHbIlMDjy7wR3UqCsgkicOLEqvevhw4fw9/dXpbckUJQsWTJVgvYz58mTR7tXEi2G9D1I0mVZOhuUJHp//PixKr0rUaJEwS7/lX9Lvr/ghPT77tKlC37++WccO3YMqVKlUrU6I/2+A5Pfm/z+ghPS79vPz0870TI48r3J9xiUrJqRbacBQvr/4sxOnTql/Z1KcGTgwIGqloxgz549+PTTT1GqVCns2LEj2L/ryCRtf7x48VCtWjWsXbtW1RKZh7w3lC5dGn/++aeqIWeVI0cOrW9y4MABVUORqXz58tphRnKinVG9fv0a9+7dU6W3pN8s/eegpM8s9wfXd5b+ufTTgyOfI/9WUNLflH5ncB48eKBtGwxK+gnSDw7Oo0ePQgwESX874JR36fsWLlwYly5dwu7du5E2bVqtPihb+86ByWs0uNMWQxpLipB+32PGjNFSNWzatOnNCc4BnPn3Lb9n+ZyA33dg9hirBGbr7zuk+4g+yNrYmVLBggWlFX/vsjaUFuuLVN31Vs2aNYO9Xy5r42U5d+6cuvOtbt26BXu/XNYXuuWff/5Rd741efLkYO8PuObMmaPufGv9+vUWa0MV7P1yDRgwQN1psfzvf//T6saNG2exNgjv3RtwNWjQQH3GW/fv37ckTJgw2Pvlsr6pqDvflTlz5mDvlyt58uQWawOn7nwrT548wd4vl/UNw2J981J3vtWxY8dg75dLft87d+5Ud741YcKEYO8PuBYuXKjufGvNmjUf/H0PHTpU3fnW4cOHLW5ubsHeL5f8fwnqzp07FmvDHez9cpUoUULd+a506dK9c9+nn36qnjGOkydPat/7qFGjVA0ZgbSd2bNn116j58+fV7XOp0iRIpYMGTKoEpG5WAc6lho1aqgSOTNpL4sWLapKFNnKlStnSZMmjSoZk7z2A/cBA6548eJZrl69qu56q02bNsHeL1eMGDEsu3fvVne+NXbs2GDvlytKlCiWpUuXqjvf+u2337TngvscuYLr7+3fv/+DfefmzZurOy2WPn36aHXDhg2zxI8f/717A64yZcqoz3hX6tSpg71frlSpUqm73iVfK7j75ZL++40bN9Sdb1WuXDnY++WSn1V+5qDkdxPc/XLJ71R+t0EtW7bsg7/vMWPGqDvfkv/X8v88uPvlkr+VoK5du6b9bQV3v1zly5dXd7716tUrS4oUKYK9Xy4ZxwSnZMmS79yXNWtWy+vXr9WzRLYx7cotiabLKpru3burGl3GjBm1VUNBVxv88ccf2Lp1qyq9S2YOvv322/ci9Hv37sWKFSuCnQ2RiL7820FX+ciM0cyZM4NdSSTReTnVMHPmzKpGd+vWLUyePDnYVUESYf/f//6nHYO7evVq1KtXDw0aNNC2Jf74448hrkarXr26dopiYBIxl3/H2pCpmndJ4ujGjRur0ltz587VTi4JjvwsnTt3fm8mQL43yQsmqz9keXFg1gZR+30HXfElMzUrV64M9vctKzXk9x10psLT0xOzZ88O8ffdsWNH7W8iMOubFaZMmRLizEbTpk3fbH0KILMT8jPJLEpwatasiUqVKqmSTmZbJCdaSDOI8ntp2LChKr01a9YsbeWT+Omnn7SfWVa0GYmRV27J66Rr1644f/68qnnrk08+0bbsBdWzZ88QXyNZsmTBL7/88l6bNGHCBG3mLzjyGpHPkdx1gVk7O5g/f36Ir5GJEye+9/e+bds27UjtkF4jI0aMeHPMdrdu3bQ2YsCAAdrPE9xrRH4OuU/amMDkdSX1Ia3ylL91OQQjMJktlNeofG5wPvvsMwwaNEiV3pK/Lfkbsw5ktJ8hsGzZsmmrRoO2SdbOfIjvAbK6VD5HZhEDW7RoERYvXhzs71vulTbB2olTNbq///4b48ePD3aG1trx1V4TQdsX2cItP6fMhAYlv29pS4O2515eXlqbGNLMaZMmTbS2LDBZfSq/b3nPEfI7atWqlfaeQs6DK7eMgyu3nIsZVm7J35T8DEHHNylTptT6zkFXuvz7779Ys2ZNsO9TsopIPkfalMBOnjyp9e1Dep+S94kMGTKoGp38TqXvHNL7lKRJkYTrgUl/QN4nQ+oX1K5dW/t/JivGy5Qpo/WxNm/erP07IfULpG386quvVOmt6dOna9sFgyN5sjp06KBKb8mYY9euXar0LukXyO9Ofh+ByYrxL7/8UvtZK1SooGp10hbI5wRdiSX9Kem7Bff7lv+fnTp1eq8vIWM16ZcEt8tEft8tWrRA3rx5VY1Oxijy+w6uXyDv91988YXWrwpM/n/KWCOgXxCUrOSvW7euKr01bdo07e80OJLOom3btqr0loyp5f+1kH9TyL8f9HdM9CGmDW5JIyFvABI8cQV3797VBnTSoMmbUkjLUZ2FNMYy2K5Tpw5+++03VUuhVbVqVe3UOvn/byRGDm7JQQ0BAaKgwWsJpgT39yyBzZByzEkAWAK3QZOyt2nTJsRtdRLckkBM0C29kotCOgQhBbfk60m+u8CWLFmiBd9CCm5JoFwCVdu3b9c6anJJoOWbb74JMbg1cuTI9zou0smRIG9IAWD5eeX7D0zuld9pSAMR+b1KQC+orFmz4sKFC1pHMminSIJb0lkNGtxq3rx5iMEC+T3/888/SJ48uarRDR8+XAsyhjRo+P3339/rXEoC/j59+oQ4aJg3b957gSr5fy0Dg5AGDd9///17gUF5jUnexZCCW9KRl8BlYLItQgYSN2/e1MoSNC9btqz2/56cB4NbxsHglnMxQ3BLJrJlsl223rsCmeSSCR8JZkkqk6ALAJxR6tSptcOzpG9HYSPBORnLM7hFoWXa4JarqV+/PlatWqUNXiVgZATyZiV7uM+dO6dqKLSkcyPBrTt37qgaYzBycEtWUMqqOgngGOW1Fl6yokdmISX4ITOM6dOnV884p//++0+bTZQZyqCz22Q7mSmWgYTkViPnweCWcTC45VzMENxyNbJSXlZqTZ06NdjVVc6oRo0a2oo5WZEmE1AUejJhJ5N9shgi6Ap8og/hK84Eli5dqgW2ZCWFkQbbEtyS1RUhJbCnj2vdurW2CoQcJ3bs2NrsoasEtoSs7JIkrrKt0dkDW0JWp8nKLJ6YSEREZEySNkG23lWuXFlL22IUMr6RsU1w6SvINpJyRxLzM7BFocXglsHJ9hHJaSWnhkguHCORxl8WDoa0XYs+Tlbs9erVS5WI7E/yfkmeQNlSKPmXjEC2BMqKo6NHj6oaCgvZ3inbOImIiBxJTvWT1Tuy8lHSIwRNJeDMZHwj2AcJu4oVK76XqoLIFgxuGZzkqZFjU6XhD+moWGfFxp/IuUnOK1kdmCRJEu0gAyORI7hPnz4dbLJVso3kGTPa/3ciIjI+WTF++fLlYA9mcXYc3xBFHtMGtw4ePBjiqX9mISeZSM4NSdwsicWNJqDx59YhIuckpxvKqXuS70ISpBqJtC9yIqkcsEFhIzPlRpotJyIyuxMnTpg+V+3GjRu1iRU5FEUSixuNrHqWQ3wY3CJyPNMGtySZn9ESVYfG1atXteNk5TSOCRMmqFpjkZVmcpQwG38i57Nu3TosXLgQ9erVQ+PGjVWtcXDmlIiIzKZJkyaGyj8VWoFXjEtKBCOSJPL58uVj/4MoEpg2uCWJ/MySqPzly5fqI53kqZJ96LIfXVZvyeyAUcnWIVlZEfRnJNvcv39fW1lDjiMnfMoS+WXLlqka85FTEdu1a4fkyZNj2rRpqtZYGNwiIiKzMfP4RsjpiHKapSSST5Uqlao1HhnfSF7k27dvqxoKDRnjykFGRKHFnFtOTl7cMkjbt2+fqoF2HO7WrVvRpUsXlCtXTtUak/xsz549g6enp6qh0JC/ATlFhhzn7t27WkDRzNvdOnbsqHXIpk+frgW4jEgO2ZDvncEtIiIi5yIT9UWKFNEOrQmwdu1aLFq0SDssqVGjRqrWmDjBFj4jRoxA4cKF8erVK1VDZBsGt5zcrl27tEF0yZIltSNRJUFy3759kT17dowZM0bdZVxs/MPH29tbu4jCQoJ0EiyXTmaA5cuXY8WKFdpWxLp166paYypQoIDWtgT++ch2svVl1KhRqkRERGQfkjvs2LFjqFatmrZSXJLHy2OKFCkMu2I8MI5vwkfGNrJFlcEtCi0Gt5zcv//+qz6CFswqWrQo/Pz8MH/+fMSOHVs9Y1xs/Ikiz/bt29GpUyeULl1aO4BDVmtJOU2aNNqWAKOTbQG+vr5c2h5GcmDJli1bVImIiMg+du7cqT6CllsrT548uHPnDmbMmIFkyZKpZ4xLcm5FixaN4xsiB2Nwy8lJ4x/4tCoJbEl58+bNpshTJQnlEydOzBMTiSJBQPB87969yJ07t3bqquTbklOK5HVpdAyeExEROZ/Ak/dCxjdCJt2ePn2qfWxksWLFQo4cOdj/IHIw0wa3zHCEueSiklxbQbfUvH79GsOGDdO2Jpoh749sHfLw8FAlInIU6UQGtJOSKF9eh5IsX1Y8mQGDW0TkSJII+8qVK2+uFy9e4Pnz5+/USZJporAyw/hG7NixQ330rkmTJsHd3R179uxRNcYlfZCzZ8++CdwRUcQzbXCrd+/eaNq0qSoZkwS2pGMUEtlq06ZNG63jZGTS+MtqEdkWRUSOIYnxpdMVEDwPeJTXoaziMsNpkDJrKtu3GdwiIkeQk94yZsz45pJ+2vHjx9+pGzBggLqbKPQ6d+6s5aYysvPnz+PWrVuq9D45CVxOhX/48KGqMSaZKJQFCZJbjIgcw7TBLVnZVKdOHVUypqBLdgMEzNpIYnmZ+YgZM6Z6xpgCVolwAEpGkDRpUiRMmBBZsmRRNcYUUvsiJImnJJRv1aqVqjEmyXeRN29eti1E5BDNmzdXH4XMlnuIQtKtWze0aNFClYwpcL6twAJWpLVu3RoHDx7U+lpGxtXjRI7HnFtOLGi+rQCS7Pmff/7REszHiBFDrzQwNv5hV7NmTTRo0ECVyBHix4+vJT01a+cygGwXHjx4sCoZl7QvshpNVocSEUWk6tWrI3ny5MH23aROVm599tlnqobINYXU/0iUKBHWrFmj5f2MGzeuqjUujm/CrkqVKvjqq6/g5uamaohsw+CWk5Jk8bt27XqzVSigoySBDDk+t1y5clrZDHLlyqWtPmPjH3qyBeKXX35RJXIUM7zZyqrPoAMwKctqp5EjR+LQoUPaQMzouDI07FKmTIlUqVKpEhF9TPTo0fHNN9+8lytVSJ2s2gou8EXkSgLn2wp4PVSqVEnLI/zFF19oZTOQUx/Tpk3L/kcYNGrUCCtWrFAlItsxuOWk5PTAwAkI48SJgwULFmD58uXazIaZyOozyfHDxp/IMXx9fbXk8UEHYJkyZcLu3bsxaNAgLchlBpw5DbuNGzdqR7QTke0+tO2wWbNm6iMi1ySHLly+fFn7WAJbEhCeOHGidgp86tSptXozkT6I5N2T3FtEFPFMG9ySxlMGcEb1+++/q4+AkiVLaskIjZ4g/0Ok8ZfEq0ZPHklkBMGtCpXkrRLwKl68uFY2i/z58yNq1KgMboWBzDobPecJkaPly5dPWzEaeIWWfCwr7s2wGpYil6RFMPI2+y1btqiP9J0bklvr22+/fef1YiYyvpHFCnKADxFFPNMGtz755BPtxESjCjhZo3///vjvv/+QOXNmrWxW0vjLYFsG10QUsWSGNIAEL1atWoU5c+YgXrx4qtY8JG9H1qxZGdwiIoeRnIyBV8bKx0bP00jOQbbtGflQAjkJXnz99dda+gOZgDKzgNQIsiOHiCKeaYNbMrMhR90bkXSCbt68iT179mD06NGm2R70IcyLEzaSm+358+eqRI7g7++P8uXLY9OmTarGeFauXKk9VqhQQcvhV7duXa1sVhI89/T05GuFiBxCTpuV7VYBJMhev359VSIKOxnfyGVU586dw19//YVff/0VsWLFUrXmJf0PwfFN6Lx69QpPnz5VJSLbMedWJLpufW9avxMYMQP4qhdQo7N+Vevoj0QFt2LE4pJo3B8YNx/Yshe490B9ognJyWyyJJmNf+h07twZZcqUUSVyhBs3bmD79u34999/VY2xPHv2TNv+O2HCBPz9999aslOzk86lBIIlkEdEFNGSJk2K2rVrq5J+GJDkTiVyBXfuAxt3A9/PARr2ezu+kQsZl2PyH9XwdR/gu9nAhv+AW97655mR7LxJkCABxzeh9N133yFbtmzMVUahxuCWAz19BixcD9TqAqSuBGSoDnz5LTBiJvCntXE/eEq/jpyJiaPn42sfr9oKDJgCVO8EpKxofU+oYe0k9QbWbZeotvrCJiANvySzZuMfOpKnLCAxJ1FQ0kacvAD8thlYskG/pi+7hX6j/0XKnD2wdX8UUwfNAwTMnHJbQOiMGTMG8+bNUyUiCo3AW8eMvI2M6GNevABWbgHq9gDSVQXSVNbHOoOnAmu3vR3fyHXsYlLt8fcdwNBpQO1ugLv1c9JWAep0B5b9Bfhbv55ZyMS9bL3k+CZ0ZHwj+bNlYpIoNBjccgDPS8C3460NfjWg5TBg52EgR0agSyNgrrV85FfA9z/gzj/vXw//BfYsBKYOANrUBVIltb4h7ATq9QQy19JXfckKMDOQAagcA/xC3iWJKNRu3gXmrAE6jgZKNwMSfgoUaAA06g80G6xfvX7OiCHzCmgfV+uoB80z1dQ7pSNnAn/vA8w2UcZtz2EzdepU7ZReIgq96tWrq4+ATz+1NsZEJnP5BjDwZyBDDX2FlqzWSp8aaP8VMGMQsH9xyOMbqT+4FJg1xNpnsfZTMqfV+x/fWD8vvXW81HcScOGa+ocMTsY3spVUUs4QUcRicCsC7TkGVGgD5K0PTFlmHUBaG+5pA4EbW4Dts4EfewFNPwfyZQMCpWZ4R6yYQLE8QNt6+ufuXQRc2wiM7gK4xdBXfcnAtL71a503+JuANP6Sz+jUqVOqhog+RnIWb96jtwEZrW1Bu1HAzFV60LtScWBwW2DFD8AfU96/JGjeui6QMgmwyfo1hs/QA15Zre3S6DnAbeMeyPSOVKlSIWXKlAxuhZLkfwycFJuIbCc5t3r06IHhw4eb9iQ4ck2yIvzzrkC22sDYeUDiBMCEHtZ+x2Zg13zg535Aqy+Bwrn0sUpwYljrC+YAWtQBJvcF/rV+nRvWz5/Ux9onSWr9eguBHF/oO1eOnlGfZFABq8fZByGKeAxuRQDZfthrIvBZS2D/SaC5tfGX1VcHluirr+KFM+1C8sRAn+bA2XXAhp+B2mX1bYoFvwZ+XGzcVRds/Ils9/AR8MMCvfMneSxkiX/NMsBqa9tz82/gyl/A2p+Aoe2AuhWAaqXfvyRoPl0FzWWVqKwiHdFR//pDpuqzsZIXQ1abGp20L3IKLYM1ROQockJis2bNVInI2GSHmOTJKtoY2LwXqF8J+HsGcHIV0O1/epArPBLGBzpZxzIeK/RFAI2qWx8PAiW+0fskRt2uyNXjRI5j2uBWvXr1UKVKFVVynH+tg8BCDYGflgCfWtsyj+XA7KH66it7k4nAKqWAleOB/+YBGVMDvX/Ug2pnDJiGiY0/kW3kIApZEdp/MvDsub466+IfemBLgt0SAA8tWT0qq0gHtALOrwfW/QRUtbYvq//RV6A2HQTcf6huNiAJbj169AgXLlxQNUREEStv3rzIkCGDKhGFnxxUULNmTVVyHI+zQMmmep6sPFn0LYfLxgDliqob7KyMdUiwaBRwaBlQOKe+mrzY//S8XUaTJ08exIgRg3k/iRzAtMGtRYsWoX379qoU8WQ2o8cEoLx1EHjTG5jSF9g6E8iSTt0QwUrk098A+rYADlgb/sKNgElL1JMG4e7ujmTJkjG4RU5NDj+IGTMmUqRIoWocR4JLko9CDqLwt7Y580cAl/7UV2e5p1Q32UFU6ztDzU/1ANeF9UC9isDSv4B8XwFr/lE3GQxXhhIRkdFNnDgRQ4YMUSXHkNVasnpKtiPK6u69C4EC2dWTESx3Zn0Cf2w3Pf2K5BMd/IueksEopM+YM2dO9j+IHIDbEu3guT/QoA8weSlQoZi+nLZDA31llSPFdLO+AXUGdi8AsqUHek7Ut0caSYECBeDh4aFK9DGy2q1YMesfHTlMkiRJtLxwjgyeC1lBJau15CQh2Qpw/DegSU0gWjR1QwSR5LDLxwG/jtFPX/yqt5449q6PusEgAoJbnDklIiL6OElz0nakvlqrQDY9Abys7g4pT3BEkX5Oz6Z66oQSeYHv5+oH5BjpID3pg8jK8cePH6sa+hD5fckYR1a8EYUGg1vhJPm1JKmi5LuR5IkbpwIZ06gnI0mRXHpCx4rF9e2RMYoaZ4ZDGjMfHx9cuXJF1dCHyFH9GzZsUCVylMyZM8PNzU2VIp4kem/QW38da4GmsUCKJOpJB6lfGTix0vp9VNGP/C5l7Wga6SSj7NmzI27cuJw5DYX48eNrKxWJiMi1yGRW4wHA3LV6uoOdc/XtiJEpewbgn5l6P0RWk8cqYZw8XDK+ef36tZb7kz6uW7duOHz4MA/joFBjcCscXlgbVDmh7J8DQI9v9GNvZTuPM4gbG/h9kv6xDIi7/6B/7Oy4uoLorYDX7khrZ65Ufn21lmwRjCzJEls7lN/r2yGv3dZXkv1nkJdqVGvjnC9fPga3QmHlypWYMmWKKhERkSuQvker4fpEVuPqwIpx+u4QZyALeRZ/BySMp5f/198YB2kFjG/YByGKWKYNbr148UKLkEcUafi/Gawfn9+5ITCuu3rCicgb0dO9elLoX5YDw6arJ5wYG3+it74dD/z8q35wxKapenDJGch2yNUTrO3sS6Bca8DzknrCyUn7cuPGDdy9e1fV0Ifkzp0bGTNmVCUiIopsL1++xCtZVhWBJIfw4j/1FAgymeXobYgfIwsJvLdbx2G1gDXbgPbfqSecGA/NInIM0wa3ChcujD59+qiS/c1Y+XZG48deqtIJyQzHbz8ApQsAo2YB2w6oJ5yUJFyMFSsWG39yebIVMSCwtfZHIE5s9YSTkITz0wfqH1ftCFy5qX/szBg8JyIiI5OTEps0aaJK9rduOzBlGVC5JLBwlPPsSAlKdqvNHqJvmZStk79uVE84qcSJEyN9+vTcmUIUwUwb3JKkfRcvXlQl+5JBXN9JQNZ0+lZEZ98OLIPiJaOB+HH1xJBPnqonnFD06NG1o7M5+CRnJStC27Rpg4MHD6oa+/tts74VUYLSK38A3Jw0n2brunrwXE6IrdPd+XNfMLhFRERGFpHjGx9foKN1vJAsEbBolPP2PQJIovl5w4E0yYGu44A799UTTkr6ICdOnIjwlXdErsy0wa2I1E4FiGYNAWLHUpVOLl0qfevkpevAwJ9VpZOSxl8Syj948EDVUEgGDx6MOnXqqBI5wrVr1zB79mysW7dO1diXnELYeSyQKplzrtgK6ssKwKhOwInz+nHhzix//vzWznA0BreIiIiCkFQIt+8BU/o6TxqEj0kYH5g2ELj/EOgyRlU6KRnfPHv2DJ6enqqGQvLLL7+gRIkSsEgeIKJQYHArlOasAf7eB3T6Gvi0sKo0iDZ1gQrF9K1OzpwEmqsrbLd//37s3r1blcgRAt5oI+oNt8tY4N4DYOoAIElCVenken4DFMsDjJlnfd2eUZVOKHbs2NqpidwWYJulS5di40Yn3+tBREThtuE/Pc9W3QrAV1VUpRPxOrAXnn6qEISkSfhfDWDVVmDl36rSCXF8YzvZHSFjHMmhTRQaDG6Fgix37fUjkCktMLqLqnQyPjsn4tvvNsBHlYOaNVQ/SbH1cP2YX2cU0PhzAEquZvU/ei6/htX0PBLOJqTOpWwNmDPM+mh9R2llfXTmvoi0L2fPnsXTp068P9tJ9O/fH2PHjlUlIiIyo2fPgQ7f6RNqP/dXlZHOH94XDmDL0nFoXzkLspeohu7rfdVz7/upN5Ayqb56y/exqnQyDG4RRTwGt0JBVm09egKM76EHiN7jfxSjahZFxbbTcSDk9jdC+Hmuw+hmJZCjYk/8NH0lrqn6oDKktg5YWgLnrTes36kqnUyBAgUQJUoUNv7kUmRJfefvgRRJgEnWTppzsL1zmTszMLgN4HEWGDtfVToh6VxKvovjx4+rGgqJ5JeLyFOHiYgo8q3YDFy/A4zooPdBnIL3z2hZ/Rv0nnkIePoQTy3W96MPTMonTgB830VP7bBkg6p0MpkyZULChAk5viGKQAxu2Uj697PX6LmrPv9MVQbllho5M0fH6QUdUDxZChRqOBpbIvQEsZsYVioR4saJh7QVemP1gQu491I99QGtvwRiRAdmrlIVTiZevHjIkiULG39yKbJdWFaHSmAraSJVGdlC2bns3QwokB34YYE+EeCMOHNKRET01gzreEAOnWpSU1U4g2Q98PtZTxzdvhx981i/ORt8XVVffeas4xshfRD2P4gijmmDW4UKFdKSB9vLpj36KYkSGAr5WNyUqD9lL27cPYK5bfPg4R+DUMU9EXJU743lp/zVPfaUGj3Wn8ddv8fwuXEWG7/JiOjqmQ+RJJF1KwKbrT+TJJh3RvL/7/Tp0/D3j4jfG5FzkS3Cc9bqW57rV1aVziCUncvo1gbo2yb6gRvOOnPK4BYRERmV7G6Qy15ktfW+40Dj6kC8OKrSoGK6Ac0+B46fB/YcU5VORvog3t7e8PLyUjVEZE+mDW7t2rULw4YNU6Xwm7lSzyvT6gtV8SEJCqLFz9tw8f45rB1QDm4HfkLDPAmR/pPWmLo3pGxYYZMgWTKE5b2oXX39cdZq/dHZSOMvSQRPnjypaoicQ5w4cRA1alRthaG9/PmfviVADn2IEkVVGlT9Ss49c5oiRQqkTp2awS0iIjKcVatWYebMmaoUfjOs4xsRMC4wurb19MeAn8vZcIKNKGJxW6INbtzVB591yurH89vMLQvqjFyL49438e9PXyPtlSXoVCoFkhdogFEbIjdi/1lhIFcmYN464KUNWxkdjY2/bdKnT48MGTKoEjmCBEf+/vtvdOjQQdWEnwTPZatwizqqwsBixQSa1gKOnQP2OunMqawMPXbsGPNJERGRy/J7Ciz9CyiZ6yh+7x45OYPtLVt6/WT437YADx6pSifC8Y1tZHyTJk0aRJctAUShwOCWDf49rOfcahDmo3GToUy3+djj9RAnl3RB4aebMLRmBiTIXgU9lp5CZG28k59HEi+euqQqnAgbf9v88ssv2LnTSU8GMLHy5ctrSUHt4fINfdvzF+WB5IlVZWCReFBFWL2ZOXXS1VvSvjx58gTnzp1TNRQcNzc37SIiIvM5eBp47GcdD9RwdM7giCW5t55bB1d7nfDcmNy5cyNGjBg8Ef4jBg8ejDNnzmg7JYhCg38xNjjsqT8WzqU/hp0bcjeeiE1nH8Jr80hUj3sUP/8vDxK6l0bzKbth3w2LH1cop/54xPrm5mwkWi8rZNj4f5gMPGWbHBnX79sBiwVoGdKWZ4cfVBF+2TMAZQoBa7fpP5uzYfDcNrL1ZcyYMapERERmEtD/L5zL0TmDI5Yzj2+k3y4BLvY/PkxWbNkz/Qe5Dga3bCCNY0Lr6yuzu6qwg9SVB2D5kTvw3j8N32S+juVdP0GKlJXw/THHvYkEBOuOnNEfnY0kzPTw8LAOjp1wdExkJ4es7Yvk2SoV4vkXxux0ys8jJyZecMKcqQxu2aZixYooUqSIKhERkZlI/1/6HwVzqAoH5gyOSHmz6gfcHFGLE5yNpEa4dOkSfH0NvgeUyAmZNrhVo0YNjB07VpXCRxr/Nw2/XfnizNEjOHP1Lp4hGuKndEfahI7bApImOZAiiXM3/tLwyxsAkVkdtbYvkiPio6cUGazTWVjNnB51wvYla9as2owgg1tERGQkLVq0wLfffqtK4SP9/6zpgul/OHHOYFu4xQDyZNbHb85IJthk4l4m8InIvkwb3Nq+fTv27dunSmF35Sbg4/t2iat93MSW7xuiSMpkKN52Ac6lqIfx267j/rH5aOrg3OCFcujHAHPrEJHtJHB+/vx5VQq7p8+A05dCGTw3SKezoGozA7Z1O5MoUaIgf/78bFuIiMhQ/v33X+zevVuVwu7Zc8Dz8sfGN86RM/j5y1fW/1rw6oVetoX8XJeuM6k8kavhtsSPkIZR5MioP4aL/yks61UNORK5o8rAP/EgX3vM97iPG/sXoWe5lOomx8pu/bkkmaQklnc2bPw/btq0aejWrZsqkSNcu3YN/fr1w6JFi1RN2B0/rx9WEbDKKXQc2+kMbedSZoPjx9VXpjkjaV9u3bqF27dvqxoiIiLXcM361vfK+rZu2/gmEnIG+65E66JZkD51MhRbfBNRojzBzg4ZkdI9E7LXmYiPvXMH/FwB4zhnwvHNx/3222/43//+p0pEtmNw6yMCVjRFjaI/honPXvzc6hOkT5gHjScdRMwKQ7D+0j1c+HsymuWP3GTg0dRfgDOu3MqRI4eWLJ2Nf8jWrl2LpUuXqhI5wivpDQZ6DI+TF/TH/Nn1x7CJwE5nODqXkscjfzbguJMeSCjbngUPrQjZjh07+PshIjKhsI5vHJYzOEF9zD54AVdveuPR81d4/fo1Xvjdx22vSzi7rgc+tiTAmcc3ctp2pkyZ+P76ARs2bNDGN/7+zptblpwTg1sRyP/KHxhZrwCSpSiFLkuvwv3rydh1xxvHVg9FrQw8Xv1j5PjXvHnzsvEn05JtAeKj+bZsZPdOZzg7l/FiW39GJ+2XcOb041q1aoW+ffuqEhERkYjcnMFmIH2QU6dO4cWLUOy1JKKPYnArAvgdW4hulbMhaabPMezvpyjSZSlOPryG3fO7oHRidRPZRBp/Ly8v3Lt3T9UQ0Yex02kLCZzLUdMMboXs+fPn2kVERGTvnME3btzAlStXIuR65ufcJxHK+EbeX0+fPq1qiMgeGNyyK09MqZ0eSQo0wzSPeKgxajO8Hp7FpomNkNuRY0snXIIbVgFbhzgAJfoY5zmowghixYqlbX1m20JERPQBEZQzOFu2bMiYMWOEXIunNVb/inPi6nGiiGHa4Ja7uzvSpUunSmEXLZr+qOVS/qgYiO1eEq1n7of3nSNYPqAyUqtnIpz/bXh43sFL+fjRZey7YtteoBfaJ7zdm+5s2PgTfUQEdTo7dOiAlClTfvSSTqRRSfty7tw5+Pn5qRoiIiLnZbfxjer3f3B8E8E5g588eQKLxRIhV7Nuf2j/RsA4ztlwfEMUMUwb3Dp48CDGjRunSmEnJ36JUxf1xw/LgtZTV+DnNsWQQNVELF8sa5AJCePFhluc1Ki8yEsSVSHq4+1olyk2YsSKiwTJymK0t7o9GKetP1ei+EAyJ90uKcf1S+4tNv7kLGLEiKE9urlF8la/CO50VqpUCV9//bVNl1FJ51LyiB07dkzVEBEROa8///wTCxcuVKWwS5/K2p+Jro8DgjJDzmAZt8nBNlncVYWTSZ8+PZIkScLxDZGdmTa4lSBBAsSMGVOVwi5NciBFEuCIp6pwKgnQaMUlPHz8FP4vX2uDNDnB7dUr+fgVXjx7Al/vHRiQTN0ejCNnrAO8HKrghOS0RFm2zMY/ePLGmDRpUlUiR0ibNi3mzJmD1q1bq5qwS66Cytc/dqZ1II7qdNarVw+TJ0/+6DV27Fj1Ge+To8al/XRWPDGRiIiMJG7cuFrfOLxkni5PFuBwoPFN5OYM9sWl3Ruw4b9z4TvlWZFxmyxQsNeBPRFBJtg4vgmejG/kVMlozrr0jpyWaYNb9lQoB+BxFnj9WlWYxJWbgI+v9efLqSqclDT+np6eePbsmaqhAFOmTMGmTZtUiRylZcuWSJMmjSqFXUH12gvcuQyJ0TqdT60vV8/Lzh0857aAD5NVs3IREZH5SP//8g3gwaPIzBl8Acu7lEOuTIVQq9sw9G9WEmliJkL26oOxMRQTf4EF9D+MML7x8fHREuDTu4YMGYIDBw4wuEWhxl6rDQrlAp48Bc5dVRUhuoLF39ZBlUoVUbFiaK9KqFLnWyy8oL6UAxxWB3RI8M6ZSeP/8uVLnDhxQtVQgGTJkiFDBmYLNypZLh8/LnD0jKoIljE7ncfO6RMChZ24cymrHiV/CYNbwRs5ciR69+6tSkREZCYB/f8jnpGVM9gf+/s2wIDjtbDszAWcPLAfHheuYdfQHLi5cRTq1xyOwyqFsP/RiWherRyKFq6JUbs9sbBLTZQrXw4l8hZArdF7rV/pLSP0PwQn2EImq7Zk5w5RaDG4ZYOAlQeHTumPIfJ/iFvXruPWrVthu65fxa1HtiWCt4c3wa1c+qOz4omJZFaSD6Jg9o9te3b+TmdwAn6mgNVpzko6l8ePH9e2dNO7mjZtiho1aqgSERGZSUD//9ApR+cMVvx2YPz8Y7h97SCOvFkWHgeFe81Aw/RR8OTQFIzcLAe+eGFClyWINmgi8tzYgGE162Gl+1Bs2LYdv9fxx8bv+mKxr/7ZImB8Y4T+h+D4hsh+TBvc6ty5s10SLopyRfSki0v/UhUhccuPXisP4tiJkzh5MrTXCRw7uAp9CjomUaPFAizbCLinBHI4+cIfBrfIzKRz6f0AuHZLVbzH2TudwQvYammEmdOnT5/i7NmzqoaIiMg5DRs2DBMnTlSl8JH35yQJ9fFA5IiKmNFf4cnVozh+T1UJN3fkSS15kx/juqe1n+Hvi1QNumFAto3wsN6XqPxILO5b3Noj8ce5i/fwyi0R0ljHaQGWbNBzbZXMpyqcVK5cubT80BzfENmPaYNbc+fOxdq1a1UpfOQkwS8rAJv26HvTzSDgZ2n9pfWPwMn/ClKkSIFUqVKx8Sen8dtvv+HOnTuqFD4Bna+/dumPzsPGTmcwZBHUZmsbky09kNihEbnQ48wpEREZxeLFi7F8+XJVCp+YbkDTWnpe4b2RcWhwnIpY5HECx88exsTcqk74e+Lw1edAlOTIXdLaiXDLjRZdmiL5P9tx4WU61BtRV5/s89+Lqf/cRYKS36B0dD/4+etbEvceBxpXd+5k8iJ69OjIkycP+x9EdsRtiTZqW09f7TRrtaowuJkrAcnR1/ILVeHkZAAqx/Vb5H8CvSEB3J9++kmVyBFu3ryJBg0aYObMmaomfGqX1QNAM6yvSadia6czGBt2AV63gea1VYUT44mJRETkqmR8IzmDe7eNpJzByXIjb6Z3o1CXZvTHmptAwvL9MapMwI4WfxxecwSPkxZDw+yqZtfP2HInCSp2r4idzUqi5lTvN30p/edyfjK+uXz5Mh4+fKhqSOzYsQNDhw5VJSLbMbhlo3JFgRwZgXnrgBcvVKVBXb8D/PEv8PlnQJrkqtLJSeP/6NEjXLjgwIz7BjB9+nSMHj1alcgRnj9/rj3a6/TOWDGBb9TM6b7jqvIdkXhQhc2dzndJ8Dx6dKBFHVXhxDJlyqQlLuXM6fvOnDmDq1c/epIKEREZVPYMQPlCD7Hv3HVcvxFMPmBbLjvmDPY/MAhf9N2D6KWGYuP6jnBX9YAPthz3QbxCdVAkoOsROyWSxI6OKz9Wx6D7dTG0RTIthUzxvNZxg5MflhWAqVeCt2DBAowYMcI65jb4oJscjsGtUGhbF7hzH/hti6owqOm/6aeIGGVWQwRsHeLqinfJSjauZjO+duq1OGOV/vgOJzqoIuRO51tXbgIbdwNflAdSJFGVTixKlCjInz8/PDw8VA0FqFevHjp16qRKRERkRu2+zo/XGQ+iRd/gcgJ/7LJfzmD/o+NQtfqPuP3pWGzbPhQl35lbS4m+aw7jwKqmb/KPupWcgjPeuzFn/Doc3TQMpzcBj5687VMZAcc3wQsY23CMQ6HF4FYoNKsNJE8M9P4JuG/Q1aOnLgITFukzGpVLqkoDCGj8ObNBZiSrQssWAVZsBh48UpUBnOSgig93Ot+avVrfwm20zqXkULtxwyRJFe1Etkn4+gY6goqIiEynTjk9R+bIWZGXW9j/8FhUqf4D7jdaiiObekK6LV7rp2LegbeTcwly5kfOoNkQ4mRBwbwpceMuMOgXIF0qoEEV9ZwBFChQQJtk4/iGyD4Y3AqFRPGBKX2B2/eAb8erSgORJM+thgGvrQPP2UNlxYJ6wgCyZcuGuHHjsvEn0+rQAHj2HBgyVVU4EVs6neLqTWsb+SuQKxNQvpiqNAAGz4mIyFXFiAHMGgL4PQPajVSVDuR/YDSq1p+DJIO34cCUOkit1XpjxdgpWH/jpVb6mI7fAQ8fAzMHA7FjqUoDiB8/PjJnzsz+B5GdmDa4lThxYiRJYv89MfUrA/Uq6sfM/vmvqjSIiYuBAyeBfi30lVtGEjVqVG3rEBt/Mqv6lYBKJYCpK4Cdh1WlEwhNp7PdKOCxH/Bzf1VhEAxuERGREUTU+KZMIaDT18DW/Y49PMt//yiUrzIchy1xcXVuc5QuWhRFCxdAnhyFMfxwVOQs/vEjD5dax2SSS1gOyTLSrpQA0gc5deoU/P3tk0KCyJWZNri1fft2jBkzRpXsa0o/IGkioIPMEgTdQuSkzlwGhk0H8mYFBrZSlQYjjb9sG7p7966qIXI8WT4uJOBqbzMGA3FjA22GA0/tk68+XELT6Zy7FtiyV1+BJlssjSRv3ryIESMGg1tEROTUVq5ciTlz5qiSfY3uDGRKC/T5Cbh2S1VGJL9NaPnFUOx+4A/fy0dx6NAh/TpyDKfOXoNv7MwollDdGwLZTdPtByBtCmD8t6rSYGR8I4nTJcBFROFj2uCWbGNLliyZKtmXJEme1Bva/u4mA53/9EQfX6BBH+DlK2DOMH35sRFxdcX7YseOjThxPj6rRfaTIUMG9O/fH40aNVI19pMhNTC2G3DBCxgc2dsTQ9HplBNYe/2of//fd9HrjMTNzQ25cuViQlciInJq0gdJkyaNKtlXnNj69kRJyi7jBlmJHaHiVMXiG6/eHI703nVvPb78QBdXUjk06qePc6YPAhLEU08YDE9MfJ+Mb2LGjBkhE8lkbvyLCaOG1fQVCn/tAppZ3wjk9EFn9OQpUKsrcPIC8GNPoEgu9YQBBQS3OAB9a9y4cVixYoUqkaOMHj1aC4ZEhHb1gXJFgUlL9e0BkcbGTufLl3ouP1/JdWFtC+MZNNYq7cuFCxfw+LH1ByEiInJB0v8Y0VFPY1K3B/DcSXfKycICCcBJGod+LYHqn6gnDIjjm/cNGDAAf/31F6JHj65qiGzD4FY4TLY2qo2q6yectRiqJ2x3JjLYrNUF2HccGN4B6Pi1esKg8uXLh2jRonFmI5Ds2bOjRIkSqkRmILseZeY0SUK9Y7n/hHrCCUlQv7m17ft7H9ClEVCxuHrCgKRzKUE7Dw8PVUNt27bFN998o0pEROQKBrQCvm0C/HNA74c4Q5qEwCTg1qg/sOE/oP1XwKhO6gmDSps2LZInT87xTSDu7u4oX768KhHZjsGtcJBB6LxhepJ5STAvMwjOMsPh7QNUag/8ewTo3xIY2Fo9YWCyRDVHjhxs/Mn0JOfFn1P0NqZmF+DoGfWEE7FYgE7fA79uBL6uCkywdoCNjNue3zd48GC0bm2CNw8iIgqVH74FOjYANu0BqnVynhzDsiOldjdg7TagRR39FHszKFCgACfXiOzAtMGtiRMnYvPmzaoUcWS15NLR+gkd67YDpZtF/kB0026g6P+Aw6f1/D0jDT6jEZgMQM+ePYunT63vbkQmVjS3tU35CXjmD1RoC+xyopiLbEVsOlg/UanWp8CCEdY3E4O/mzC4RUREzm7u3LlYvny5KkWsyX31VVzS/yjWBNhxSD0RSfYcA4pbvw9J2SAry2SVuzrjx/CkD/Lw4UNcunRJ1RBRWJg2uCUzzjNmzFCliCWDupnWgd7oLsBpa5tU4htgyFTA38GJ5h880nPfyEoPSQK5ZDTQs6l60iSk8X/16hWOHz+uaogc7+DBg3jy5IkqRRw5dXCTtS2RvpvMnC7+U6+PTLe8gdrdgWV/AQ2qAL/9oAf5jU6OV0+fPj2DW0RE5LS+//57/Pjjj6oU8ST/1oxBwJ37QMW2QJex+hjDkWRbZK+JwGctgau3gEl99JVlZsIJNiL7MG1wKyDpsSP1aW4d9C7Vk7aPngMU+5+17KBTXf/YCeSrDyxYD9QpB5xYqW8VMhs2/u/as2cPVq9erUrkCN7e3ihVqhSmTZumaiJW6QLAP7OApAmB5kOsr+/u+umEkWHRH0BeazuzeQ/Q6Wtg8XfGPX01OHJi0YkTJ/BSlqYRERE5mcgY37T6Eji2AqhcEphmfSzQwHEH3vx72Pre3BD4aQnwWWHAY7ne/zAbjm/eJX2x+fPnqxKR7Uwb3IosuTNbG+K5+nbA89eAUk31pO6/77B/wnk5AnfheuCT5sAX3wL+1vGYrNZaNQFIlUzdZDIBjT9PFNGNGjUKnTqZaN+pAchpehL8ePDggaqJeAWy6x1L6WD++S+Q7ytg3jr1pANIMO3zrvrBGXIaouQDk5lTs53QLO3Ls2fP4OnpqWpc2/379/HokZMkWiEiokiTPjXw1y/6ThUf69tC1Q5A+dZ63k1771SRkxBXbgGqtLf+G22Am956bq2/ZwCZ3dVNJpMzZ04ttzCDW7pJkyahVatWnGykUGNwKwJEi6ZvBzzyK/BVZX12Q04byVwLGGFtmMO76sLzEvDteMC9KtByGHDyAtCuPnD8N3Ou1gpMThNJkyYNG39FGn02/K4hQTx9a8DGqUAi68dtRgCVrR2/v3bppxZGhJt3ge9m68E0+Xda19WDbFVLqxtMhjOn76pWrRratLGOLIiIiKwkx7D0AySZ+8HTQJOBQPpqQL9JwIVr6qYwunITGPQLkLEm0LAfsMvD+vWtH3tY/70ODcyTXys4chp83rx5OXmvyNjmtbVzKxdRaDC4FYGyZwCWfg9c3ajn43KLAYyYCWSoDuSwvik07AuMnadv8bnro89UBL28buurvobPAL7orn+ubAuassza+KcBplnfVLw2Ab/0B1IkUf+wycnWIcm5xQaPXFGlEtaO5W96R2/nYX1FVbbawPdzgNv31E3hILsdtuwFvuqldzCHTgOSJwI2WR+nW9sbCbKZFYNb77p586Z2ERERBXBPqSdz97KOb37qrY8/xi+0jm2+ADJb+w31egKjZukpU27cDX58I/k7ZdJM0rhIfyPr50CWWsCYuUBCaz9jfA/gmvXrzx+hj3dcgfRBrl27pq2aJqKwYXDLAZIn1vNxnV0HbPgZaGZtwOPEAtZsAwZayzU6A6krAbFLArHyH4NboqKIVfSeVs5YQ1/1NXIm8Pd+IE1y/Wje3Qv0/F5t6urbhFyJNP6SzPvcuXOqhsi1yGteluhf/hMY3gF4bQEGTwUyqPZi3Hw9QOXtoz7hA2S79Inzej6tHhOAnNbOafVOwLod1rbpE2D9ZOD0GqBicfUJJpYxY0YkSpSIwS0iIqKPSBgf6NxQn3DbPhtoWw9IZh3zSNBq2HQ9ZYqs6tLGN4Wvwy1hYcQqeF4ry+4TmZyTA7j++BdIZP1aknphi/XzTq0Guv8PSJJQ/UMughNsROFn2uCW7FuWy5nIctoqpYA5w4AjywHf/4C9i/TVV+2/Ar6pBZTIsgfwO4QqhU5q5a6NgXnDrQ2d9f6H1sZ/z0L9aN7iedUXdUFs/Il0qZMDA1sDF9YDa38Eqlrblz+t7cqAKXqAKlUlPUAuSehliX+t9hdRouYC7WO5JCdgwk+tr6mv9Xxak5cCz/yBQW2Ai38Aa6xfs/on5sut9SEFChSAh4eHKhERETkPZxzfiDKFgKkDgP2L9fHKoWXAbGu/QoJfMp4pn/cI8PQIyuQ8qJVlol7ydx1YYr3f2m+RCXtJvVC+mPqCLojjG6LwM+2QRU6QGz58uCo5p5huQNHc+uqrn60DTQliyaou0b+lXp7YU39TyJtVz+VFbPyJgpLgU63PgHU/vQ2CSydT2pZUSYF/DljbxK3AX2unYv+G5li16YFWlu0ClYoDg9tan58IXPoTuPIXMKy9vu3AFcm2ZzkR08vLS9UQERE5h7lz52Ly5Mmq5JzkFGU5CKd5bX3booxnZCWW6CAH4ljLMlEv+bsK5dTTthCQP39+a38uKsc3ROFg2uBW2bJlkTVrVlUiM8mSJQvix4/PpItW0aNH1y5yHHd3d3z11VeoXr26qnEusWICxfLo2wNkVaisDn20C/A/AHT++oV2z80tL7WyBLLW/gQMbQfULgukS6U97dICgudsX4iIyNkUK1ZMC4KQ+cSLF08buzK4pY9vJNAnF1Fo8C+GDCdKlCjaGzsbf2DgwIH45ZdfVIkcQd5wV6xYgU8++UTVkJlwZSgRERFFBumDnD59Gs+fP1c1rqlr167aKkVO4FNoMbhFhiRbh27fvo1bt26pGtdUunRp1K1bV5WIKLxy584NNzc3BresqlatigoVKqgSERERRSQJbr18+RInTpxQNa4pX758aNasmSoR2Y7BLTIkrq4googQI0YMLcDFtgWYPXs2hg4dqkpEREQUkTi+IQof0wa3Vq5cyZwpJsbGn4giirQvly5dgq+vr6ohIiKKfJs2bcLOnTtVicyG4xui8DFtcKtVq1YYM2aMKpHZ5M2bV9uHzcafIsOdO3e0ZeNkTrLt2WKxwMPDQ9UQERFFvu7du2PAgAGqRGaTOnVqpEyZkuMbojAybXDrxYsX2kXmFDNmTOTMmdPlG/9z585h3759qkSO8ODBA2TKlAkzZ85UNWQ2ATOnXP1LRETOhOMb8ytQoACOHTumTbK5Ki8vL2zbtk2ViGzHnFtkWDIAleDOkydPVI3r6dOnDxo0aKBK5AgS3PLz88ONGzdUDZmNtC1yKitnTomIiMiRZPW4pEW4ePGiqnE933//PapXr45Xr16pGiLbMLhFhiUD0NevX2uzG65KgixyEZH9JEiQABkzZnT54FalSpXQpk0bVSIiIqKIxrxb+vjm+fPnDG5RqDG4RYYlMxuCqyuIyN6kc3nq1CmX3v5x5swZnD17VpWIiIgoogUEt5gagSj0GNwiw+LMBhFFFGlfZNbw9OnTqoaIiIgoYmXPnh1x4sTh+IYoDEwb3IoWLZp2kXklSZIE6dKlY+NPRHbHlaFERORsOL4xv6hRoyJfvnzsfxCFgWmDW9OmTUPv3r1VicxKVlccP36ce7KJyK64MpSIiJzNuHHjMGLECFUis5I+yPXr1+Ht7a1qiMgWpg1uNWnSBMWLF1clMitp/J8+farlhnFFcqKbXOQ4qVKlQuHChVGiRAlVQ2Ykq0KTJk3KnBdEROQ06tSpox32Qebm6qvHA8Y2HONQaDHnFhmaq6+uaNeuHQYMGKBK5AixYsXCoUOH8Pnnn6saMqsCBQrAw8NDlYiIiIginquPb5o2bYohQ4YgRowYqobINgxukaG5+szGl19+ie7du6sSEdmTdC59fHxw5coVVeNacuTIoV1ERETkOPnz59dyq7nq6vFy5cph+PDhqkRkOwa3yNAyZcqEhAkTMi8OEdmdq8+c/v3335g5c6YqERERkSPEjh0b2bJl4/iGKJRMG9zau3evy862u5rwbB3y2TkR3363AT6qTEQUwNWDW0RE5Fykv+vp6alKZGbSB5Gcws+ePVM1tuP4hlyVaYNbkg9n0KBBqkRmJo3/nTt3cOPGDVXzcX6e6zC6WQnkqNgTP01fiWuqnogoQK5cubQca2ENbrFzSURE9iS5iDp27KhKZGYyvpHT4OVUeFtxfEOuzrTBrSdPnmgXmV/A6oqP70u/iWGlEiFunHhIW6E3Vh+4gHsv1VMGJUcEc4WiY0m7IicmLl68WNWQWUWPHh158uQJdc4Ldi6JiCgicHzjOmzPK2y+8Y2vry/OnTunSkS2Y84tMjzbtw6lRo/153HX7zF8bpzFxm8yIrp6xqi6du2KqlWrqhI5wt27d3H79m1uC3AR0r5IAPnBgweqJiTm61wSERFR5HDl8c2IESNQrFgxbeUaUWgwuEWGJysr5KhYW7YOJUiWDHHUx2Zw79497SKiiOHKncvWrVtj2LBhqkRERESOkiJFCqROndplxzcPHz5kcItCjcEtMjw3Nzfkzp3bpsafiCg0bA9uma9zuWnTJmzbtk2ViIiIyJGkD3Ls2DG8fv1a1RDRhzC4RaYgjf+FCxfw+PFjVUNEFH5yGmuUKFEYPCciIiKHkvGNjG3Onz+vaojoQ0wb3JLBiFzkGqTxt1gs2hHJRET2Ej9+fGTJkoXBLSIiinQc37iW0KweJyITB7f69++PFi1aqBKZXUDjH9pTzYiIPkbal1OnTsHf31/VEBEROV737t3RsWNHVSKzY3CLKHRMG9waNGgQatWqpUpkdmz8yVGSJk2KRIkSIVu2bKqGzE7alxcvXuDkyZOqhoiIyPE6deqEpk2bqhKZnfQ148WLx/ENkY2Yc4tMQYINGTNmdLnGv06dOmjcuLEqkSPINjU5xaVZs2aqhsyOwXMiIiJyNNmCmj9/fpfrf1SvXl0b38ihYUShweAWmYYMQGVlxcuXL1WN+cnS9EmTJqkSOUrUqGw6XYmrBrfkCHK5iIiIKHJIH+TmzZu4c+eOqjG/Bg0aYMmSJapEZDuO0Mg0pPF/9uwZPD09VQ0RUfilTZsWyZMnd7ng1qZNmzBr1ixVIiIiIkcLmGBjXmGijzNtcOvq1at48OCBKpErcNXVFUQU8aR9cbXTWBMnTqxtwyUiIucgK3ju3r2rSuQKOL4hsp1pg1tlypRBnz59VIlcARt/Iooo0r48fPgQly5dUjVERESO9eWXX6J58+aqRK4gX758iBYtGsc3RDYwbXDL29tbu8h1ZMiQQVtpEOpluxb1aED+/v7w8/NTJXKE58+fa8Hzv/76S9WQKwgInnNbABERRRaOb1xPrFixkDNnztAHtww8vpH8yY8fP1YlItsx5xaZSoECBWzbOuR/Gx6ed6Clnn90Gfuu+GvVRtO5c2d8+umnqkSOIFsCdu3apV3kOsK8MtTAnUsiIiKKfNIHOXv27McntE0yvhk1ahRy5MiB169fqxoi2zC4RaZSqFAh3Lt3D9euXVM1gfliWYNMSBgvNtzipEblRV7WV0BURH28He0yxUaMWHGRIFlZjDbQhNiVK1e0/HJEFLGkkxU7dmzbglsm6lwyoTyRld8l7N1+GF7heSnb42sIe30dIjIMCW5JoOf48eOqJjBzjm9u3LjhUifgk30wuEWm8uHVFQnQaMUlPHz8FP4vX2tvEq9evbJe8vErvHj2BL7eOzAgmbqdiEiRfBd58+b9QHDLfJ3LGTNmYPHixapE5Jp8N3VGnuRZUKp8EWRIURrDD4c+qmSPryHs9XWIyFg4viGyDYNbZCph3jpERPQRsjJUVoXev39f1QTGziWR+fhgwfC5OOWn7y9+/XAPpozYjNBlurTH1xD2+jpEZDQB4xvm/ST6MAa3yFRy5cqFmDFjMrhFRHbH4DmRq4mGBHGiq49FFLjFiYfANR9nj68h7PV1iMhokiVLhrRp07L/QfQRpg1uNWzYEDVq1FAlchUxYsRA7ty5ObNBRHbH4BaRq0mARuOHoKp7bESNEg3xs36NUd+Xg5t61jb2+BrCXl+HjKxevXqoU6eOKpErkT6I5NxiknWikJk2uDV37ly0bt1alZyXJMp7+vTpm8vfX8+f8Pz583fq2ZDZThr/y5cv4+HDh6qGyH4SJkyoHcucKlUqVUOuIn/+/IgaNSqD50QuxK1gL2y85odXr1/C99wytMygnggFe3wNYa+vQ8Y1duxYDBgwQJWcl2zLDzyOkXGNkHFO4Hq5j2wjqRHktEQ5NZGIgsdtiZFsx44diBMnzpura9euWn2VKlXe1MWNGxc3b97U6unjpPG3WCzw8PBQNeZVrFgxlCpVSpXIERInTowzZ86gXbt2qoZchbTFWbNm5cotIiKiDzh37tw745v69etr9c2aNXunnu+ntnOl1eNFihRB8eLFtR05RKHB4FYkq1ChgrYS5EMqVqyo7bMm27hS4y9H9f/++++qRI6SPn16Q7zhrlixQtvC8OWXX2qPf/75p1bfvHnzN/WyhTtgxSh9nLQvnp6eb2ahzSxBggQffX8iIiIKKmfOnNpk84dkyZJFC2KQbVxpfNO5c2fs27cPUaJEUTVEtmFwK5LJi7ZLly6qFLyWLVuqj8gWBQoU0H6vnA0iV5c9e3asXr0aa9euxZo1a3DhwgWtfsOGDW/qZYm7mxuztthKOpeynfzEiROqxrzkb+SXX35RJSIiItu1bdtWfRS8Dh06qI/IFpkzZ9YmnZgagShkpg1uPXv2TBuAGIGsoghJ/PjxtdUVZDtp+DNlysTgFrk8CcQEBHtlq26AwB9/qP2h9wXMRLtC+5IjRw6kS5dOlYiIKLLJquEXL16oknOTleEhTZ5FixYNTZo0USWyhfTlJPcnxzdEITNtcEuWufbp00eVnJssy/3kk0+CXXrZqFEjLXk1hY4M6k+ePGmYDgBRRGnRosU7wazAkiRJgs8//1yVyBautC2AiIicS61atQwTFEqUKFGIE/TVq1dHypQpVYlsJX2QO3fuMBczUQhMG9y6dOmSdmKeUYQ0AOWqirCRxl/yCJ06dUrVENmHnFwqr8v9+/erGuf2v//9D9GjR1eld8lzTNYZOnJKpnTIuS2AiIgczWjjm5DGMRzfhI0rrR4nCgvm3HISDRo0eGeFlqziypYtG0/CCyNXafz79++PGjVqqBI5wrVr17BgwQKsX79e1Ti3ZMmSaTO9wWHnMmwkeH7s2LEQV8QRERERULlyZW1SKPDuFDl1mqvGw8ZVVo9PnjwZhQsXZj+LQo3BLSchubUCjskV8mKW1VwUNq7S+B8+fBgHDhxQJXKEgDdaI73hBg1iSSczX758WseBQk/al0ePHr1J0G9WCxcufHPCJhERUWhJbq1mzZq902eSVeM8yCZs8uTJo624N/v4RlbHy8X0MhRaDG45kcADUBl8Nm3aVJUotNzd3bUVK1y2SwTUrFlTez0EkE6mK67a8jqwF55+qhAOrhI8Hzx4MMaPH69KREREoRe0v8FV42Hvj8SMGRM5c+bk+IYoBAxuOZEKFSogXrx42seVKlVC2rRptY8pbOSUOA8PD1Uicl2ScytwAlrXOaXIH94XDmDL0nFoXzkLspeohu7rfdVzYecq254lv5xcREREYSXBmID3zcyZM2uHfrke+/VHZILt/PnzePz4saohogAMbjkRWa0lubfE119/rT1S2Enj7+PjY6jEm0QRJfA2Z8nTliJFClUyMe+f0bL6N+g98xDw9CGeWl7j9Sv1XDhIPsS4ceNy5pSIiMgGX3311TuPLseO/REZ38jEk+T+JKJ3mTa4VaxYsTezBEYiCcLl6FzZj07h4ypbh4hskT9/fvWRC20JSNYDv5/1xNHty9E3T1xVGX5Ro0bVcpaxbSEiIkcqWrSoIVc+dejQQdud0r17d1XjYuzYH+H4hihkpg1u7dixQ8sXYjRZs2bFlClT3jk5kcKGx+VSRIgTJ44W3EiQIIGqMY6ffvpJy73FU4rCTzqX169fx927d1UNERFRxPr1118xdepUVTIOmbifNm2adnIihQ/HN0Qh47ZEJ7JgwQIkSZIE7du313LizJo1Sz1DYSF7/CVIaObGP0OGDMiUKZMqkSPIdj4JnssspNHIilA5tUhO2qHw4cwpERHRx/3xxx9InTq1Nr6R/sewYcPUMxQWiRMnRvr06U0/vpHDwSRnLFFoMLjlJNavX69tFXrw4AGePHmi7aVu27YtTpw4oe5wLT47J+Lb7zbAR5XDQgKEefPmNXXjL7N3O3fuVCVylDJlyiB+/PiqZAySm2HIkCFaGzN27Fi8fPlSPUNh4QrBLTmVSS4iIqKw2LdvH7788kvcvn1bG99I32P48OHYvn27uoPCQvogMkZ89coOiUSdkOy+Onv2rLZTgig0+BfjJNasWaM9yhH9gf3111/qI9fg57kOo5uVQI6KPfHT9JW4purDShr/K1euaAN6M5IZDW5hpY+RzmXx4sW1LQFz5sxBv379tNnToO0N2U5ymEkA3czBLflbGTdunCoRERGFjqzakoBW0P7GunXr1EcUFjK+efr0Kc6cOaNqzEX6V7Fjx1YlItsxuOXkJDBjfjcxrFQixI0TD2kr9MbqAxdwz06LSrh1iAjo27cvnj9/rkpvbdu2TX1EoSWdruzZs5u6bSlbtuybNpSIiMheXGN8E3EC3puPHDmiPRKRzrTBrcqVK2P06NGq5PxkVUVwfvnlF9SuXRvHjx9XNWaUGj3Wn8ddv8fwuXEWG7/JCHvtsGbjTwQ8e/YMUaJEUaW3pJ7CTtoXmTWV2VMiIqKI9s0336Br166q5Pzk9PrgyI6V8uXLY8+ePaqGQoOT90TBM21wa9euXTh48KAqOT9JstizZ09V0pdjjhw5Ek2bNsWff/6pNWKSDPrChQvqDnNJkCwZ4qiP7alAgQLaoJ6NP9nTqFGjtFwARpEwYcJgtyD26dOHeS/CQdplyXdh7skHIiJyFhIMklQDRiET9D/88MM7E2y9evVCp06dsHv3bpQuXVo7wVnygpLt5DApOYGS4xuid3FbohMZP348xowZo328evVqDBo0SDtBUQZOderUwdKlS7UTACUQduPGDe0++rB48eIha9aspm38p0yZonUQyHGuXr2qJbpcvHixqnF+kyZN0k7XCUxyRkmwXGZOZaXrgQMH1DPm9PylJF214NULvWwPnDklIiL6MAlmyXhGSO5PCXb9/PPP2spnmcTfsGGD9n7auHFjnD9/XrvPzOzVH5EJfA8PD1Uyl19//RUNGjRQJSLbMbjlZCQKH/hR5M6dWwt27d+/H+XKlcOMGTOQJUsW7c3i3r176i4Kibxhnj59Gv7+/qrGPCRR54oVK1SJHEFOMg38aAQSFJcOUKlSpbSydC6lfO7cObRp00ZbvSVbo+vWrYtTp05p95iC70q0LpoF6VMnQ7HFNxElyhPs7JARKd0zIXudibitbgsrswe3tm7daqgV0ERE5JwCJtgCj28yZsz4ZhL/iy++wLJly5ArVy7ttPjr16+ru0wiAvoj0ge5e/eu+X5XVps2bcJvv/1myrEbRSwGtwxE9q1v2bIF//zzjxatnzBhAjJnzqwdqfvo0SN1FwUljf+LFy9w8uRJVUPketKlS/cm90X9+vW1R3d3d8ycOVMLaDVs2BBr165Fvnz50KxZM1y+fFm7x9AS1Mfsgxdw9aY3Hj1/pQUkX/jdx22vSzi7rgdSqtvCKkWKFEiTJo1pg1sywOjfv78qERER2V/AJL6sIJfV5LNmzdJ2XUi6Fm9vb3WXwUVAf8TsE2xEYcHglgFJw793715tIJo+fXoMGzZMC3JNnDiRCaKDwcaf6MOyZcumzZjKwQvVq1fHwoULkSNHDnTu3Bm3bt1Sd1FwpH2RWWcjreSzlcyYctaUiIgcoWjRoti8ebM2iS/vrTKukfGNjHM4if8+jm+I3sfgloFJHi7ZWiS5fxIkSKDNcMggVVZivHz5Ut1FAY3/33//rf2uZDtnpUqVMHbsWK2eiHSyIlS2usqBHLKFUU5rlS3QsnrHx8dH3UWBSfvy+PFjl8gTQkREFNECTlFct26dtnVRdqhIkEt2rNhlEt/XC54njmlJ7EN3nYCnl6/6Iu+Scde8efMi7ApuolFWvEWPHh07d+7E8uXLtb6aTFAGPqCMyNVEsQR3hJYJSI4ZeYH/+OOPqsYYJJ+WJIzfsWMHPvvsM1X7cbLtbs6cOdoJi5JsXoJc8mYgW40Cn1BiN/LGcPU+/EO9WCEq3JKkR073BKr8Pu/viyLtgEPwd28Bj2tzkV/Vh4asbDt06JA2myGrUeTjoGR1ihypbGRVq1bF4cOHtT33RiLb4PLkyaOdOjhw4EBVawyyXU9OqZHvW75/I+nWrRsmT56s/b0kS5ZM1YZMch7IzymvH8mTIYHh7t27I27cuOoOO4igtqRixYrBnhAZlJxC26pVK1UKPckJIUlPJflpwIlP0u4UKlQIJUqUUHcZk2xllQGFvB+R85DcNXLCmJykTES2k6CJnHRs5BxFFSpU0N6/jZZvVSbO5D1SVonL2MRWsipa3l+HDBmiHYKTNm1a7eOWLVtqgZ1Q89+OZlkqYqFXGFdbR02LJpvPYlHFd894l+2T8r1FlPnz56NRo0Za/0JyMMujXDLeCdrX+f7779GvXz9VMqYWLVpoP/Pz58/h5uamaolsIMEtM3r8+LHF399flYxj+vTp0kJZrIMJVRM6fn5+lnHjxlmSJk2qfZ0CBQpY1q9fr561k+fbLE3do2pfP0xX1LSWJn8/UV/sfXdHF7FYmzEL3FtYPFRdaHXo0OHNvxclSpR3/311HTlyRN1tXFWqVLFYOzmqZBwnT57U/h+MGjVK1RiHtVOsfe/Dhw9XNcbRtWtX7Xu/e/euqvk4a8fSsnLlSkvOnDm1z02ZMqVl0qRJFmuHQ90RDhHYlhQuXNima/LkyeozQufWrVuWv/76y9KzZ0/te0mcOPE7bc2WLVvUncbl7u5u+eyzz1SJnEWiRIksNWrUUCUislW5cuUsadKkUSVjkn7+s2fPVMk4ZCwi743Lli1TNaHz4sULbYwk///k62TNmtWyZMkSrY/iSkaOHPmmnxHS+OaPP/5QdxtX8+bNtZ/FLn1Ncimm3ZYoKwtixIihSq4jduzY6N27Ny5evIjBgwdrsxwyU/LJJ5/Yb/bdrRwWXHulzRSE6Xrl9d6Mh71999136iNry2j9N4OKFi2adiKL0cnsnS0rcMh+JIG4nO4jpwy6Aln5Wa9ePZw4cUJbGh8rVixtBVj27Nm18qtXcqR1GEVgWyKrzWy5unTpoj7DNrL1oHDhwkiVKpW2Oli2SQjZtinfUwBJzE9ERGRP0s+PGTOmKrkOWaXVrl07bVzzww8/aO+5svJaUgOsX79e3WV+MsYLOHkycJ8jMDP0P2RsIz+njNeIQoM5t0xKcnCNGDFCC3LJNiIZxJUrV07bxiYfm500iDLwDomcwmKGzsGUKVO0EzTJsZo2bYrUqVOrkmuQDkbz5s21LR2ytVHyXsi2gLx582LlypUhdrLMRjrYPXr0UKXgJU2aFClThvcsxsgXNWpU7SIiInIGMsEmKRJkfCPbEy9duoTatWvbdxI/3HxxafcGbPjvHOydrVTGLpJfKyTx4sXTDhszOvl/K+NVBrcotNhrNbnkyZNrecfOnTuH1q1bY+vWrShWrBjq168PT09PdZc5NWvWTMtLEpz8+cOSycv5JEmSBO7u7qpEFPEk94GsdpLZU1khKUlOv/rqK61dkRxdzsm+Hc0mTZqEmBNRVrqZpX0ZPXq04fN2EBGR+cgkvuQWliDXt99+q+WflUn8KlWq4ODBg+ouR7uA5V3KIVemQqjVbRj6NyuJNDETIXv1wdh4W91iB5UrV9b6XUGZqf8RP358Lb8tUWgxuOUiJDHwrFmztETekvx49erV2ooLSdh35coVdZeTCedCEGnkp02bFuzKA24ZIgof2fo9YMAArWMpAZDTp0+jWrVqWudy9+7d6q7IFnEdzalTpwY7oygr2MzSvsiWD1ntS0RE5Ixk+9rEiRO1SXxJF7Ft2zZtsk3SKUi/xHH8sb9vAww4XgvLzlzAyQP74XHhGnYNzYGbG0ehfs3hOOyvbrXyPzoRzauVQ9HCNTFqtycWdqmJcuXLoUTeAqg1eq/1q32YLFyIEyfOO4eGman/QRRWpg1uyb7suXPnqhIFkDw5cuqIzHDIoEVOopA6WYlx+7YdpxXCyv82PDzv4KV8/Ogy9l35WPP+YTKD0bVrV1V6SwJ7RBR+sgVYTuaRlVydO3fWju+W7QG1atWCh4eHuisyhK6jGVpy2qfMFgeHnUsiIooIgwYNwrhx41SJAsguhpkzZ2qT+HIa45o1a7T3YkmnIKdcRzi/HRg//xhuXzuII2+WiMdB4V4z0DB9FDw5NAUjN/upemBClyWINmgi8tzYgGE162Gl+1Bs2LYdv9fxx8bv+mKxr7oxBHIyo6xcC5oSguMbcnWmDW4tWrRIO3aWgicJGOUY8X///Vc7rv7nn39GlixZtJUYDx48UHc5ii+WNciEhPFiwy1OalRe5CXJXhD18Xa0yxQbMWLFRYJkZTHaW90eStL4S/6bwLMbHHxSeMhR1rIdj96SBOuSA+7MmTPaluC//voLhQoV0o6ulhlVhwtlRzMshg4dquVeC9y2CHYuiYgoIsgE9apVq1SJgsqWLZvWRzty5Ii2mlwOAMqRI4cDJvGjImb0V3hy9SiO31NVws0deVJLjt/HuO75ts+RqkE3DMi2ER7WexOVH4nFfYtbeyj+OHfxHl65JUKa6OrGD5CcynI4Fsc3RG9xW6KLK1OmDHbu3KkNRKXxlxUYmTNn1h79/MI38LNdAjRacQkPHz+F/8vXeP36tXYC26tX8vErvHj2BL7eOzAgjIcCyr58Wb4bMLshySjlZzQD6eDIqTHkODdu3EDjxo21bb70vowZM2orQo8fP44vv/xS64jnzp1b2y7g5eWl7nKE0HU0w0ISt06aNIkzp0RERE6kQIEC2iKH//77DyVLltQm8aXv379/f+2kRbuLUxGLPE7g+NnDmJhb1Ql/Txy++hyIkhy5SyZQlUCLLk2R/J/tuPAyHeqNqGsdCVn578XUf+4iQclvUDq6H/w+srpcDriR9CuB+yBmCW79888/2oILotBicIs0MrshCRhXrFiBFClSaA2KrOSSNwN///BtDXQGsnqkfPny2scvXrwwzQlgEmBhcMuxAl4Pz59bOysUIgloSfD1wIED2mtv9uzZ2oyqnDTo7R3GZZihEcqOZlhJUtdKlSqpEpAhQwYt6GUGsr3DIds5iIiIIkDAKYobN25Ezpw5MWbMGC3IJQemPHnyRN1lJ8lyI2+mOKqguzSjP9bcBBKW749RZdxUrfDH4TVH8DhpMTTMrmp2/Ywtd5KgYveK2NmsJGpO/XhfqWzZstohNwHkoCkzWLx4sbbQQsZsRKHB4Ba9IctaZaB28uRJzJkz582paLKiS5b1yooqI/vll1+0x+BOGDEqma0JumqEyJkULVoUmzdv1pK8yjZFWUUpHUvZ0ufr+5GkEuEVqo5m2EnbEhAwN9OWADlVV/KoERERGZnkGZZJ/N9++01LozBw4EBtEl/SKUTUJL7/gUH4ou8eRC81FBvXd8S7Z5v7YMtxH8QrVAdFAroisVMiSezouPJjdQy6Xxffd7Rty8r48eO1x5BOiDeigLENxzgUWgxu0XvkBLCWLVvi7Nmz+Omnn7TtiZKQUQZtRt7nL/vS+/bti+LFi6saInKUgFMUf//9d+145xEjRmhBLumUPXv2TN0VsT7c0Qw7OZRDtl0KWflqFo8ePdIuIiIio5NJfJm0OXHihHbomKQpkUOn5D1c0ilIShR78T86DlWr/4jbn47Ftu1DUfLdeTarlOi75jAOrGqqb0m0cis5BWe8d2PO+HU4umkYSto4/yZ5hSdPnoxSpUqpGiLXxeAWhShmzJjo1q2bdgrayJEjcf36de1NQY7YlZUYRjS4WxdUSh4fmDMB6PUN0K72+1ePxsDMscCuLcB9B2yfInIhn3/+OY4ePYolS5ZoJy327t0bWbNmxYwZM/DypXZOaoT4eEczfGRFmuQbq1y5sqohIiIiZyOT+C1atNAm8SVvpkywSVkm8VeuXBnu1UL+h8eiSvUfcL/RUhzZ1BMF3QCv9VMx78C7K8QS5MyPnEGzI8TJgoJ5U6qC7To2a4qG+XMCCyYD/VoEP77p9jXwyyhg+wbgzk31mUTmYtrgluw5Tpo0qSpReEj+GDl6+NKlS9rKJ8nDIst7JY+OHPvv1GQWZuvveoNePhPilnVHvhFtgLG9gPVLgf3b3782rADG9wNaVAFKJgc+S2991/hSr+feb6Jwk9lTScp/+vRpTJ8+Xatr3769lg9Dgl723gJta0czPGLHjq11krVtidevANv+0NuMoNfurYBP4Az3REREtuH4xn4k/Yqs3JJJ/O+++w43b97UUpfIJP6mTZvUXaHjf2A0qtafgySDt+HAlDpIrdV6Y8XYKVh/w44TeBKAk/5E76ZA5eyIVjQxio6yjm++6wasXhD8+GbLGmDSYKBtTaBMGqC09btrY/141Tzg2VP1hYmMzbTBLTkBcOzYsapE9iCrLCQR4/nz59GxY0fs2rVL298tKzGOHTum7nISt28AP4/QAlroUEdv0BMmAb5qDQz9BVixBzj6CDji+/7l8RhYuR8YMQNo2A5IYW38d/wFdP8a+CwdMGGAdWTMJMuuKiC3klkOJYhMctJPu3bttDZFtic+ePBAS4xasGBBbfuiPUR4R/Oxtc3441dgbG/UXjUZuZt9am13MgLtPtfbjKBX80pAiWR60LzDF8CU4cC/1k60HbdDEBGROa1evVrbUkf2EzduXO0grYsXL6Jfv37axJsctBWQTsFW/vtHoXyV4ThsiYurc5ujdNGiKFq4APLkKIzhh6MiZ3E7LBmXyTHZfVIlh96f+H0JEDMW8MU3wMCfgCU7gcMPQxjfPAHWHgG+t/79NOkMpM8C7NsO9G8JfJIGGNUNOH9a/UNEBmUhpzJ9+nRZC2vZsWOHqnFe1jcByzfffGOxDvItUaJEsTRq1Mhy7tw59WwkuXTWYulU12LJGd1iyWb9866Q2WKZMcZiuXdH3RBGD+5bLPN/sliq5dK/bvaoFkvrGhbLaQ91Q+T48ssvLRkyZFAl4zh58qT2dz5q1ChVYyxDhgyxeHp6qpJxdO3aVfu93717V9U4F19fX8vQoUMt8ePH177PUqVKWbZt26aeDb3n+0ZaSidysyTIWNBSpEgR/SqU35I7ezpLgti5Lf1vqBvD4vhBi2VAa4slf1y9TZCrcCKLpUl5i+X7nhbL2kUWy9/r3r+WTrdYBrezWOoWs1jyxHr7uWXSWiw/DbFYbl5T/0Dkc3d3t3z22WeqRM4iUaJElho1rO8/RBQq5cqVs6RJk0aVyJHWr1+vva8vW7ZM1TivmzdvWjp16mSJESOG9j3XrFnTcvToUfVsCJ5stPwvdVTt/mCvJLUsq5+oe8Pi1nWLpXfTt/2GT6x/xz8OtlhuXFU3hNGTxxbLrzMtljqF3/ZHGlvf9w/8q26IHPL7jxUrluXly5eqhsg21r9gciZGCm4FOHHihOWLL77Qvu/o0aNb2rZta/Hy8lLPOsirVxbL7PEWS97YFkuOaBZLhy8slp0bLZbXr9UNdrRvu8XybSOLJVcM/Zo8zGLx91dPOtb58+ctBw9aB9kGY/TgllE5e3ArgHx/PXr00Do28v1WqlTJsn//fvWsjSKio/n8mcWyfJbF8kWRt53ARp9aLKsXWCxXL6qbQuHFC4vF85jFMnOcxVIxq/71pP1q+7nefkWydOnSWcqWLatK5CwY3CIKGwa3Io+RglsBZBK/adOmbybxGzZsGDmT+L/NsVgKJdT7CM0qWywbV+n9B3s7dsBi6d/KYskXR5/EH9nVYvELT0Qu7K5fv27ZuXOnKhHZjvtqKNzy5MmDNWvWYN++fbAOhDBz5kwtQXSvXr1w717IuWVk66gkcww3WUL79Sd6Hq10mfUth1PXAJ9WleQ+6iY7Kl4WmLgUWHcEyFUQmDIMqFcMOHlY3eA4coxxkSJFVInIHJIlS4YJEybA2onUTiHcvn27dspp3bp1tZx/NolTFYtvvJIJnOCve+vxZWh2CHjsB+oUBga1Aa5eAL7pAmw4CSzdCXzZ1Nr2ZFI3hkL06ECOfECb3sAWa1s4bwtQ6Qtr4/gX0Koa0L5OpCZ97dChg3ZSLhERkauRk50XLFiA48eP44svvsCvv/6qnbzetm1beHl5qbveJ6la9u+39hnC6+Y1oKW1LzCgFZAgkd5HmL8ZqFpX7z/YW76iwOjZet+mZHlg4WSglrWPIlsXHSxNmjT49NNPVYnIdgxukd3I4PPvv//G1q1bUaBAAW1wKm8Mw4YNe+84eRlcdu/eHVWqVMHt27dVbRjIvvM6hYATB4GOg4C1h4H8xdSTESxbHj2Q1msMcMETqF8C+GmI/HDqBiIKD3d3dy1YLvkvGjVqhLVr12oJ25s1a4bLlz+c905Od7WL58+AcX2Ar0sDXpeAvuOBXTeAwdZOX9bc6iY7kED8J5WAn1cCO65a2xNrZ/af34Ea1nZGksNGgv79+zO4RURELi137txarrMDBw5oh2nNmjUL2bJlQ8+ePeHt/f6p6pK/q3r16toEXZjJ+768//+3GWjcEfjzhN5HcAT3jMCCv/Xcw3Jq/DcVgGGdeKgWGYJpg1uSTH7Dhg2qRI5UoUIF7N27VxuIZsiQAcOHD0fmzJm1YJcctytWrVqFI0eO4MqVK9obQNDg10dJAEkSH8pqrcw5gJX7gO4j5egTdYODRIsGtO0L/H4UyFsUmGr9Hvo0A17a8UQUIhcnK0GXLl2qtRk1atTAwoULkSNHDnTu3Bm3bt1Sd72rfv362ulH4XJ4N1C7IDD7B6DIJ8Afx4BWPYFYsdUNEUQOsZDZ07mbgLjxgX7N9RONboU8U0xEROYnEz7yfkiOV7RoUWzevBn//POPdvDNxIkTtfFN4El8SUD/559/4v79+6hcuXLYJvCnjdbf95MkBxb9Awz7xdoXiKeedKCGbYENJ4AyVYClU4H2tYGnfupJIudk2uDWiBEjMGfOHFWiyFCnTh14eHhg0aJFSJAggbZNUWY65Oj/gQMHIoraMigDVtlu9MLWGYHXr62Nfgt9uWyZqvrqqTyF1ZORJEtOfXtS9QbAukVA7hiAv796ksxGgrehDshSuMmK0PXr12sntZYqVQq//PKLtjVXVhj5+Piou6CdtCj/jwYNGoT58+er2lCSWdPGn+kBpcFTgMXbgQxZ1ZMOIh1Kma1t2F4/sfWLIsCpo+pJIiJyNT/88AMmT7b2fynSyOqtPXv2YN26dciYMaM2iS87VeTU5z59+rwZ3wRM4D9+/Fgr2+SHfsCPA4H8xYFVB4AS5dQTkSR1OmCOtf8hpyv+u9HaEYsLPHqoniRyPqYNbgXkVaHIFTVqVO1of09PT0ybNg2vX7/W8rhIrq3A/39kO2PLli1t+382xDrQW2MdeFatD0z/HYhth6N17SFGDOsb0jIgfiK9/G1DPRAXgf777z+sWLFClcgR7t69izJlymh/zxQ5SpcureXh2rRpk5b/YsyYMdrsqazUkqCjbAkI0Lp1a2zcaO2QhcYC68BBAuiSw2+9B/CNtVMXEfn7bBEvPjDC+rc260/g6ROgvrXD+8969SQREbkSjm+cR+3atXH06FEsWbIEiRIlQu/evbXJt8D/f0I1gT9luPW9fixQory1H7IVSJREPRHJpP8zZApQXAXaGn2qp2yIQLI4Yvbs2apEZDvm3CKHiBEjBtq3b68lg06YMKGqfdfixYu1FRgfJDMaK2YB5T/XA0mO3ob4MVGtL6mD94EvmgJb1uiBuAg0evRodO3aVZXIEZ48eYJXr17B19dX1VBkkZx9kgNj5cqVSJ06tbZSS/J0nTx5Ut0h8eXXWsfy4MGDquYjJLD1XTcgZ35g2b9A+izqiUhWtjowfwvw0tpBlq0BR/eqJyKO5BJ5+JAztERERMGRSfzGjRtruUHTpUunat+1ZcsWtGrV6sNByYVT9AOqCpYCZqyPnG2IH7N4G9C6D3D2ONC1AaydYfWE/U2ZMkVL3P+SaV4olBjcIoeSU0c+NFiSXGnSoAVr50Z9RqNYWWDyiog5KcQeZIZj9ByggnUAKoG49RGXG0GCLHIRuSpZ/l+vXj3tNCNJ8irBx8CkMym5/mRrwIULF1RtCGQr4nfdgRz5gUXWTlyylOoJJ1HI2umdtk7/uHUN4Iy1gxmB5Hcmp1USERFRyGSL4rVr11TpfZKiJcQJfDlt/fseQPZ8wOwNQJy46gkn1Mc6Dmtg7RdsWw/Mnagq7U/GNtJ/kwlKotBgcIscRgad3bp1U6XgyUBV7pGVGO947AsMtDamCRIDP/0KxIylnnBSEnj7YSGQMi0wsivgHY4TIYnoo6JFi6bN8AUX7JUO0r1797SVXrKtNFiyEkqO25aVWvM2AwmtbY0zqlgbWLJT3xIgAa4IzH0hyfrDdZotERGRyUm/o0ePHqoUMpnA//nnn1VJke2KkgYhajTr+Ga5dZyjUps4syHWnyFbXmDSEODiGVVJ5BwY3CKH+dDe6YDkizIIleurr77STiN5Y0wv4LYXMPAnIHkqVenk4ifUj9F9cE8/QpeIIszTp0/RpUsXVXqftCsXL17UTlsMuroL/s+B/i0Bt5j6rKmzrdgKqtinwHez9Dbx+56qkoiIiBxt9erVIa7aChjfBJB+yrx581TJavpo4MwxoOswIGsuVenkJCXMGOvPIGkSpO/E1VXkREwb3IoTJ452kfOQFVlyYsiJEyfwxx9/aLMXcoKiHNlfpEgRJEnybuJE2Wqk5c7ZvVXf3le2BvBlU/WsQZSvCdT5Bti8CvjrN1VJRPYm7Ung3AxBO5QBJPeWtC3v5HGYbO1UXjgN9PgOyJhNVTq52v/Ttz6vnAP8t1lVEhGRmXF843xkQl4m2OTwLDnARk6F79evHxo2bIgSJUogRYoU6k6d5JLauXMn4HkMmGbtd+QtCrTurZ41iHzW77lVL+DIbv30eiInYdrglux9HjlypCqRs4gbNy7y5MmDmjVrolOnTtqRxr/99puWFFq2DQUEv+S4/1GjRmHrpk2wyFaheAmBkTPVVzGYQZOAZKn01VuyvZKI7E46kJKvr2fPnlrwqlChQkicOPithXLKonQuNccPArN/AAqVBpoa7HCGEdP1rdqyZfvxI1VJRERmNX/+/Pe3tlGkixUrFnLkyIGqVauiXbt2+P7777Fs2TLs2bNH297v5+enJZ3fsGGD1leR+heyHVEm4mQVVLRo6isZSLfhQJZcwMSBwI2rqpIocpk2uPXJJ58gU6ZMqkRGERD8qlWrlhb86potNaLcuAJ0GQqkSqvuMhjJ3dNnHOBzF1izUFXaR/To0bWTKMlx5DQcORlH/kbJeXz22Wfo3Lkzxo8fr+XsO3ToEO7fv49Hjx5pyeYlYC4dym+//VZbKXrs2DFMmjhRz3UR3foa+n6u9R3RYG+JKVID/a0/w01rp3JcH1VJRERmVbhwYa2fTMYSO3Zs5MyZUzuoRU6P71u+FGKcOqxPqmXPq+4yGEnlIPm3nvkBS6epSvuQ8Y2cRCkXUWjwL4ac26/TgVhxgPotVYVB1fgaSJzc+vPMUBX2MWTIEG35MzmOJC5fsmQJSpYsqWrImcWLFw958+bVgpES/Jo4caK2NVGubpmtr8lzJ4DOQ4DMOdRnGEy95sAnVYDlM4HrV1QlEREROS0Z30SxDsMbd1QVBlWqgr56a9U8PTm+nXTv3h0LFy7UglxEocHgFjmv86eBAzuBmg315OxGJskXZRAqA+lDu1Rl+MlWrNq1a6sSEYXKMmvnMk48oElnVWFQ7foBltd6bkI7kuT7csIkERER2cl9b2DTaqCM9f01nQl2GTVsB9y7DWxZoyrCT1Yn/u9//1MlItsxuEXOS2Y1RKP2+mNE8N4L7HbQUfdfS46fKPqAmogi15njeiLUzxsD8eKrSoMqWR7IlAP4bQ4QOFF+OM2YMQMDBw5UJSIiIgq3VXOBF8/1oFBEctQY54umQMzYHN+QUzBtcGv58uXathMyqOfP9PxUeYoA+Yupyggw8n9A4yGqEMEyZAVKVwQ2rgQe+qhKIooUAZ2wRh30R6OT4Ln3LeDvtaqCiIjMRhKSb9u2TZXIkJbPAlKmBSp8rioiiKPGOJJbuEYDYJ/17/LyOVVJFDlMG9xq06YNxo0bp0pkOKeOAI8e6FsSI5L/K+Cl/faIf1StRtZ/8xlweLeqICO6ceMGXtgxtwA5mN8TYN1iIH9xIHdBVRkBHLkytG5zwC2W3fP6ERGR8+jRowcGDRqkSmQ4cqrg1fNAta8i/oRER45xZHwj9jLwSpHLtMGtly9fahcZ1MnD+mPeIvqjWchKNCEnpNiBp6cndu2yXw4v+jgfHx9kzZoVM2fOVDVkOLu2AE98ga9aq4oI4siVoYmSAFW+BHZvBXwfqEoiIjITjm8MzvTjmyP6YzhdvXoVW7ZY+2pEocScW+ScAhrH3IX0R7PImhuIEdNujX+/fv3QqJGaLSGHePjwIZ4+fYqbN2+qGjKck4f0xyKf6I8RxdErQwvLz2OxW/vy+vVrWCzWr0dEREThFxDcMtv4JkkyIKU7cNo+/Y8xY8Zop1wzkEuhxeAWOScZnLlnAhIkUhUmESMGkD3v2ze3cJIgi1xEFArSvsSKA2TOqSpMIqCzbKf2pVKlSmjdOoJXtxEREbkK6X9I8nWz9T+E9EE8jwGvXqmKsJOxjb+/vzbJRhQaDG6R85FcRudOmG9WI0CewsCNK8CD+6qCiBxKgj858lvfAU32FpizABDF+jPZaeXWuXPncP78eVUiIiKicJG0JDmt/Y+IzrcVGWR88/wpcOG0qiByPAa3yPncvg688DfnrIbIkkt/vHZRfyQix/G+Ddy9qXfCzCZOXCBTdr3zTERERM7D3zq2uXOD4xuiCGTa4Fb06NG1iwwoYAlqVHvMavhYB3ongGPHgr+evLT+e37BPyfXiVPal7CrgJ+LS22JHO+stT0QssrJjGTF68UzeieaiIhMheMbA7PYc3wjnGyME7AajeMbikSmDW7JSWZ9+vRRJXJN1ga9YW4gTz6ggHUgG9y16Dpwc3nwz8mVLw+Qq772pYjIBGTJvIgbX380G/m5pAMtq1+JiMhUJkyYgFGjRqkSuS6OcYiCY9rgVsOGDVG0aFFVItcUB/j1pnWgZwn5ap8BSNsi+OcCrlsrtS/ljKJEiaJd5DipUqVC8eLFUapUKVVDrssJV4YSEZFp1axZE+XLl1clcl3mHuMEjG04xqHQYs4tIgPr2LEjhg4dqkrkCLFixcK+ffu0Dia5Ms6aEhEREdlb8+bNMXLkSMSQU+aJQoHBLXI+ASeYvXqpP5pNwM9lh5PaateujU6dOqkSETmO+VeG5smTR7uIiIgonOQ0Y2HW8c1L+41vPvvsMwwaNEiViGzH4BY5n1TugFss8x4le/6U/pghq/5IROSENm7ciKlTp6oSEdmTn58fnj17pkpEZHpubtYxTjoXGN9k0x+JIoFpg1u7du3CxYs8itSQ5BSY7HmBkyY9zl5+LvdMQIJEqoKIHCZxcv3x9nX90WxueQGx41ovJ10ORkSaWrVqoVmzZqpEZJvDhw/j5MmTqkSGIycanzn+dpWTmZyyjm9iWfsemXOoCiLHM21wq06dOhgyZIgqkeHkKQzcvAr43FMVJiHH85+3dkpyW38+InK8nPmt73zR9E6YGUnwPIf8jFyYTeTMrly5gqtXrf0colCQXESdO3dWJTIcGd/4PzPn6q1TR6x9rALsf1CkMu1fnyz3losMSmY2hNkGoOdO6Ef0y5ubHdy5c4crFB3s8ePHSJo0KRYuXKhqyFBixQYy5dA7YWZz9xbgbb3s1L4QEZFz4fjG4ALen822O8X7tnVQcuPt+C2cHjx4AE9PT1Uish1Dq+SccqnG8fhB/TGixHUD3By4fefEIf3RTo1/t27dUK1aNVUiR/D29sb9+/dx9uxZVUOGI53LS9b/f35PVIVJBHSWGdwiIiJyPgH9/xMRPL4Rjhzj2Hl8IycllihRAq9evVI1RLZhcIuckzSOiZICfyxTFRFk9CZg6zhVcIDfl+j70QuXVhXhI0EWHx8fVSIim0j7YnkNeHqoCpMIWI1mp86l5APiaUVERER2IodmZc4JbFwJvHihKiOII8c4Mr5BFKBURb0cTjK+8fX1ZXCLQo3BLXJOcqJI3ebA2ePAoV2qMgK4ZQIyOWhW44IncGAHUONrIH5CVUlEDleolP64Y4P+GFEcvTJ0519AnHhAtryqInz++ecf/Pvvv6pERERE4fZ1Wz2FwN9rVUUEcdQY5743sGkV8EllIJ313ySKRAxukfNq2M76nyjAsul62egCfo5G7fVHIoocEtySvFu/zYnYE4scOWsqpy8d3gV83hiIEUNVEhERkVORyfuYsc0zvlk1D3jxnOMbcgqmDW5FiRJFu8jAMmYDSlXQl+4+uK8qDer5M2DtQminJBYoriqJKNIEzJxuXacqIoAjV4b+OkN/bNRBfyQiItPh+MYEEiYGqn8F7N0GXD6nKg3KYgGWzwRSpgUqfK4qiSKPaYNbgwcPRuvWrVWJDEtmAeTI3BWzVIVBrVsM+Pqo1WhEFOlk5tQtljlmTiUx/tpFQP7iQO6CqpKIiMymV69e6Nq1qyqRYWmrnCzA4p/1slHt3AhcPQ/UbwVEj64qiSKPaYNb/fr1Q/Xq1VWJDKvSF0DG7MAvIwGvy6rSYO7dASb0B1Kk0bcMkaElS5YMSZMmRY4cOVQNGVKiJEC1+sDurcAVa8fMyP78FXjiy+A5EZHJtWvXDv9v7y7gokzeOID/AEXF7m5RMDCxAwMTWzHOPjtOz85TT+zurrPP7jzj9PTs9uzOvwiKgoLC/N/ZHSRcEJRFdvl97/MeO/O+4O7L8u7M8z4z07w525ImT06PUKQMsGpO0ErHpua9D/B7DyBhYrY/KMbgnFsUs8m7AGMWAx/eA0NMNBNvZHfA0x0YNV/7AEikKqNGgwYNdCuaUfRJlCgR3N3d0bJlS1VDJqtFN+1/ApjQX182Re/eAjNHAklTALWaqkoiIiKK0UYvAqy0fs7AtsZfOdEYJg8GHt0B+k8A0mZQlVHDxcVF17+xlguMEUUCg1sU8xUrC7TsDpz4C1i7QFWaCLl6yJ71QJ0WQEUXVRl15B28SZMmqRIRRUqhkkD91sD+zcDOdarSxEzoBzx/BAyaAiSI2vm9MmTIgIwZM6oSERERRZmcdkDPkcCNS8Dc0arSRMiV7FfMBEpWMkrWVsOGDbFs2TJVIoo4BrfINPQZC2TOAYzXOnLPtI6cKfB8BQzvCqRKBwydriqJKEYZPBVInR74vTvg8VJVmogTB/UB/wo1gQZRn8G5b98+LFxo4vMdEhERxVTt+ujny5w3BvjvoqqM4eRomkHtgPgJ9NlnXOCAYhCzDW7dvXsXHh4mvsIeBZEZCXJ4ovdb4JfG+gmUYzI/P+DXZlpn+X/AiDn6+X2IKOaRqxaNnKsfOiznjjAV8hooh2rLuS7kkGcjSJo0KRImTKhKRET0oz1+/BjPnz9XJTJ5VlbA2CX6AFGvJjH/JptcHXFIB+D+TaDvOCBzdrWDKGYw2+BWhQoVMGDAAFUis1DCCej5O3DxJNC1HuDnq3bEMP7+QO/mwPH9QOteQNX6agcRxUhV6gIuzYBd64Btq1RlDDdau7Y8vgcMmgyky6QqiYjInMnhWu3atVMlMgu2+fQ32e7dANpVB955qR0xkLwJuF1rJ9VsouYtJYpZzDa49erVK91GZqbbUKDNr8DxA9rjBvrU2Jjk0yegX0tg30agQRtg8BS1wzg+fPiAd+/eqRJFB3nOS5QogR07dqgaMgvDZgIZsuondpVLW8dk04YB6xcBFWsDria60AYREUUa+zdmqlE7YMAk4No5oG014I2n2hFDyIyt0Vr/a9Vs/VQIE1cYdTjix48f8ebNG1UiijjOuUWmR2Yq/NQNOLIL+DkG3eGQgTaZUbZjDeDSPFrGoXfv3h3lypVTJYoOcjjAqVOn8O+//6oaMgvJUwLL9utXHezeEDh5WO2IYRZOAOa4AcW0v/vpJjoJPhEREYX0cx+gl/b5flFrX/5UAXgZQ4afyhEpg34Glk8DSjsDMzcAceOqncYxatQo2NnZISAgQNUQRQyDW2R6ZMBo+Cyg82Dg9N9A/WLAmWNq5w9y9RzgWgo4vBNo1gWYvFI/jt7IHj16pJt/gYiiQDZbYMleIF58rZFZAzgUw7Lzpg4FJg4A8hUF5m/XT+ZqRMOHD8e8efNUiYiIiIyq6xB9JvnNK0ADrX9zSOtX/Ej3bwEtnIBNS4GqDYEFWrvIyG0PSfZv5M3kT3JEDFEkMLhFpqv3aOD3+cDLZ/o7HG49gfc+amc0kRPHyw5noxLAnetA/4nAyDlcOYTIVNkXBFYd0U8037U+8IfWyJTp+D+S9zv9XVO5VLjM2FpxEEicVO00niVLlmDNmjWqREREREbXsjswcz3g+wHo5AL0axX9wxRlxtTiyUBtrU10/gTQYYA+W9zaWh1AFDMxuEWmrWlHYMdloGRFrRM6A3ApEH3DiS6dBuoV0Xc4CzgC2y4A7fuqnURksnLnB9b+A2TJCbj9ArTQri8P76id0eyf/UAt7flsXAJUrqvPLEuURO0kIiIis1OtIbD7mva1EbB1BVAjL7B/i9ppZLf/A5qUAcZrfZrMOYB1x4F+46JlRArR92Jwi0xfpmzA8gP6LC4Pd6BlJaBVZe1DYb2ckVAdFEXknYyD24GOLkDjksCju8DAyVpH+BiQ004dREQmTy5vvfU88LPWuDtzFHBxAJZN018DooOcS1Aut922KvD2DTB2KTBXa9hGw3AAIiIi+sFSptFncE3/Uz/vVbf6Wt+jFLBxWdQvqCUz1E8cBH5xBeoUBK6cAboMAbacAwoWVwcRxXxmG9xq0aIFateurUoUK8gsrl1XgPqtgHPHgZ7aBbpCFmCKdnF+8kAd9I1ePAVmjwIqah3eznWAY/uA6o2A7ReBdr21vyTGiYnMjgwkDZiov2uZMSsw5lf93Ux591Q2NI3h3Vtg9VygRj79iohOLtp17SrQsI06gIiIYqsmTZqgYcOGqkSxQo3G+iwuuZjWba09MKgtUDYj4NZLPyXK93jtoR9+WM0OaF0Z2LtR+9lVgQ0ngV/dOAyRTI7Z9sgXLFiAtm21P36KXdJnBsYvA/55ql38p+jnpZk3Rh+UqmIL9GwCzB+nD055vFTfFIoc1378L2DRJKB3c6C6PVBe+7nTf9On5PYZCxx9rB97LiegplgladKkSJAgAdKnT69qyOwVKqHP4uo0SL9Mt7x76pQNmDECeP5EHfSd5KIUQztqjcoMwIiugJ+vfqntBduBtFodERHFeqNHj0b//v1ViWKNFKn0i2kd0/o3cqRKRq0N8sd0oIbWR5HtETlHqLwJLyeglzfkDZE3z079DSzXvq9/a31Geqm0+uGH3tq+rkO177+nnzQ+XxH1TUSmhekmZJ7kZNBtfwX2XgdWHAIatQMS2AD7NgGTtQ5qu2pAyTRAbgu8yGGBkvEtcCubha4MxxRAmyrAhH7Arj8BC+3PpG4LYNFu4K87Wgd3oD5VOAYoVaoUypcvr0oUHZInT47bt2+jU6dOqoZiBet4QJ8x+sB2v/H68qyRWqMyK9CxttYY1Ork/FhyaHREPL6vXZ+069G0YUDD4kD9osCfCwH7Qvqg1tFH+usOERERkZQwkX6kytZzwIZTQPOuWsM0FXBE66PIm/ByAvpyGXX9Ge9cFnCyscDxzKp/UyQJ0KICMLoXsEVrZ8gJ6+UolJkbtO9/CPQaBWTIov6hH6t48eIoU6YM4saNq2qIIsZCaNRjigHmz5+Pzp0748iRIwxaGIPMhrhxWZ8l8d8F4O1r7Ln/FDU2H8GK6iXRwj679sGRGLArqL9rIb9yjpsod+3aNeTLlw9ubm4YMmSIqiVj69mzJ2bMmIGXL18iVSqtMUTfTn50ymDW2vn6efg+BZvfL11mfZAqcVJ4vPfF+psP0Klgbv2+/z3V/gDOA17BVj5KnEwfyGrWGbDNpyp/vPz58yNnzpzYunWrqqGYQAbYS5cujZ07f/AS8fRd5N9WmjRpcOLECVVDxlaxYkXcvHkTT55EUcYtRdiOHTt008XIFXibNm2qainKyDmGb1/TZ5fLNoanOy699ETBlXswrmxBDHDMC8TT+jN2DkBerX8j2yiJtP4OkZlh5hbFLjLbokAx/V2PkXOAKauBjgP1++RYdlkepXVWf+oKFCrJwBYRGWZhoZ+XYtZG4LyX/g7qyHnataUTkDqdPvC1bSVWr1+PzgdO4cr6lbqyrtGZt7B+ovrJq4Dd/wGnXwG/zYxRgS1py5YtmDNHu04SERFRzCUznOwLAg3bAsNm6PszMstccmmmL49dDLTuCTiWY2CLzJbZBre8vb3xMapXyiOzZCE7qURE3ypefMDBEWjWCfh9HrDxFHDlPXDdH379J+oO8dt4WlfGGQ/gj7/0E9XXbq5fZTWGLkiRK1cuZMyYUZWIiOhHe//+PXx9fVWJKGzs31BsZLbBrWLFiqFfv36qRPR1HKFLRFHK0hIWchEK9ZirqhIR0fdwcXHRrQhPFFHs31BsYrYt7QcPHuDhw4eqREQUNfz9/fHTTz9xnhSKFDYuiYjoe7F/Q0QUNt5GplgvMG3XFDufcjloZ2dnVaLo8OjRI6xevZqTORMRERFRjGTKwxKnTp2KAgUK8MYgRRqDW0Qm7OLFi7hw4YIqEVFMY8qNyyVLlmDbtm2qRERERKbGFANEly5dwpUrVzh/NkUag1sU63HCRSIyNlNsXI4YMUJ395SIiIhMC/s3FBsxuEWkMPWViKKaKTcu5TUxICBAlYiIiMjUsH9DsQmDW0REREbGxiURERERkfGYbXCrdOnScHR0VCWisAVmVrDzSUREREQxVcmSJVGiRAlVIgobhyVSbGS2wa0DBw5g0KBBqkREFDUSJkwIKysrJE2aVNUQhY2NSyIiiiorV67EjBkzVIno63jznmITDkukWM+UM7eyZ8+OHDlyqBJFh9SpU+PYsWPo0qWLqiH6OjYuiYiIKLqY8s012b/JkiUL4sSJo2qIIobBLSITNnv2bF2ghaKXHBaQKFEiVSIyT/Hjx9dtREREZJpM8eba0KFDcevWLVhaMlRBkcN3DJEJk8Pj4saNq0pEFNOY8p3TpUuXYuLEiapEREREZHwyqGVtba1KRBHH4BbFeqY8LJGITIMpXl/Kli0LBwcHVSIiIiJTwTk/KTYy2+CWk5MTRo0apUpERETRj41LIiKKKk2bNkXXrl1ViejrePOeYhOzDW6dOnUK58+fVyWisDFziyJr+PDhuH79uioRfR2vL0RE9L3OnDmDs2fPqhJR2HhzjWIjDkskMmHTpk1Dx44dVYmiw8OHD/H7779j9erVqoaIiIiIKOYxxZtrq1atQv369VWJKOIY3CIyYbt378bmzZtViaJDQEBAiK9E4THlO6f79u3DyZMnVYmIiIjI+A4cOIAtW7bAz89P1RBFDINbFOtxWCIRGZspXl86d+6MIUOGqBIRERGZCg5LpNiIwS0iIiIjMeXG5cePH3UbERERmSbevKfYxEJ7w5vlOz6wQ9GqVSvd1+DSp0+vmxA6QYIEqkZv+/bt2LBhgyqFlCRJEvz2229InTq1qtH7999/MX/+fINDlOLFi4f+/fsjV65cqkbv5s2bmDhxosFUy1u3buHEiRM4cuQIypcvr2qB//3vf7p5ft6+fatqgsjX2rhxY9SqVUvV6Pn4+GDEiBF48eKFqglJrijZtm1bVQoiV5m8ffu2KoVkb2+PgQMHqlKQBQsW4J9//lGlkDJkyKA73/Hjx1c1ejLdNKwhdcmSJdOd75QpU6oavePHj2PhwoUGz7f8+QMGDECOHDlUjZ6c+HvSpEkGO2lWVlYoUaKELkNBvoYOHTro6p8/f647D+/evdOVg5PnW65WU716dVWj5+3trTvf8ndlSOXKlb94P8o/P/l7vXv3rqoJKX/+/OjXr58qBZkzZ45uuNAff/yhO0fu7u5qj2m4du0a8uXLBzc3N5PLDLl//z6yZ8+ue97y+ZuSnj17YsaMGXj58iVSpUqlasmY5N9qt27ddNfH0qVLq1rTkDlzZt31VH4eUcyRPHly3Xtp586dqoZMUc6cOZEmTRpdm4+iR8WKFXVt8CdPnqga0xNe/0ZeG2R7W34N7ujRo1i8eLHBIIfsC8l2fbZs2VSNnmynTZkyJcy2c48ePVC4cGFVo/f06VNdu0i2h0N7/PgxDh48iDVr1uja0IFkv0a2ncNqx1atWhU//fSTKunJPoBsO9+7d0/VhFSwYEH07t1blYLMnDlTNyG/IVmyZNH1O+LGjatq9P78888wr7UpUqTQnW/ZZwnu8OHDWLZsmcHzbWNjg8GDB+s+X4O7fPmybh7dT58+qZogceLE0bXfHBwcVI2ePKejR4/W9fdCk+8T+X5v06aN7vzK5yl5eXnpyq9evdKVQ6tRo0aI34/k7++PkSNH4sGDB6ompCJFiuieX2jTp0/HuXPnVCkk+X4bNmyY7rUFJ98fe/bs0fVvJF9fX1hbW+seE0WE2Qe3DJGNiUuXLiFt2rSqRu+XX37RXfgMSZQoEf7+++8vLuTyD/fXX381eAGTF0gZLKtTp46q0ZNBHVdX13DviIcObsmVUWQwylCwRZIXFXlRDO7Zs2e6C7zsyBoig2E7duxQJT35gWFraxtmsCVPnjwGV4lzdnbWjY82RJ7nq1evfhGo6tKlC+bNm6dKISVOnFjXGSxQoICq0ZNBKkPBHkle/GSwrGbNmqpGT/4OmjVrZvADQ75PAs9d8OCWXG1TfigY+sCQ+vbtqwtQBic/ZOT7I6wP6Hr16n0RzJPvgdy5c+sCJobI4Jb8wAtNvhcCO5wyyCbn3jIl5hDcKl68uMHgluywhA6wSrIxLV+3ITIALM9HaB4eHmGuiiQbU46OjqoU5P3797q/HUPXJBmI37hx4xfBLdlwkY3fsBqxZcuWNdi4kJ2ysALAMmgs/45Du3DhQpjXJNlwC31dlmRnJKxGlbxehW6US48ePQpzRcuMGTMib968qhRENvbCaojJzkKxYsVUKYi8Rsigu6HzLTsNFy9eRPfu3UMEt+S16NixY2Ge73Llyn3RwJbkv2Oo0yDPd8mSJXWfU6HJVYPDuiYVKlToixs2kjxv8vzJToX8HGJwK2ZhcMs8MLgV/cwpuGWIvBEv30+hP9/GjRuHQYMGqVJI8rNd3tyX1/vg1q1bpwsqyfZBaJaWlrr2e2CbOZD8jKpSpYquHRKW0MEt+dkugyOyvWNIo0aNsH79elXSkwEP2R8Jq10g2+KGPsvLlCmje46GyHaY/OwL3W5p3br150BLaEmTJtX1F2Q7Pjh5c1wGygyRiQ+7du1CpUqVVI3eypUrdYGosM73okWLvkhIkP3SatWq4cOHD6ompK5du+pusAUPbsn+nWzLeHp66sqhyf5S6AWTZLtDJjfIdoEhsi0qz0Nosh1oqF7KlCkTbty4oQv2Bde8eXPde0SSfVjZhgnvPU/0BRncMldaB8LgFhAQoI74kqHj5Rbe92gXIoPfI+vDEtb3aBch2UMSWmdCHRlEPgdD3xPevxPW98gtPIaOl1t4DB0vt5h8vmX94cOHded8wYIF6mg9Uznfpujq1au6c+7m5qZqTMezZ890zz2sTfugVkeGlCtXLoPHy0374BZaY1sdGaR69eoGjw/ctIaNOjJIt27dDB4bfHv58qU6Wm/q1KkGjwvcBg8erI4MojWGDR4buDVp0kQdGeS///4zeGzgVrRoUXVkEK3RJqysrAweLzetcamODClr1qwGj5ebPN8vXrxQRwapXLmyweMDN63ToI4M0qlTJ4PHBm5aw1j39Z9//lHfIcSECRO+OC74pjVC1ZFBNm3aZPDYwK1FixbqyCCXLl0yeGzgVrJkSXVkkHfv3gmtIf35GK3Do/ZQTJEsWTJRs2ZNVSJTlSNHDoN/g2Q8Tk5OIkOGDKpkuoK3E4Nv0dl2DktY7eCtW7fqPlPWrFmjjgzyLW3nqG5vh3fuDB0vt28539/yPd9yvuX33Lx5U3fOQ7cpvuXcfcv3SIaOl1t45yHwmBjF20N4eKvHgTzui9uP3qgCxRRmm7llqmRmhRwiFzpzi4xH3vmoUKGC7tx37NhR1ZIxmXLmliQzNmVmTcKECVVNEDs7O93dqtBkBl5YWUEyk0je7QxNZomFlTUjM7dq166tu6MXnMw+kncFtYaDqgmydu1aXbp36MwtmX2kNTwNDpWWmUQuLi5fpN1rDQ/d94SVuSWH4crXFZrMMgxr6K48b/L8hSaznO7cuaNKIck71IYy2GTGlMwSM0TeMZTPLzR5R1NmsBkis2XkeQh9vuW5lK/J0EepzNySQ5xldqh8DfKusSTvgspzF1bmlsz2lXfgg5PnW2b9hpW5JbNn5ZD70OR7IaxMuVKlSn1xx1mS10Q53EP+XHk3P126dGoPxQTM3DIPzNyKfuaQuWWq5EgR2WYJnblFxiOnmJHZ7TJrS2Zv0be5M8cVzZc/hdf9axA1FuBAm8voNngfPBMmBh6cw8VPlTD10J9ol1V9A/1QDG7FMAxuRT8Gt6KfqQe3TJUMsnDOreg1d+5c3dCA4MEtou/B4JZ5YHAr+jG49eMwuBX9AoNbcoiknDOLvoHPfjR3HI58e3ciqWtG9DgVFxnzOmPY5g3olFPbf6cLsuWaD4tuN3Bvlq3+e+iH4mqJRArjvEQU1WT2ExERERFFBS+srJkCllr7SraxonZLg4a7guZb9rv6J26nboT2ae7h3MP3WqMuLRovWq0PbMn9D1/BBwLiy2mdfzhPd3cEH4/h5/4Cnl8O0DA7DG5RrCcvZkRExsTgOREREUUX8+3fJEGdTtWR3kpfipuzI7b9d1OXlRnu9t9lnD1xCPt2bsKquW7o1bounIrmQabk1gg6Uy9xaPYueKmSteNCnDrcG2lfbcLJ50ACx1/wW/GgBZbubjoLdyRD3ipfLob0Y/jhwrQmKF2yMpo1cUH+zLaoO2UN+joXRtmGTeCcOwMcuu6F4eXSzAODW0QKO59EFNUYPCciIqIfxRz7N0nqLsLKDjkh15X+eGcJeky6i7S2trphmGFudvlRpKQTnGvWR/POQzB12RYcOnMdjzxe4tyqvqiWI4EuyOV5dB42h1pM0nPbUTzwjwPbao2RXNUBVzBn932IJI5oUTXkPKk/ivtKVzRbmQXjDv6FPX/tg1u+l9jWpy32FVqMY8uKwOvRM1w7fARv1PGB/K6MQdXcpdD3mOmndjG4RbEeO59EZGwMnhMREVF0Me/+jQ0qTl+DvgXia48/4cHS1mj3p7t+V6QlQaHmE7Hnzn9Y0zon4r09gYVrgv8sH5zaexXeFplQunFQhpbfuVnYdjcAycp2hkuSexhTtTpGPlY7f4gXmDv/PspOGY3yNrLsh9v/8wGs86NZ3yKwztgeI0f+jj/WDsUXyw99CkC8NPZwsA3KSjNVDG4RERERERERmRmzvblm7Ygxf45AyUTa44AX2NS5ORZ+V3ApK5osO4ql9ZPg8rIleKZqgdvYeNYDSFkUDbKpKo3nhiN4JJKjbMfqiLN/JNa+LoiGadTOHyIthh29gIXlVYDK6y/8ffcjLLOUg6uMyVnnRbOhw9DcQRf5CsG60FBsP7YErWLK6MrvwOAWkcLMCiKKaswMJSIiigS/e9g+qg1qOjmhZsu+mHdMjRHzOo5ZXeqhcqXaaNN/IY6HGjpGsZDdAKyf5IzkWlNLeO5Hb9cJuK52fZv0aDZ3BIo+/RPzH6gqz4O49D+BZMVdUSJYXCh59aqwT+iPm/ObocogdzRbMAr5Y1Dik9+1Hbj0Bkjt2BCZVd0X3Lfj1+plULpYEVQfeSzEBPSmisEtU8cPgO/GzicRGRuD50RERF/hdQiDqrpg1A17dJ0yDs3j70TvykXw89bt6FiuLTYlrIvh/QvivwVdtD7OCNxS30Zfii39m0ydVmNu/TS6oMa7E8PhOuT09wVp0nbCql1z4Bo4jVbyjli29wj+WeOK4DNrWZefjisel7C8/0hsO7MDgwr9+MjW40PrsOmcvtP/ZMNJvEBC5KmYD/pn5oP9HSqj2ZrA6fJfYFaTAbjVfDX6pbyFvfOXIzCeZ8oY3DJl/ACIUux8ElFUY/CciIgoIh5jTqNOOOK0FMdWDoBLkZJoMbYF7MR9LHP9CUdLLcWeSfVwadQUnHrjjw//u4tX5pBqYmRf7d+YfKJEKjRZuhQts8TRHn/A5YnN0OvQ960HmN6hOPJ+njneBnblyyOvoTnjrbOipFMh7Rn8eH6nO6Js5aZo2n4u3P3+xpiNdxGA5MhVRv9CfI6PwODjKdGwunohfp5IWHsAptY+gulH3yGtc1tk1e8xaQxumSx+AEQVdj6JwsDM0CjD4DkREVHYfLb3wUxPVywaUVxlmmg+euNDABAgsqPp0NJafUKUda2LEsWqoNeUUSgZg4aBxTQR6t+YS6JEkppYsKo78sj3w8c7WNCi/RcrHpo760yFkDtFQqROcAGdKvfCnXrj0d7OG1sb1UDTRs4o/8sNNFq6DI0Cg3bWdmjbqzUSzJuMfz7kQquhxfDJ5/uCgjEBg1smKmo+APzw7NJ+bN9xDLfYOSWi4JgZSkRERNHkxRVLOHbthbyqLHkdPoen/lqHNWslNM8ka6xRqOca/Ht6P6Y2MYc8E+ML++aaeSVKWJcdjz8HFUYC7bH/07Xo0HJ5sEnhY4H0XbHP/SkOj/4ZA/48h4NT+2Dhfx64urIX2g5eiTNntmJA8dCTyT/AjCWXIQq0wy/eA1G2/EBcUXtMlYX2huft5B/oxIkTmDx5MgICAmBpaYm7d+/i/PnzKF++PFKnTv25furUqcicOWg6uHtjm2F4upn4o21QIqTXmurI0nwv3ubqheu3psJW1RtyZ2kbNBi2Dz4ZCsEh9StcvvAIViUHYNWanihi5ndBPDw88Ndff+nuaMjt5s2bGDx4MDp27IhatWrp6uQ5z58/P7Jm5QenMVy7dg358uWDm5sbhgwZomrJ2Hr27IkZM2bg5cuXSJUqvCRqrcFTtRJWll6Jw4EBdPfRKJJhKC5aJEbutntwcZ49FpTJiB7H3wMZWuLEvT94B9WARYsWoUOHDjh8+DAqVKigaom+XfLkyVG6dGns3LlT1ZApGDBgAO7cuaPraMp2xp49exAvXjxUrFjxc1uvSJEiuvYIGYc817LN9+TJE1VDxnLjxg1d+y7wvf3s2TMcP34cxYsX1/VnAuuHDRuGggULqu8KzQ//ts6B0n88QdqmR/BgTfmgG/r0hffv32PHjh2f+zeyrdelSxc0atQILVu2/Ny/yZUrF/LkyQOf7U1Q9HdbbDztFhRQfDYYeTOPxX+WDhhx9yKGZ/LDhemt0XmlO0r1XWQCAcU7mFauMH499lZ7nATlp53DkZ459bvIgMcYXzI3fn9ZHIUT+CLf2L2YX9vQ+EvTweDWD/bmzRskS5ZMlQzLnj27LugVvoh/APgd/xX5Ky5AkhFncWaQnb7y2VJUy9cJl6utx/U1dUNMmGduPnz4gHTp0unOfXguXrwIBwcHVaKoxOBW9Lh8+bKuMxVIBlpkh3j58uVIkiTor7xmzZqwtg66YkRlg+fx6X/xLl9J2H258nCsEBjcOnToEJycnFQt0bdjcMs0yc872ZEPz/z583U32sg4GNyKPv7+/kiTJo3uhnJYZHBXtsXlV8PuoZ+dLSbdSAjnFY+wr4U5906+n+zSy8DV1/qMu3fvRvXq1b87USJMXo9x/aEH/AJUOcIsYZ0iC+wyfefvWevT1izwM3a/EkCCIhjx7wkMd2BYNGx+eHDpGgJyFUJ2c2iry+AW/VjNmjWTAcYwt1GjRqkjw3NX9M1jpR2fRDiveKPqDHkjllROLJCogljsoap0vMWBxqkFrAsLt6eqyoy1b9/+i/McfMuRI4c6kozh6tWruvOsNfZVDRnDxo0bv3hvh97y5cunjg5yd0xT0XLJS1XSe7O6mkiqHW+Zq5e4qeoM8xUvb58S+1aNF52q5BAJLJKKamvDuyaZl4MHD4q4cePqzq3WYA/xOGHChLrHSZMmFXfu3FHfQRQ5yZIlEzVr1lQlMhUPHz4UFhYWn6+9oTd5jXj9+rU6mozByclJZMiQQZXI2Pr27WvwvR64denSRR0ZhpcThWM87VjromLMc1UXHm8P4eGtHgfyuC9uP4o9bZARI0YYPNeBm6WlpfD391dHh+YrTrTKKCy049I1PaKVvoHvIdEqk6XBfztCm2VG0eJA6F9i5HlsbCrSW+l/prVdH3Him16MaVm7dq1Inz59lG12dnbqJ5sWzrkVA7Rp00Y9+pJMIW3durUqhcN9I47c9wesbVHROZyIt9cBbDz7FkieCyU/rwIh2SB/rlSw8vsP29e5qzrzFd45l3799Vf1iMh01a5dWz0Km6HrS/ZBa0LcyZN3da7tuQK5eHCaYvXDX03FfRba1WiJfgvOAu/f4L0IQIB2aYot5NDDBAnkjA+Ar68vPn78+Pmxt7e37nHu3LmRI0cO3WMiih3kUKxKlSrp2nWGNGjQAEmTJlUlItP3tbb21/Z77duPm76AZebSqJ9WVUo+e9DMoSKmBeuu3JnjihIVa6N09hSwa7MBjw8PR93SpVDetQPaVsqBpDlcseSBOtiMtWrVSj0yTA6PlkMTDXuCjSefQyAJCtQq9G1DQK2dsPyRvy6L7Js2/8dYUfn704eSN1iMFe1zIK722P/NU7z8pK83Z3KoqWz3R+VmkrQ3Ev1gMoIu7ySFvqMny5UrV1ZHhe/Nqqr6rIqcPcR/qk7He7doWsBJTA1MwnjeX9hZaj87Vy8ROkHr5ZgiQrsIiIztLqoa8yazswzdRZWZFh4eIdLaKIoxcyv69OjR44v3eOAm7+A9e/ZMHRmeiGaGhnS3YxbtexIL51Wx566pNHDgwBDnOfS2YMECdSRR5DFzy3StWLHC4DVBbnv37lVHkbEwcyv6FS1a1GD/5ouskKfLRUv75CJBIgfx60mZZvNGrK+VXHd8shrrtFKQp7MrizxV5gb1Y7z3iWZ5Swm3Rx5iZqkEAlZJRMYCDcW822r/7c4iKyxEtm7h552bi7Jlyxrs38jt5s1wzkFkM+VitOdiXZMMIm58e9Hn6Pdngn3mfVdcvWmsNq2veHpxn9i2/ai4GY3dUN/Lo4WzbUntPJlHehszt2IAGUGX2RPa70PV6Mmywbsaz/5Aq7wpYJO4IHqfkstWeGHf6tOQM0glyV0WGXQH6T1bNgnn0zZBk8AkDK/X8AkALCzjqIpg4sWBlfblw+unMP2FQL/O0DmX6tevr5vThMgchHVnVGv46OZckPPPfVVEM0NJJ7xs2/jx46Np06aqRESxiczOSpQokSrpyWtxhgwZUKVKFVVDZD7atm1rsH8j64Pz3LwAG//zxPv37/BBK/tdmIAJV2yQOi7g7/def5DG5/hQNJ4BtJ/TGelVnd/VP3E7dSO0T3MP5x5qx1qkReNFq9FJzSPu9/CV1q8RELEge0cy1L+R15kyZcrA1jbsWbQikykXs/nhyth6aL/hA5ym7sSkslE0kZTfcXTOlwv5CtbAHE9VF0XkQm8FM2VD+fZTsWxuH9TKnwH2Dafj3HetTumFe8d3YdexWwj36X4KQLw09nCwNY95yRjciiEMdUBlA0g2hEL7ng8A+PojzPn9At8NAbHj6h9W6m7oD1wiUyZX3ypQoMAXQ2HCDJ4bYD4NnuhhZ2cHR0dHg8OPGjdujMSJE6sSEcUmNjY2aNKkiSrpyWux7IyGPVSIyHQ1a9YMcePKwWFB5Htdrt4XXPJqTVEuTUKkLV4OcRY2Qumme1Bo0r/YNqg0rE8OQo1WXdGxYWkU63AWNf/Yhb7BYjTWjgtx6nBvpH21CSefAwkcf8FvxYM66nc3nYU7kiFvleANGPPl6ur6xST98jrTrl07VdJ8T6JEDOe5owtqDz+H1O1XY0Pn7Ko2CljnRJV6tdFkwG9wjcIcCLnQW43O6xG320HcOrULG3eexM0zo5HlUD+4tN6qmxIkcu5gXQ8n2GcvDJeeIzCodUlkiJcMuWsMw54X6pBgrAsNxfZjS9DKTP48+EkaQ8g5WEqWLBmiMyQbQLIhFNr3fAAgZWLEkzMF+hsIYPnpA1/WidLAQF6X2cmWLRvKly//+ZzLr/LuadWqVXVlInMhg1ih7+LJVVrr1KmjSsGYcYMnOoWVGRqicUlEsY6hmwoRvdFAZGpSpEiBunXrqpK+rV2tWjWkT//5trtezu5ax/t/ODqyPHIW/RlLjp3BgkaZUHLkP3h4bgXaF8oKu/rjsPv8bgwOFrgKznPbUTzwjwPbao0RFHu4gjm770MkcUSLqrEj81yuhh06OULOBSqDXoG+K1EiJrs1Ew1bLodH8dHYPqNaFK/+nxaNpm7B2uHVEHXNXi+s+m0xblk7omtnO1WnSd8E/askw7NNIzHzmaqLED+cGuCKwZddsObGHVw9fQoX7zzCP8Pz4NkeNzSqNTIoG8x9O36tXgalixVB9ZHHtO80DwxuxSChU3fDbOx8zwdA/DzIkAAQPh54HOpd/OF/XviEuEidO+u3TSJogoJ3QOVXec5595TMTYsWLWBlJQcdB2nevLnB5bfNtsETzeTd6jhxgm4TyAZ91qxZdRPOE1HsVbZsWd2CEvKaIDd5Y1Pe4CQyV8H7M4FtbcNsYOvcDj0714VDsOiBjW1ltO09AL1blEfWMDsoPji19yq8LTKhdOOgFBS/c7Ow7W4AkpXtDJck9zCmanWMfKx2mrHQo1NkwkTwIdHflSgRU/kcRs/a/XAsUTMs294XeaO4M+v+7EXUT9sT1Qu9+RzBpGWX8OLRGZz/PBbRBkX6zkfTLBbwPjsTo/bJV/ECs5oMwK3mq9Ev5S3snb8c5rLeAnvxMYi88ASm7sqGj2wAhe0bPwCS14VzLu3fePsAF/ULdyk+uHrPAwGWWVChYexI25XkECE5B04gDkkkc5QmTRrUrFlTlfTCalyaZYPnB5B3q4NnxskGvczakp1ZIordAm9myo3tDjJ3cn5P2Q6R5IqgwTO5os5tbDzrAaQsigbZVJXGc8MRPBLJUbZjdcTZPxJrXxdEQ/1TMWvOzs5ImzaoP/dF1ngUZMrFLI+xpIkr5jzOj8FbF6P+dw0b9MGxeVOw4Z6+5HdlChqUKo0mLgWRJlVVTLujr//M/R4uXTiHc+ciuF24hDsvVIbJ+5O44wVYxEscLNtQzypxAljiAx5ffqpqIsIS8eL4w/vhBVx+paok60zIl17e0H6HJ9d9tBfliYS1B2Bq7SOYfvQd0jq3DX8ldFOifbBSDFKkSBGZRiQGDBigaqKex4oaIrlFElF5SeASihrvnaJhakuRsNRU8UhVxRbah6zunGfJkkXVkLFxtcTot3HjRt05l5u9vb2qDYu3uLlvsZg2d4u4GPwycfOAWDJ5nJi84oi4H4FFVWLraomBtmzZ8vmcW1hYiAcPHqg9RN+OqyWavocPH36+Nrx+/VrVkrFxtcQfp3Xr1rr3u4uLi6qJYh5TRYn4EMlqhlxZ0ffILyJfwiQid406olTRWmLMefNYES4ievfu/fk6Y958xcnBDsImTlpRb/nnNTS/3e3fRdH0ZcUM2f71PSt6FbEXrXa+EW8WVxAJYS2KTQrWMBb3xWAHa62Npz/PEdq09mDc3L+Iy/Lbb3YUWbQ6y9x9g1b/VF5OLi7ia/tSNtittcoj4eVVcfluqO/wPSpaprfQ/u1MonWwVREfjXEQcSxyiX43fYW3dxSuKvkDMXMrhhk7dqxuWFy3bt1UTdRL3mIVVnbPgQt9S6FOv+mYM6YrXIq2wsEULbFwYy9kUsfFFp06ddJ9HTx4sO4rkTmqXbu2ehSRDMXvGRpAgWS2XOBw0MqVKyNLFq0JQ0SxXubMmXXXBDl8WWayEJm7fv366b4OGzZM9zXKJe+IZXuP4J81riHmWbIuPx1XPC5hef+R2HZmBwYVij2Nl8AM/aFDh+q+mqsXf7ZC/Yk3kbXnBqxq9Z0TZfidxsimE3ErVzO00Nq/fhfn4mj8lhhd0x8bV57RDXstGWLV8KwYfdEXAQH6TNwIbQEB8LsxHfnltxtjobdUeZE/e8g5u+/NH4TNz4CkFQfBrWzg38ADzFhyGaJAO/ziPRBlyw/EFbXHlDG4FcPIpaDlOGnZ8DGe5Kg54zweHp2O6kkf44ZHGjiPPoA715ehWSycPEdObJknTx7dvERE5koOeW7fvr3ucehViozF95O/9n8B/4/6cmwjz3ngcFDZiSUiCiQ7nmHPPURkXvLly6eb57Z48eKqJqrZwK58eeQ1NIO4dVaUdCoUhZOAmwa5UrZcuTnwJr458rsyFvXab8AHp6nYOams9i74Du57MdipOkadESjcsplumKBcifPMP4OQ6cVSzD3ujTj2zdDbIQoDpNGw0Jvf6aGoN+AE4pQajj3buwZLYrFCypTxEe/dXjRtcQKOw930ATcTx+BWDPL06VP06dNH1yGSUfZ3796pPcZhk7cmug6diOmTRqBng0JfjPWNLa5evYqBAwfixo0bqobIPHXp0kUXbEmXLp2qMQKvDWhfLCeypE8Fx5XPYGHhjb+7ZEPaTNmRu+4UGFiF2KwNHz5ctzKlnMCfiEhas2YNjh49ii1btmDnzp2qlsg8vX79WtfOtra21mVwubtHYoJs+mayX9O1a1c8efJElzFkdjx3oEvt4TiX+mes3tAZ2VV1pPlcwep+LshrWwtjT3jAP5EjWjUK2Su+N3MxzvvGQ5EOPb78d/zc8ezxAzx4EMHt8TO4By7qZuSF3uSiUNVqTMWLcuNx6PBwlAwR/cuEAf++xrXN07Di1AnMr20eq4laaG92M3y3mx554SlatChevAjZ9fPx8dEt30rGIYd/zpkzR5X0Pn369MXKchS1rl27pruL5+bmhiFDhqhaMib5vj5z5gxu3ryJ8uXLI1u2YDOuklHNnj3bqEPNKXZJnjw5SpcuzaCIiRo/fryuox9cx44dMX/+fFUiY6lYsaLuM1C2uSl6eHl5oVixYrh165aq0ZMBrpQpU6oSRbVRo0bpbq4F7+Z7e3vDxua7cptikFuYWak4ev6dAFV6dUWF5BFZrOcT3r92x4v/vdTef6/g4emJl0/v4/7jV3gvBxooiassx+P9rYKGt/pdQtc8hTDXvSKWP/kLFeY6o92befhrTE5t5wMMzp8LY69GbuigZa7uuHhrJvLjGUYVzIrf7pbGwoeH0f5zTM0HextmQfUtydDj8m3MyKuqI8Hv3HhUrTUJno0WYc/MurqVzR9vn4P96dqjraMZD8+VwS368bp06RI00VywbcaMGeoIimqLFi0yeM7HjRunjiBj4YTy0evNmzeiTJkyId7nnTp1UnvJWFasWCFy5sypW6wiXbp0YuvWrWoP0bfjhPKmS04eb2lpGeJaHLiR8XFC+egn23mG3u8DBw5UR1BU27Vrl8FzLvua5sFXXBxSQMQz8Bq/f0sqqoZeBOn5byK/FURi51Xijfc+0TZvIfHL2ahbmMAYC735nhotnLLbivqzL2tnK9BLMbmMnai/xTwmjg8LM7diCLlE69KlS1UpyIQJEz5PwkhRa+TIkRgxYoQqBenevTtmzpypSmQMzNyKXnIC+WXLlqlSkP/++w92dnaqRFFJDjuSQxEt5BI6wT5mr1+/rpvjj+hbMXPLdMlsldSpU6tSSGyOGx8zt6KfnEBetvVC69WrF6ZOnapKFJUWLlyoywYNrUGDBti4caMqmTavSzuw8dQzfIriy6aFdRaUbVYNdsETm/yOo2/hypjzvhwqp3sJX+f52DGy+DcPFfySJ3b9UgmtVr1D6XbdUT35Dexa8SeOCxfMPhT5+bD9TrmhYrVRuJIsL2xTqpFIAR/x3tsTjx8lRrc7VzHGnOfYlsEt+vF69uwp/zy/2ObNm6eOoKg2duxYg+e8T58+6ggyFmZuRa8SJUp88T6Xm9Y5VkdQVHN1dTV4zufMmaOOIPo2zNwyXV5eXsLaWi4bb/H5miAfJ06cWB1BxsTMreg3YcKEEJ+Bgdvw4cPVERTVli9fbvCcN2vWTB1BkfdUnNq+U5x6ropG4H11p5g9qq/4pc9wMW3jeeGh6iPFe4/4Kb3h7GDdlsJFbDLvxC3BCeVjiN9++w05c8qxu0EqVKiAn3/+WZUoqsk5cORKIsHlyJEDAwYMUCUi8yCzhwwJq56IiKJe4sSJdXPwae1vVQNYWlpC64yqEpF56dGjh27OreDy58+Pvn37qhJFNbk6s8xSDE5mjBrKoKOISg9Hl5pwTKuKRhAlC73ZVMPKp/66zxiD26vtqG8u066FgcGtGCJFihQ4e/Ysxo0bpxsuN2PGDOzfvx9x4nzP4p8UHtnIPHnyJDp06KAru7q64vz582EOGSAyVe3bt1ePguTKlQvlypVTJYpqDRs2VI+CJEmSBFWqVFElIoqN5PX4wIEDuuGlmTJlwrFjx1C/fn21l8i8xI8fX7cy6JQpU3T9m4kTJ+Lff/9FokSJ1BEU1eSq+/v27dMF0uWk8nJy+StXruhu4BOZO865RbHenj17UKNGDaxYsQItWrRQtWRMnHMr+i1YsACTJ09GQEAAsmfPjiVLlug6VmQ8a9eu1d21lvPsODg46OY9K1y4sNpL9G0455Z5kNn6adKkwYkTJ1QNGRvn3CIiMm/M3CIiigXk5KI3btzQLcct7+gxsGV8TZs21S1QIclJXBnYIiIiIiIyDga3iIiIjOTTp0+6r1ZWasUaIiIiIiKKcgxuERERGUlgcIvzJxIRERERGQ+DW0REREbi7++v+8rgFhERERGR8TC4RUREZCQclkhEREREZHwMbhERERkJhyUSERERERkfg1tERERGwmGJRERERETGx+AWERGRkXBYIhERERGR8TG4RUREZCQclkhEREREZHwMbhERERkJg1tERERERMbH4BYREZGRBM65xWGJRERERETGw+AWERGRkcjMLQa2iIiIiIiMi8EtIiIiI5HBLQ5JJCIiIiIyLga3iIiIjEQOS2TmFhERERGRcTG4RUREZCTM3CIiIiIiMj4Gt4iIiIyEwS0iIiIiIuNjcIuIiMhI5LBEBreIiIiIiIyLwS0iIiIj4WqJRERERETGx+AWERGRkXBYIhERERGR8TG4RUREZCQclkhEREREZHwMbhERERkJhyUSERERERkfg1tERERGwmGJRERERETGx+AWERGRkXBYIhERERGR8TG4RUREZCQclkhEREREZHwMbhERERkJhyUSERERERkfg1tERERGwmGJRERERETGx+AWERGRkXBYIhERERGR8TG4RUREZCQclkhEREREZHwMbhERERkJhyUSERERERmfhdCox0Sx0p49e1CjRg0ULlwYLVq0ULVkTNeuXcPixYvh5uaGIUOGqFoi85M6dWq4u7tj8uTJqobo+/Tp0wc1a9bEzp07VQ2Zopw5c+Lu3bu8NkQj+beTIUMGPHnyRNUQEZE5YXCLYr0rV67AwcEB/FOIfgsXLkT79u1Vicj8FCpUCBcvXlQloqjRtm1bLFmyRJXIFDk5OeHIkSOqRNFFXpPPnz+vSkREZE4Y3CLS3Lx5E+/evVMlig4JEiSAvb29KhGZJ5m19fDhQ1Ui+n4WFha6GzJcqMC0eXp64t69e6pE0SV37txIlCiRKhERkTlhcIuIiIiIiIiIiEwWJ5QnIiIiIiIiIiKTxeAWERERERERERGZLAa3iIiIiIiIiIjIZDG4RUREREREREREJovBLSIiIiIiIiIiMlkMbhERERERERERkclicIuIiIiIiIiIiEwWg1tERERERERERGSyGNwiIiIiIiIiIiKTxeAWERERERERERGZLAa3iIiIiIiIiIjIZDG4RUREREREREREJovBLSIiIiIiIiIiMlkMbhERERERERERkclicIuIiIiIiIjMhp/nA1w6vh+7jt+Bn6qLKvJnX9F+9o6/b0X5zyaib8fgFhEREREREZk8rw0NkT6OBeKlyIaCZaqiTsel8FT7vpfP1ibIEMdS97MLyJ/dfj5eqX1E9OMxuEVEREREREQxn9cdXLnlrgpfStJoI+7cP4V1bXMijqqLKjZ11+H2/TPY1MkOcVUdEcUcDG4RERERERFRjOe58mfU+nltuNlYNpkcUb16biRS5ahkk6kIqtWxRxJVJqKYg8EtIiL6Mbye4frpQ9j116VvHjLAeS+IiIhij9e3nsMrQBXCE8cSFuphlLOyYCeaKAbi3yURUazkgwfH12HKoI5o1aYHhk9fg7/v+Kh9RvagP/Jba43OpBlgX7wSajV3w7lI/tOc94KIiCi2eYBVh+/DT6giEVEwDG5RhDA7gsiMPN6OvmVyo2jTcdhxzR2vbh/C4iEtUCFPBuRznYLjUTXzaliyTsC5p1dwYEzZb07r57wXREREsYvn5v6YfckXjG0RkSEMbsUwnn9Pwa+jd0XZqh7fi9kRRGbGZxd+rtAa2+xn4urD8zi4dRN2HruCxxcXonF6H1xb3weVy/bF30aOYlunyovKbRyR9jvGDHDeCyIiIlPihWNT2qBahcpo2G81rge2NXyuYd2IjnCtVh7lnOuj05RDeKF2SV63DmHJABcUaf4nngcAn54fxLghQzBEbkPd8Mfprzda3P+ehZ7Na8GpgjMatOmNWX89U3uimh9ubRiEhmWLolDBgihYuBScm/bHyiuhU9S147ZOg9vo8Zg8bSZmTZ+CSWNHw23Sn7gU+HL8TmP1+NEYO2kaZmr7J4wZiz/+DXqtfrc2YGjTCiiYNz8c8udFgVJ18evySwj8l/xOLcGgrj+jhWtd1KjshDZzHmiV1/HnsNaoVbEi6v6yJOjfIjIDDG7FED7Xt2JM6xLIU7kPps3bgEeq/rt9ZUWRr2F2BJF5ue42AJtsOmHTnPpIq+p0crbDsiUNdcGmD9dmosfYO2qHMVnB4nsnxOC8F0RERCbh8bzGaLsqCTr0LYzrM1uiTP3leLC3H8oVbIxFTzKjev8ZmNhQYHv/KnBouAb6HowPLqyagaVHPZA2vX6KeH/Pa/j70CEc0m1/4/yDD7p6w/xxql8FVBhwHKldBmHG2JbIeGkhfqmaFxUnXVfHRBVP7OhcHNUnuKPyuK04dfEiTv/ZAzmuzEWrIrngMv1KsBEwn/Dk9F5sXDkTw/v8gh69+qDfyBlYteMEHn5Sh3y4hV2LxmFov1/xS6/+GDVnDf666a3t8MM1rR2Xq0BzzL1XEEO2n8OlK4cwpcpLLP+5OPK1WAMZuvtw/yQOHtiHXdu2Y8/BIzhw8iSGVGmAaY9yINPrk9g2swNqdz3GUTlkPgT9QE/F8JJJhU2ChCJZeltR1D6l0DppApnaiovqiO/lMbuCyFJupvBQ5W/lvbO+SKk9NwvbPtqzJiLT9Fz87hBXAJbCJk8HsdNbVQfyPiAap9Zl+4s4BX7Tjjayp31Fbkvt30vTWBwI/VwiyHtPA5Ga1yYiIqIY7rL4pYC9aP+Pr/bhvUm4JNc+/61Tioy5KogxZ4M3Aq6K9pm1fXEdxKhQDZHng+2FlfaZn6D01/s2bzbWEsm1Yy1TZhWFa84Ut1W95Hu+g8hqof0baZt8U/sjzLbH5e4ip6WFiJPcUQw8ob3OQPdniNIJtX8vnoMYflPVfeYrDrXOrOsDJig1TbxUtZ957xEN0sQTOTvt+/ya3+xsLbLEgbDK1lEcDfbPaHvE2hrJBSySiWrLg87QoyH5RBzt56eyLSIcOx3Qjnok3IrG07UHM7U+KL6xCUYU4/CG9w+VHr2338ZLn3fwfHoTe1pmg3bhiVIRXlHka5gdQWQGPsLDR94ODIDPzf3Y/kRf+5lNXmRMqk+l+uR+F/d4K4+IiIiiwrUF2P+xDLoUswZe/ovbXlrdpzgoM2EzBhWx0R8j+TzDG5mI9ek9PKKgDxPwOi7Kju+OnKosWWfNhwzxtQce13Hirb4uKvi9dMe7AIFPnlfw9xmZYaVkbYbGBbR/0Pc/bF4dfMClZA2nYS2RNy7w/uwyzHugqgPdP4DbSetj1hRnJJdlv0v4vc8qPPwUF/nbjUBZ7XQGSYLaXSsgpXiNwzMXfh7aGT+5ja6P6f4kPpqPrKwdlQlDjt/G2RNXcXVZRQQ7+0QmjfGKHyxJqlRGvKBwRREiCi4TuvZtCoesWeHg2hs9sqrqQH6P4eGjv2BYJEiG1FqDSc7n4PZLB7Ru2gC1qlZEncF7dXM5uP89E91dq0d47opnx1difO82qFu5Elza9Mf0XdejIQ0+IvNeGH/OC4nzXhARUWzmc+cTCtZri/xa28Jz+1E88Afi5u+GyfV1IZsgb47iupx8OGEm5JcBqO+VsjDq5lCPP7OBtewF+/vibVQkASjWFSdixcRu6DR0GRZ2DP66rJE+aTzt60d4vTAwhDLnL+jkqPUI/S5j2aQLwdpHfvh7wg4EVBuASoEdxptzsemmvFGZBoVqp9fXBWPj6IAMcQDfu8fwb6hpviwzl0ajwDkprDOhSEk7zltKZoXBLTPGFUWIKDTbTqtx8f59XFzbA3lD3O3T3FyNE7rbfBZIV6oeZJPp07Pz+Hv/fuzethW79h/GgSP/4e9BTijf7zjS1Rv69bkrvE5hSkNb5K7cD7s+FkfXqbMwsGpyXJ3WHBV6X4Sv0S5QEZ33wvhzXkic94KIiGIzm9pzsGZsaVjDB4f3Xcd7rRuatVJTZFL7A7lv2Ifb2udv3ByVUCNU3OubxE+GjGFmEgRo/0WlTHDuOwvzRlWH5cGZ6N2sEorkyQVbu9IYelplcglD/2JatPq1IpLDH3fXj8OhwKCU1zZMPpYYTfoW0s6bnufhi7pJ9YHXONyhBEqUCLXVXosnFhawtPDH28B2jBI/dXYkVI+JzJIankgxwMsxRYV24frKnFu+4vbGQcK1amVRuZKTKFOskChZt69YvPhXUcVlqDjvK8SbmwfF4v61RLb4uriWiJujvug/eLAYLLcho8TyUyEGZ0dI+PPa+Iqb6weKBmWKiIIODsKhUElRpUk/seJy6BHc2nFbpopRbuPEpKkzxMxpk8XEMW5i1MR14mLgU/I9JVaNcxNjJk4VM7T940ePEcuDjVn3vbleDGlSXjjY5xMF8tmL/CXriF7LLn4eK+57crEY2KWd+KlxHVG9UgXRevZ9rfI/sW5oK1HTyUnU6bE46N8iomB8xcGWGYSFvAYlKiUmBZ+cQuMxr4LQGkQifg4HUbxWBOeu8D4guueOJ2CVXjRYpv0thvBILK+dWj/PoDHm3Ir0vBfGn/NC4rwXREQUq2lt/dYZZR8lrWh2JHSj3EPMK59Q2xdH2A8M1RDRfMucW8jSQXwxzZXHAlFBtgUsc4u+3zBhZ9j9Il/x3/IOwjFNXGERN6Uo/NMYsensU61WaxdUT6brl2XrfFcdG4rvEdEqo4V2TBJRZZn+1T2fWV7kqLwwxGv93F+MW0iM+qKxYtjLSY4ivvY9iSou/up5IzJlzNwyKT74q2shlOhzFaWGr8eBvw7h2Ol/sPJnf8zpNQ0HTlzF80/fu6JIZHFVECJz4HdhOHqsewoRJwMaz/4TfYJPTqGxSp1Id9fwwwMflBgXkbkr/HCsV3vMvemLROV+x6LWocdAZkLTwVVDrtgYhSI/74Xx57yQOO8FERHFas824ORz7WtiB9QsFOLDU/twXInlMsMpTh406BiqIRIW9ymoU9MNoT+2f4THixqhfLuFOO1TCL//+xDnVg5C/SLpP2ddhcu6PAY0za21EbxwdOY8PMYdzFz2DEV7Nde3OxQbu/TQ9fA+vcOrqOzSEZkBBrdMyZ3R6LnoIez7LUOv0oGXORvkrD0Fe8aVRiIrfbn8iM04evw4tjbLDFkVz747dmnl43L7Zx+mNorC0dVXfkOvhZfw8PZFPIqTRnfxtrZtjvk7x6CU9TPsHPATxtzSHyqfm5Pbbpz/7y52tMyse/MlKDIYRw9PhUtgjy5Jc6y8uAH10sRDzk678fDxJSxvlRxeuzqiRs8teJq+LbYenQHXnPJfSgvnUXswt6oN7q/uirZ/eCKJ63ycvPkIl/rm1XUgfU+Mx/68M7Fn2c/IYqVPAw749BGhsnSJYjefvzGg2VRc9U+DmtMP489WoQcJBBPRuSt8dmLCxvvwRzzYu9QL0TD7zDoO9NPXR71vmvcimua8kDjvBRERxUbumw/jvr/20ZfLCc6hPvheLFuBc++BuHkbo0N2rcJnK1wdnDFHzsGlo1oNMgcq0MfHuHPv8Y+/ce33L0aM2omX/law7bAMQ4NPkq/58FF70YG0Y3+pWA/zPr8uvbx92qGwvP92YSkmbBiPzR8qoa/WzwnOpnJ9FJTRLfECl/+Ss/Ibcgerp3MuT4p9GNwyIT5XLuPZxw94eOoMQl/KUjWsgtyJjddRDAtXBSEydfew0LURZt5JhfqzjmBzV1tVH4aIzl3xcDcuesgHiZE534/4i/uWeS+iZ84LifNeEJkDmVXeEsVy2qJkx+Xa1fRrjH08UUznhcP7b+KD1gXNVLZBqOxtT6zfdAW+iAeHph0h8709N83DhWR10FDdo7JOk1T3OfzJ2/NzMMvv0SsE2KT98TeIvE/j2kvZMEiMnCVD3yR8jLP3g/WTPr3Bi+fP4Rks3qWTvjN+Kae9Ev/bWNphBxI07IfiIfo9miQt8HuLHFo/5y3+XbQyRHZ4IJ89QzF88WVYhv7e4EFBIjPE4JYJsSlUHFms/fFweS1kty+Hhj0mYMMFd/3OtN2xfNNYVIzmPiRXBSEyZZ7Y0aEKeh5OifbrzmJTZ7vPwZvw6JJEv8LnyWut8SpZwTqRDDVHNz9c/6MjiqdNhbx1RuKwlTOGrTmKq9ePw624fsi2IUnq9EftjBYQL3Zj0nr9LdUXf8zElWwd0S3YyEr/t37QtUnj2qL97pM4eTLUduoGXvkFwN99J1oYuOhYxpXjOInItN3ElHErcfbubZxcPBozH6vqMBn7eKIYzu8Gdlx8rT1IjeKNQqeB++PDpwDAIiNKuWrtfZ/DGDL1KZyG/fw5CJa8TlXYxtV6F3f/whZdVMcP11ZdQFzHWl9kiL9/+ErfDvH+H26EzqD2egJP2fkQPnj1LPLpTT733XUrIot3z3Ev8NsTlkGJTLK944ULG48ES0TQnuP47jicOJduOOHrB6fh9fYKHot0sPui35YEDfrVRFoLgXcfc6JdD0NDM61RdvpaDC2TDB/+GYS6o/4NuTrzhVlo8ssllBkzEvlVnbvWJvuoffV9dRcvIv9yiUwGg1umJGt/rPi9AlJYfYTH9WPYNGsAGhdOA+ukWVG6yx7EscsZoY5p1OKqIESmyQ+nhjmj1aZU6LPnLObVD3b/1GsNenSa813zV9jkSI/EulTSj/B5Ff0Dgb953gvOeUFEEZYFdWvkR5K41khRpA7qpFDVYTL28UQxnPe/uPEKsEhdBq7FQn8ip0LLbjWRNo47jgxthRqluuBmvaWY5RwsApR9MOYPq4C0fsfQu3hpuLiUReO/8qL/0OKfP9+9NjVDtoTxkbnvKfhaWsLSczvqJYuPRPl64LT7EtTOYIN4uUbhir+2z+IJlpdMApskxTHcUApUKD7bWyCH9rMzdDuG9/JnP1+D8oniI7HjUDyzLoKpuxejdYFkeLWxCfKXbYLOPTqikVNJNDtYGjP2L0XXQgnxZm8b5Cg8D4nbuqGWgaQEmwpa/y5HXKSs3BttUqnK0KwdMfzYdewcVBRPJzgjez4n1G/eAg0rFYJ9w5XINm4vlrkkgfuUSkiVIB4KTL8NoT1f/ytjkNfGGjZJi6DvFfWziMyJmlieYoCIrZYoxJuzC0W3mo4iT8ZkIr6lLsFUtyUsMlQEXwgxMiuKfA1XBSEyL7dnVxeZ05cTbgZWT/Xe01jYOrqFWDEw0qsO+R4VLTPIv++4wmGE4aWIfE+1Ehnkz4zq1RJ9T4ifs1hq/7aVsP31qqoM9EYsq5w46NqkHdvDqa6YG/xC8XS8cJSrzVrZih7rO4i8+TqJk6FP05vFomIi7RgkFpWXvVGVod0Wq6aFXKGV1yYiIoq93ojz6+aJdWfD+tzUmhTnN4mZE2eIjWfDafR7nBLrZ4wTk5YdEfe/bMb8cN43D4gVM8cJt3GzxfqTwdtAb8Tto/vEibvhPGnfU6Jbfnvx8z8RfWG+4tHJ9WL2uHFi5toTBla1J4o9mLllSu6sxKR5pxG/SHvM2nkK1x974v2LU1g+uAHsE1nA+9wU9F4UambC0KJ4RRGuCkJketw3tUHtSb7ovGkTuubyhqenp25zf/EM9y79hWXTj8EnW8nvm5vOuiyGdSmE+PiIG1sXG5wrxuvcA33avgg2V1dU+N55L4w954Ukw2tERESxShIUcu0E1yJhTxKSvFB9dO/bAw2KhJW2pEnuiEY9BqBP6/LIGqFOR/Sysa2MFt0HYMiArmhUPPiUKkmQs6wzSmYP+0n77BuPvXHqoW/piL4wa2Qq3ghdBwxA9yYl8eUELkSxB4NbJsTr1EqMGzUFx4OPlU7liFajN+LM9pbIaOmDO//eQtBuI68owlVBiEyOz7EBqNxyOf67dwhDSqVGihQpPm+p02VAjoJV0G23O1Lmyx8iuPUtc1fYDl2NcVVTw//CRPw0/lKI647fhfFwHX0K72Xh3UOc+4Y5LyTjzHthnDkvJM57QURERNKd6S7ImjINCnTYrNoqz7Bs0nlk7NATdroyEUUGg1sxUTh39D89P4S5B0P3LAGb/IWRydoKCVOm/Jw1ZfQVRbgqCJGJeYbRnSbj0peXkFCSIleJxLpH3zd3hR167r2GPcMc8XisE+zKuqJT959Rr2xBOLQ8iHJuaqWk96cxMFd8WGdtjl1ffW56xp73IirnvJA47wUREREF8cGtv0/iocdL/PfPaV1wy31DT0z3rAW39iHXkSSiiLGQYxPVY/qR/F7grw6OqPrHIwQkqYgFl/agQ6g8W6811ZGl+V745OiA7WcWoFqwsXv3ZpVH4cEfMfT8CfQNTDK4NwIF84zEpXgVMO/2YXRK64cLPR3RynchzswLmngxItznV0C2zn/DO/1P+Of+SugyZf3O4df8JTDtVgDSuW7BjXW1VdBMZkdUR9O1T3Dvwk3EqbEOD5Y+Qo0KR9H33BbUD9WJ9NnfDDmqrcULm7KYff8ouhrqSPqdxshKVTHqeACKjdyLg8OChkzJDImGrnORcsqJzx3J671zI//UW7AsMASXzrjBLjIvloiMwA+Pj2/G5qOPET+fMxq5OCC5+yEsWXIRH9NlQuZsOWCbxw62aUNdIL6Tz62/sGnvGTzwTow8FesHGx7ghTvHTuJlxgqGhwdo15zuRVvjw/wLWBShoQHa6zu1DdsO3UFAtgpoyKEBREREFA6fwz1RrP46pGzRDWXfHsa2k1b4adUODC7CjgvRt2Bw64fywhrXgui86znef/CFbvVbCzmUUEAIC1hZx0eCRMUw8PoRDE6lHb2uBrK1vobidTPjztn3yF60KOzS+OPp5RM4+SAZ6o5bhVlNsut/tI4f/h1VFfXcjuFtuuKoWOATbtzPieF71qBF6ESrMMjsiPxNN+Cx70f4y3eKtlnEiYsEBfvi5mk3pL/zB9rU/xWrr71HupK1UbNwUrhfPoNb8Wpi+qqa2O1cFRMvBSBF2owo1nMztg3I/2VQze8CeuQtjjX51uHh1vrhzPPzAnuHNEOHGafhm6UoShfMBMvnV3DhQXzUnLgBMxtk0mVH2A35B2/8PiJADsvU3t7CMg7iJ8yPrv+cw6Tg44OIiMLgs6MRCg7Lje3nx3BoABERERmF363tmLlgP56lKIMmnZvAMfjEw0QUKQxumZIXx/HXPXtULqld9Z6dwqath3HdOwXylamMiiWzhz3U0PM0Nqw8iAdJSqFRM+NMvPjN2RESMySI6AeSc15U+v0UkjSYj38W1teupc8wx6ks/nQ9jsNdOTSAiIiIiCimY3CLfjhmSBDRj+ODPQ2zosYmd1jZD8L9a2MQf4MryoxKh8WnZ6AsRwYQEREREcV4nFCeohVXBSGimMUG5Xs0h32ytChVOQFmt6mMCsNeo/XSSQxsERERERGZCAa3KBpxVRAiinlsnKbjwqmFqBf/JT7m6Yhlx/dxMlciIiIiIhPCYYkUrbgqCBERERERERFFJQa3KNpxVRAiIiIiIiIiiioMbhERERERERERkcninFtERERERERERGSyGNwiIiIiIiIiIiKTxeAWERERERERERGZLAa3iIiIiIiIiIjIZDG4RUREREREREREJovBLSIiIiIiIiIiMlkMbhERERERERERkclicIuIiIiIiIiIiEwWg1tERERERERERGSyGNwiIiIiIiIiIiKTxeAWERERERERERGZLAa3iIiIiIiIiIjIZDG4RUREREREREREJovBLSIiIiIiIiIiMlkMbhERERERERERkclicIuIiIiIiIiIiEwWg1tERERERERERGSyGNwiIiIiIiIiIiKTxeAWERERERERERGZLAa3iIiIiIiIiIjIZDG4RUREREREREREJovBLSIiIiIiIiIiMlkMbhERERERERERkclicIuIiIiIiIiIiEwWg1tERERERERERGSyGNwiIiIiIiIiIiKTxeAWERERERERERGZLAa3iIiIiIiIiIjIZDG4RUREREREREREJovBLSIiIiIiIiIiMlkMbhERERERERERkclicIuIiIiIiIiIiEwWg1tERERERERERGSyGNwiIiIiIiIiIiKTxeAWERERERERERGZLAa3iIiIiIiIiIjIZDG4RUREREREREREJovBLSIiIiIiIiIiMlkMbhERERERERERkclicIuIiIiIiIiIiEwWg1tERERERERERGSyGNwiIiIiIiIiIiKTxeAWERERERERERGZLAa3iIiIiIiIiIjIZDG4RUREREREREREJovBLSIiIiIiIiIiMlkMbhERERERERERkclicIuIiIiIiIiIiEwWg1tERERERERERGSyGNwiIiIiIiIiIiKTZSE06jEREZmIgADg5gPg/HXg6UtAXsktLIDM6YDCdkCuzPoyEZHJeHwfuHpO+3pPf5GTUqUF8hYGctoDceLo64iIiIhCYXCLiMiEnL4KzN8AbDgAvPNRlQYkSww0rQ50aggUsFWVREQxzYPbwNr5wJYVwKsXqtKAeAmAKnWBZp2B4hVUJREREZEeg1tERCbgxn2gkxtw7Ly+XKYQUL4IUNgeyJ5Bn6Ulr+a3HwLnbwCHTusDYVLVUsDcIUDW9PoyEdEP9+p/wO89gN3rtYJ28bLND5SrBuTTLmzZ8wCWVvrjnj/SZ3OdPQacOKgdGgDYaxfA0YuA/EX1xxAREVGsx+AWEVEMJq/Qk/8Ahs8DPvkDHRsCXV21vl12dUA4LtwAZq0Flm0DEiYAJvQCOjVSO4mIfpSd64CR3YDXr4DqjYE22sWpSGm1Mxxy2OIa7WK4fLp2QfwItO8H9Bpl2sMVPTegf9uFOO3uibc2FTFpy3g42ah9oUXmWCIioliGE8oTEcVQ/v7AzyOBgTMA2yzA8eXAzAERC2xJhfIAi4YDhxYC6VIC3cYChZuonUREP8L8ccCvTQHreNrjHcCMPyMW2JIyZQP6ad+/7QLgUBxYoD0umAjwfqcOMEHxMsE+fzZ8unUWZ/89j6efVL0hkTmWiIgolmFwi4gohpLDEP/YDjSoBJxaCRS1VzsiqVwR4Nxa/ePLt/VBLuPyw7V5XVDbuQJKFyuKhpPuqfrw+ODBrXva/8m08fdI4Vg8GZg8CCjgCGy/BFSspXZEUo48wNpjQJEywEdfoFZ+4JOJRnpsSqKt20R0KBCBFKzIHEtERBTLMLhFRBQDLdykH05YryKwZhxgHVft+EZyWOLbf4C8OfQT0m/8S+0wCmskz5kPedN54vLZczhx+Q381B7DfLC/jR1y5M6JHM12mX9gxOcx7j0zx1cZzu/RbF8zRdjpo8D4ftpFqAiw/ACQPKXa8Y0stSasDHBVrA08fQDMG6N2mCbLSCxvG5ljiYiIYgsGt4iIYphHz4H+04AcmYA/RgFWal7l75UgPnB4EZBW61N2Hwu8eq12GEF65+4YP6kBskfoucdByswZkDRBEmTMnEormTev9R3RrP+ZrwT8TFHYv0fzfc0UIR/eA4PaATYJgdmbgERJ1I4oMGczkL+Y9tUNuHFZVRIREVFsw+AWEVEM02cy8NYbWPib1hdMoCqjSIqkwKyBwEtPYPAsVWk0Ec0usEaRUf/Cw+c1zk4orpXMmR/unriF52Y5V05Yv0dzfs0UIXKerYe3gf4TgIxZVWUUkdH/cUv1S8b+1llVfgfPY5jVozNGbn+gKiLjMXYNb45aNWujtoszypSujcE7nql9wfhcwJJfG6FG1Zpo0KQZOow9Au+wlneKxLEvdg1Dw8pV4VKvPlycK8N1zGFol3qNHy5MaYEKJYrAIa8Dms1/gL/cWqCWsxOqtp+HS4w6ExGRGWBwi4goBpFZW1sO6+fZqmCkVe7rq5+9ahfw+q2qpOjxYiNGbLyLD6oYK8TG10xBPn7Ur3CY0x5oFgXBJ0Ny5weadATOHweunFWV3+bFrG7oPWs+RnQZjnORCvr44VTfamjxR1y0X7Ud23fsx8rWvphf3x4VJt9Sx2hHnR4L51wV8Nutchi9bhc2rZuP5t5zMPXsl8N2I36sHy6MdULehktg0XEJdmzZjB1zquHh2Ooo0fUwfGCNTKVroqajFR78dxUnVnTD+FdNUC/gLPYvHorfjzK6RUREpo/BLSKiGGTRZiAgAOjYSFUYSSft53/w1U9YH67vymJQhCd2j2yFenXqoKZzNTToPgenvNQ+jdfW/qhR2hEF89mj/K9/6eZqeryoA5xKFkPBvPaoOvwCHu8ZjTYN6qFOdSdUbjAIm754Ol/LmAgvc2EapvVviDr1GqJhw4a659l53nXtOwCfw2PQom49fX3DAdgU7Hl/yQ93NgxAs4Yt0a5NczSs3xCtWlRDmeZL4Km9qsNjXVG8cFtsdQ/Am+ODtddSHdVrNsPoQyE7qoazL+Tzb6nOSV7UGn0ae9yaoUq5cihd2gl1O0/HsXCfW5DHSzqhcuniKFwgL0p33a6fG8tnD4bUKY8SRR2Qt4Ar5ujTPSL1e/jy9xjx10xmbN8mwON/QNNO+uwqYwkMnMlA2ndI27wP2lepgCa/doZdpNJIvXDo8C143t+Mubv1f4zZO01D44xeODpnJnThLb+/0d11GA5au2LDpp4oklxWJkFFt2X4KWuoJnlkjr0zHm1HHsHHMmOxsEkmfZ1tL0yplwK3lw3GYncgVcnmGDCsFrJYBeDRwxToN7o2fho7EYN+m4YR5cw7X5aIiGIJQUREMUZBVyGy1xQiIEBVhMX7kFi/6aYqRJ6fnxApKwhRqYOqCMPz3x1EXO2jAhlbi7O+qjKino8QBawgrFMXFnXdjggPWed9UUx2TiMSpnUW48/rf6Dv7d1i9pBqIr0lRJKqq8Ubedj59WJyv4oitQVEylKuokaD0eKI/AG+R0WHrFYiTu5fxcXPz8dXnOyTVyTP1kps0v0jQtyd5yxSxEkqyk8KOkcvT6wS47oVE0lgKbKWqSWce20TCyolEkAKUW3CAjGuha2Ip73WJKWGivXnA3/QRtGvcGJhmaSwaD1mk/gvnHPge6iTsM3qIta+VBXaK97eKqtIUsRNvNSe491/tolNq1oIrV8qkleeLNZv3Cg2btotTj1Vh2vHnB9TQaSIn0E0XPtIX3VzvCiRKJ6w7XJIPDy5VkzqU0qk0J5jvLSFRPVeq4XuaT7aIjrZJRBx01QRYyLwS/K+ukcsG+Us0mjn1qbcXP3vRdwV+xYMF01t4wlY2Io+6jlF5vfw5e8xIq+ZzF6vpkLksRLijaeqMKJGJYQonkoVop/3ee0aM2mLuKn7m/AVHnePim62VgKpG4uDWp33ploimfb3m7bpUW1vcC/F5OLa315iZ7FKXgA1kTn2fn87YQUrUeC35/oKxWNuWZFAu77V2eatr1DX5ERVVuius0REROaEwS0iohji/QchrB2FaDpAVYTHY5monSaOsLBKJhwHHRKq6xIpVTsLkbz8VwJpt5eLLlUqiCaTTkT+3wjsSFVaFrIj5b1T1E8JEceuX1CA6s1yUSVRUHBLx2OuKJMAwiKFi1j+OWDkK464phaI4yB+/1z3UowrGlcAiYVzYG9PXBWdsloIixw9RIgQ4PPhIr/2nCwztxT7tBfkfXKuGPTbCnFZPg/vbbrnZWXbS1zWH63xFtsaOopaK1SwKxyPeuUScdI3FfuCv9i7fUWZCmO0Z6g8HyjsLCHSND0SqsOquf27KBQPInHl5SrgJPmKf1qkFxYJSokZ8odoz79AHO2cVlwc7BjNzSEif1x5TvsKFTMMn8ds3bkNCm5JvuJsqwwhgls6Ef49aAz9HsN7zWT+nHMLUTO/KkTCJx8h3kbyquPWSwhbrWn79KGqiG4vxcExTUXpfHaigGMZUblOU1EqrYVA6obigPZSnvbNIyxhIXL0UMHrz74MWEX8WG+xp35K7fpnJdIUrycaNGgQtNVzETVqtRezdRc4jbomp/3pJP8WiYjI7HBYIhFRDHH5NuDvDxSxVxXhSd4a2158RMB/k5FjdQ0ksrSBbevVeKx2R0RhO8DrHXDviaowJGcrzNl/GGv7lISNqoos60QpQq6AaFMKNfMnxKfrKzH586Q2hj6OLHRT0sfNXgE1U+lrpCTxtZ/m/x5vPqoKpEKPRcswbtIKzG4kV2Hzg+c9D8SxtoR4+xyPQ0wno/+ZNnmqooT2gmyKd8aYkS2QX47KsamGgQ2yIOD2Oow7rL7Jcy0WvHDAQFfdmKBwJSmZF0mfr0WtbDnhWKMNBs/bj1sph2Hjms7aM/y6BwtW47KvFbKVqYagf80a9mVyIv77GzhwQg7l0w/rsk6SBvF0jxTbXmjhYK2d09WYGqGJguLCysAIMUuDw8Yi+nuQ2KygYLy1C8z9W0C+IqoiEk6NAlwGaj9DlSMi8N+5dl7/NVrdwZwadqgy7AjS9tqIM6eO4cDWaXBOE/Q3YZkonvYXIuDv66tqwhbxY22QNrlcecQSGWovxMaNG4O2zduxa8dCdNVd4IJYWnEYIhERmR+2QomIYohXb/Rf00ckEhLIth3W3n+PgFeb4XKxM7JaxkU6l4URCnJlTKP/6v5a/zX6xEPmFPG1r5648e/Xe65W8W1gpR4HEQhQjySbQlVR3G8t2hSxh0PxSmjcazbOeckjAhBgYJW+hGlzQz6DkKxRfEAL2Fs9w47xmyFnzXkwdw3ele2LshHoCyZpsgIbfq+BrAEPcXbPcoztUhV2mUqi/76InLBoMPAAAAw6SURBVGAfXL/1Ev7aoxd7Ouvm+Arc2u9NBqdaDVAte4gQYSg2KJQlsfbVI0Ln9FtE5PdAFIKXnLxNAKnT68vGliaD/uvrV/qv38jPy0s/F10k+B3/HaP3vELiKlOxrH1etVpoAN77qaUNfTej37/xkVn7I/K8d0p3fQlOqMMCpW3ohGwRPDa3a2mktfiIp5cu6+YKDO7e/FGYdiEiAW8iIiLTxuAWEZE5SJ4PZRzTI574BPdrFyOVwRX9PuHtBxlxiovEqb4Ml0Te1zMmQgszcyHnL+jsmABvDk/DkmcXMG2fFer1slM7w+fz9yG8+2kXbr3+iP+d34iJ3Vxgb3UTf3Rvi/lqgvYveK2B22g5+Xrksy9C+gQPb5lCFRdJ0nz7OQ0Q0RCq+vyaiWIer+V1kCF5MqRyHKldWSLu02svyByrOAmTfc5U9bu2GGdeWgD+H+Hj9wLu/o7oWycNvI9NxoxLwQJOd9Zg63XtuwP84CMj3FL+Yfg9gsfaVBuH3yomhfvOfhgfPHPzxRoMWn4ZqbIGXjs+4pPQvtWfwS4iIjI/DG4REcUQVuqK/CmwcxMh1zDHJT3iWmRGyyNl8ccjgU93Z6Gk2huejyqjyeorsZBvyWIIIVSWgdZ9xIUH74AE+VG3uhxG+H0ikjHRqtkwBF87MWxp0bqXE5J9OI15vX/H2ZRt0Tat2vUVD1cORL8pV3SPUxVqgL6ztuPcoY7I8eEOTj7SVWss9QvGBQaRvM7j2Il7uk5xpLIvQp9Tv3PYedlLd07rVI3AObWKh7jy9x7i53zAlafa7yXKhf2aycxZqouLv4H0ydD8XgPPtD+Up2p7+0EXwIF7sLoXHurgMHxSY2QD/91vkSAhbOLGQbyEiUIOp/4Kmyqj8XuDHHi/qzWqtBmE4X3boHGfu3AZ3RQZ3+5HN5c/kKBCe7RfewxLmn3EnJolULtjP/Tt0AS1epxAykzxAO+j+CVPdtSe/kL7ianQLMLHZkfX3ccxv6EfZtd0QAXXjujSui4qNlyNnCPno0VyPxwf7ATbIjNwS/szfLmhOrLnLIhWS8OKuhMREZkeBreIiGKIXJn1X6/d1X8N378YUTIpLC0KYIhHexzyFnh/czEaqVXgI+KqSkvIFc73fGsWw2cWWh/18kYcDtaHct/cD0tuxEHe7lPQ8fMQzI/wF4AQwSN7/vo6ORFZMH4ftd6ZXBBFlSOUMfEqMJTy9cyFJPUGwiV9AG78eRbZetRHhMNvwge3/hyOzcHGEFlbW8EqSQ4UV79bJLBHpoTAu8fXdFMJ+Zx9CJE+P7SqSGRfAG8ubAh2Tv1wbVJfbHoWL9Q5DUd8e2RJZoGP3h5BgbQXG7DlynvtdXzChxCnJ2K/Bz0Dv8dwXjOZudTptDd2IuD2NVURjhvzgMpZACe1dZ8KPJ8POAerazkR0N6iYQr8d7LZ6r9+gySua/BQ+wPwPNwHWVVdhFjnRdeNd+B9dzsGVciGrOW6Yd7uJejdeSXuPjiDfduOY+OQQto1wRatFl/EU+24ITWKoFKP2di5axkmzFyCFRt3Yt++g1jaRUXUI3VsXrT/4xKePzyEic2c4NxlNvYe247RznIGP2uUHnMYt5544aP2N+v/wQNP7lzEH22/PpcgERGRqbCQs8qrx0RE9IOlctJP9L5f6+eF68U8dB9qhZ4LO+Bbu3FFmgLvtI7iza2qwgCvP5shf6uNeFtyLC5EtrP3YiSKOOxFw9EFcWjZQ6R3zIeE945i3yl32HdfipWDy+omTn88uS4qzzyGBw894GedHFkK/oThde5h7IJ/8ODRa3yMmwyZspZGt00/4Uarodhx/QFevrdA4gw54OA6E/vGZ8ayZrXRb5c3CjZpC+dUz3DhqiUq1PXDlF82wbJgITjWm4ZfvPuj/fJzuP/0LQLiJUe6jJlReehhgx28a73zoPjOWjh1Ywryqrqvud4xB4ruSYWS9lmQo2ABZAy4jX8OXEWiVsuwrreDyijzwzk3J1Qecxf2jWoj7b0XKDpzA4YWUoErv2tY1L4phu7zQ57y5ZE3wQtcvxOA0sP/0HdStXPqkGkEHhWsC8cEn5DBMS8S3N2LzUffolifP7BCndOIuLe8GSr3OoJ0dVugctq3uHHxBbImvYjJf95FnKQZUajlYizLPBP1Zkfs97A00xy4hPo9zjk0EzVtvvKaybw1LQs8uA2ceK4qwvDxnXZB8sXnaOnFccAIb+DPUXK0rZ5lPCBZIlUwoE8LYMca4LwXYMPwKRERUWzC4BYRUQxSqztw5BzweK/Wh5PzgxvJI62fmbM20KQasMJNVRqT13Uc2nEC/8vkhNrls3/zyovhenYa2/ecw8sURVCjriPkFNZ+z67hLvLCLpLzWV/pVwl9063Cnj4R/0a/65dwO4OD9q9dw95tx/EiWUFUqOSIrAZerM+tv7Dp2BvkqdkAjoaGPfo9w6mdh/A4fXm4lMykAmMaFdx6Ums7Hv2RB6d2H8P/0jvB5VvPqZ87rhz5C5dRBLWcbRH/0g6sueqPTDltkTd/XqSPwl/UV18zmadxfYElk4HNZyO3auKJwcCgd8DOGYhQmt/Hj0D5zPpssW0XVCURERHFFgxuERHFIOv3Ac0GAVP6AL80V5WGPB6B4vbjcDFwXqnPLGCZvhE2XluJmuEEJobPBUYvAvZqXysXV5Wx2LO9EzD5tC26Da2P7D5/oU312ai6YxOaf/+UYFEreHBri4txgoREUenWVaBWfsC1A+C2QFVGQGSDWzvXAb82BYZMA1r3VJVEREQUW3DOLSKiGKReRSB1cmC21k/zDXtaKCDTCJx6+wG+vr6htg94fz/8wNZbb2DRZv0cX5UcVWWs5o6lg4Zi8vAhWPTCD9emTcCj4oPQKKYFtqSP3vANAD69f4sITNFN9OPZ5gOKlAG2rwb+F7FlHSJN3qddNhWIlwCo31pVEhERUWzC4BYRUQwSNy4woC1w5zEwaqGqjGL9pwEvXgFD2kO/il2slwo/da0Hh/xpcKldDXS/7IyJYxyDhgLGCHK1s0rIXfoPvEqWAnHO90HBfM0wn4udkSno/hvw3hsY3kVVRECpMcDhCGZtrZgFXDwJtOwBJEmmKomIiCg24bBEIqIYJiAAKN8OOH0NOLIIKOmgdkSBvceBWlr/r4ZMpND6jRScH/z8rGHNec6Jot5A7aK2aSkwfjlQv5WqjAL3bgL1igDpMunn2ooXX+0gIiKi2ITBLSKiGOj6PaBES62fZg38NR8o8O0r23/27yWgWlf9zzy3BsjESb2JKLp4vQbqFAJePgNmbwacaqod3+HJA6B5ecD9ObDyMFC4lNpBREREsQ2HJRIRxUB22YEtUwGfD0DFDsD+f9WOb7TpIFC1i3bR1676u2YxsEVE0UwOF1y2H0iaAuhaD/hzkdrxjS6eApqWBf73FJi0koEtIiKiWI7BLSKiGKqioz4QJdXoBnQcBXi905cjyt0TaDYQcO0HJLLRZ4EVy6t2EhFFp2y2wJqjQPrMwNAOwM81gGeP1M4I8v0ATOgPNCkNvH4FzFivXSAbq51EREQUW3FYIhFRDPf0JdB1NLBD6xMmSQT8VBPo0ABwCGOooryqn7kGLNgIrNurz/5qUk3rA2r9wZSca5mIfjTvd/oA1Zp5QFxroJp2QWvaGShWVp9eaoicW2v9ImDjMsBTuyg6lgfGLAay5lIHEBERUWzG4BYRkYnYsB+YshI4dUVfTpYYKJQHyJ5Rv+qhvJrfeghc1PqAb731x5QrDPRtDdQqpy8TEcUYp/4G5o8Fju3TLmABQIKEQB4HIIcdYGWlP+apdlG7dl4f0JJyFwBa9wQatdNf+IiIiIg0DG4REZmY89f1GVnn/tMe39D6fF5qhyZ1cqCw1i8sag80rwnYZ1c7iIhiqkf3gG0rgYsn9YEsOY9WoIRJgLyFtK0IUL2RdnEro3YQERERBWFwi4jIxH3w1WdtySSG+PFUJRGRqfLTLmoBAfrH8eIzQ4uIiIi+isEtIiIiIiIiIiIyWVwtkYiIiIiIiIiITBaDW0REREREREREZLIY3CIiIiIiIiIiIpPF4BYREREREREREZksBreIiIiIiIiIiMhkMbhFREREREREREQmi8EtIiIiIiIiIiIyWQxuERERERERERGRyWJwi4iIiIiIiIiITBTwf2cpsSyhat/lAAAAAElFTkSuQmCC)\n",
    "\n",
    "*Hint*: For each $ x \\in \\left[0, 1\\right]$, $x$ can be denoted by its binary expansion $x=\\sum_{i=0}^{∞} x_i/2^i$, where $x_i \\in \\{ 0, 1\\}$. The above structure can be used to find $x_0,\\dots, x_n$. Then we can write $\\hat f(x)=f\\left(\\sum_{i=0}^{∞} x_i/2^i\\right).$\n",
    "\n",
    "After the proof, if we want to achieve $\\epsilon$ appoximation error based on the above neural network, the number of layers $n$ has to satisfy the condition $\\frac{1}{2^{n-1}}\\leq \\epsilon$, i.e. $n\\geq \\log_2 \\frac{1}{\\epsilon}$.\n",
    "\n",
    "2) Implement this neural network in any framework you like with different $n$ (for example $n = 3, 5, 10, 15$), and then plot the curve for absolute errors for different $n$. Compare the obtained plots with theoretical bound.\n"
   ]
  },
  {
   "cell_type": "code",
   "execution_count": null,
   "metadata": {
    "id": "3-ljPkkgA8QI"
   },
   "outputs": [],
   "source": [
    "# Your solution is here"
   ]
  }
 ],
 "metadata": {
  "accelerator": "GPU",
  "colab": {
   "provenance": []
  },
  "gpuClass": "standard",
  "kernelspec": {
   "display_name": "Python 3 (ipykernel)",
   "language": "python",
   "name": "python3"
  },
  "language_info": {
   "codemirror_mode": {
    "name": "ipython",
    "version": 3
   },
   "file_extension": ".py",
   "mimetype": "text/x-python",
   "name": "python",
   "nbconvert_exporter": "python",
   "pygments_lexer": "ipython3",
   "version": "3.8.11"
  }
 },
 "nbformat": 4,
 "nbformat_minor": 1
}
